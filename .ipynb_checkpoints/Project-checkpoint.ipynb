{
 "cells": [
  {
   "cell_type": "code",
   "execution_count": 1,
   "id": "648ed4e3",
   "metadata": {},
   "outputs": [],
   "source": [
    "import pandas as pd\n",
    "import numpy as np\n",
    "import matplotlib.pyplot as plt\n",
    "from scipy.optimize import curve_fit"
   ]
  },
  {
   "cell_type": "markdown",
   "id": "daeae44e",
   "metadata": {},
   "source": [
    "# Exploratory analysis of data"
   ]
  },
  {
   "cell_type": "code",
   "execution_count": 33,
   "id": "017e8cb5",
   "metadata": {},
   "outputs": [],
   "source": [
    "df_posts = pd.read_xml(\"../updated_database/posts.xml\")"
   ]
  },
  {
   "cell_type": "code",
   "execution_count": 3,
   "id": "58560418",
   "metadata": {},
   "outputs": [
    {
     "data": {
      "text/plain": [
       "(308300, 22)"
      ]
     },
     "execution_count": 3,
     "metadata": {},
     "output_type": "execute_result"
    }
   ],
   "source": [
    "df_posts.shape"
   ]
  },
  {
   "cell_type": "code",
   "execution_count": 34,
   "id": "453d7756",
   "metadata": {},
   "outputs": [],
   "source": [
    "df_sorted = df_posts.sort_values('CreationDate')"
   ]
  },
  {
   "cell_type": "code",
   "execution_count": 35,
   "id": "fdd7eec9",
   "metadata": {},
   "outputs": [
    {
     "data": {
      "text/html": [
       "<div>\n",
       "<style scoped>\n",
       "    .dataframe tbody tr th:only-of-type {\n",
       "        vertical-align: middle;\n",
       "    }\n",
       "\n",
       "    .dataframe tbody tr th {\n",
       "        vertical-align: top;\n",
       "    }\n",
       "\n",
       "    .dataframe thead th {\n",
       "        text-align: right;\n",
       "    }\n",
       "</style>\n",
       "<table border=\"1\" class=\"dataframe\">\n",
       "  <thead>\n",
       "    <tr style=\"text-align: right;\">\n",
       "      <th></th>\n",
       "      <th>Id</th>\n",
       "      <th>PostTypeId</th>\n",
       "      <th>AcceptedAnswerId</th>\n",
       "      <th>CreationDate</th>\n",
       "      <th>Score</th>\n",
       "      <th>ViewCount</th>\n",
       "      <th>Body</th>\n",
       "      <th>OwnerUserId</th>\n",
       "      <th>LastEditorUserId</th>\n",
       "      <th>LastEditDate</th>\n",
       "      <th>...</th>\n",
       "      <th>Tags</th>\n",
       "      <th>AnswerCount</th>\n",
       "      <th>CommentCount</th>\n",
       "      <th>FavoriteCount</th>\n",
       "      <th>ContentLicense</th>\n",
       "      <th>ParentId</th>\n",
       "      <th>LastEditorDisplayName</th>\n",
       "      <th>OwnerDisplayName</th>\n",
       "      <th>CommunityOwnedDate</th>\n",
       "      <th>ClosedDate</th>\n",
       "    </tr>\n",
       "  </thead>\n",
       "  <tbody>\n",
       "    <tr>\n",
       "      <th>0</th>\n",
       "      <td>1</td>\n",
       "      <td>1</td>\n",
       "      <td>2.0</td>\n",
       "      <td>2015-10-29T15:56:52.933</td>\n",
       "      <td>33</td>\n",
       "      <td>520.0</td>\n",
       "      <td>&lt;p&gt;Estoy creando un servicio usando &lt;em&gt;ASP.NE...</td>\n",
       "      <td>23.0</td>\n",
       "      <td>13558.0</td>\n",
       "      <td>2019-07-07T21:36:17.737</td>\n",
       "      <td>...</td>\n",
       "      <td>&lt;.net&gt;&lt;asp.net-web-api&gt;&lt;asp.net&gt;</td>\n",
       "      <td>1.0</td>\n",
       "      <td>2</td>\n",
       "      <td>4.0</td>\n",
       "      <td>CC BY-SA 4.0</td>\n",
       "      <td>NaN</td>\n",
       "      <td>None</td>\n",
       "      <td>None</td>\n",
       "      <td>None</td>\n",
       "      <td>None</td>\n",
       "    </tr>\n",
       "    <tr>\n",
       "      <th>1</th>\n",
       "      <td>2</td>\n",
       "      <td>2</td>\n",
       "      <td>NaN</td>\n",
       "      <td>2015-10-29T19:14:23.673</td>\n",
       "      <td>26</td>\n",
       "      <td>NaN</td>\n",
       "      <td>&lt;p&gt;He encontrado la solución.&lt;/p&gt;\\n\\n&lt;p&gt;Result...</td>\n",
       "      <td>23.0</td>\n",
       "      <td>NaN</td>\n",
       "      <td>None</td>\n",
       "      <td>...</td>\n",
       "      <td>None</td>\n",
       "      <td>NaN</td>\n",
       "      <td>2</td>\n",
       "      <td>NaN</td>\n",
       "      <td>CC BY-SA 3.0</td>\n",
       "      <td>1.0</td>\n",
       "      <td>None</td>\n",
       "      <td>None</td>\n",
       "      <td>None</td>\n",
       "      <td>None</td>\n",
       "    </tr>\n",
       "  </tbody>\n",
       "</table>\n",
       "<p>2 rows × 22 columns</p>\n",
       "</div>"
      ],
      "text/plain": [
       "   Id  PostTypeId  AcceptedAnswerId             CreationDate  Score  \\\n",
       "0   1           1               2.0  2015-10-29T15:56:52.933     33   \n",
       "1   2           2               NaN  2015-10-29T19:14:23.673     26   \n",
       "\n",
       "   ViewCount                                               Body  OwnerUserId  \\\n",
       "0      520.0  <p>Estoy creando un servicio usando <em>ASP.NE...         23.0   \n",
       "1        NaN  <p>He encontrado la solución.</p>\\n\\n<p>Result...         23.0   \n",
       "\n",
       "   LastEditorUserId             LastEditDate  ...  \\\n",
       "0           13558.0  2019-07-07T21:36:17.737  ...   \n",
       "1               NaN                     None  ...   \n",
       "\n",
       "                               Tags AnswerCount CommentCount  FavoriteCount  \\\n",
       "0  <.net><asp.net-web-api><asp.net>         1.0            2            4.0   \n",
       "1                              None         NaN            2            NaN   \n",
       "\n",
       "   ContentLicense  ParentId LastEditorDisplayName  OwnerDisplayName  \\\n",
       "0    CC BY-SA 4.0       NaN                  None              None   \n",
       "1    CC BY-SA 3.0       1.0                  None              None   \n",
       "\n",
       "  CommunityOwnedDate ClosedDate  \n",
       "0               None       None  \n",
       "1               None       None  \n",
       "\n",
       "[2 rows x 22 columns]"
      ]
     },
     "execution_count": 35,
     "metadata": {},
     "output_type": "execute_result"
    }
   ],
   "source": [
    "df_sorted.head(2)"
   ]
  },
  {
   "cell_type": "code",
   "execution_count": 36,
   "id": "677055b9",
   "metadata": {},
   "outputs": [
    {
     "data": {
      "text/html": [
       "<div>\n",
       "<style scoped>\n",
       "    .dataframe tbody tr th:only-of-type {\n",
       "        vertical-align: middle;\n",
       "    }\n",
       "\n",
       "    .dataframe tbody tr th {\n",
       "        vertical-align: top;\n",
       "    }\n",
       "\n",
       "    .dataframe thead th {\n",
       "        text-align: right;\n",
       "    }\n",
       "</style>\n",
       "<table border=\"1\" class=\"dataframe\">\n",
       "  <thead>\n",
       "    <tr style=\"text-align: right;\">\n",
       "      <th></th>\n",
       "      <th>Id</th>\n",
       "      <th>PostTypeId</th>\n",
       "      <th>AcceptedAnswerId</th>\n",
       "      <th>CreationDate</th>\n",
       "      <th>Score</th>\n",
       "      <th>ViewCount</th>\n",
       "      <th>Body</th>\n",
       "      <th>OwnerUserId</th>\n",
       "      <th>LastEditorUserId</th>\n",
       "      <th>LastEditDate</th>\n",
       "      <th>...</th>\n",
       "      <th>Tags</th>\n",
       "      <th>AnswerCount</th>\n",
       "      <th>CommentCount</th>\n",
       "      <th>FavoriteCount</th>\n",
       "      <th>ContentLicense</th>\n",
       "      <th>ParentId</th>\n",
       "      <th>LastEditorDisplayName</th>\n",
       "      <th>OwnerDisplayName</th>\n",
       "      <th>CommunityOwnedDate</th>\n",
       "      <th>ClosedDate</th>\n",
       "    </tr>\n",
       "  </thead>\n",
       "  <tbody>\n",
       "    <tr>\n",
       "      <th>308298</th>\n",
       "      <td>431641</td>\n",
       "      <td>1</td>\n",
       "      <td>NaN</td>\n",
       "      <td>2021-02-28T02:33:33.357</td>\n",
       "      <td>0</td>\n",
       "      <td>2.0</td>\n",
       "      <td>&lt;p&gt;Estoy tratando de crear un script en powers...</td>\n",
       "      <td>144334.0</td>\n",
       "      <td>NaN</td>\n",
       "      <td>None</td>\n",
       "      <td>...</td>\n",
       "      <td>&lt;script&gt;&lt;email&gt;&lt;powershell&gt;&lt;codificación&gt;&lt;outl...</td>\n",
       "      <td>0.0</td>\n",
       "      <td>0</td>\n",
       "      <td>NaN</td>\n",
       "      <td>CC BY-SA 4.0</td>\n",
       "      <td>NaN</td>\n",
       "      <td>None</td>\n",
       "      <td>None</td>\n",
       "      <td>None</td>\n",
       "      <td>None</td>\n",
       "    </tr>\n",
       "    <tr>\n",
       "      <th>308299</th>\n",
       "      <td>431642</td>\n",
       "      <td>1</td>\n",
       "      <td>NaN</td>\n",
       "      <td>2021-02-28T02:50:40.080</td>\n",
       "      <td>0</td>\n",
       "      <td>3.0</td>\n",
       "      <td>&lt;p&gt;Estoy  realizando un tabla maestro detalle ...</td>\n",
       "      <td>207109.0</td>\n",
       "      <td>NaN</td>\n",
       "      <td>None</td>\n",
       "      <td>...</td>\n",
       "      <td>&lt;sql-server&gt;&lt;stored-procedure&gt;</td>\n",
       "      <td>0.0</td>\n",
       "      <td>0</td>\n",
       "      <td>NaN</td>\n",
       "      <td>CC BY-SA 4.0</td>\n",
       "      <td>NaN</td>\n",
       "      <td>None</td>\n",
       "      <td>None</td>\n",
       "      <td>None</td>\n",
       "      <td>None</td>\n",
       "    </tr>\n",
       "  </tbody>\n",
       "</table>\n",
       "<p>2 rows × 22 columns</p>\n",
       "</div>"
      ],
      "text/plain": [
       "            Id  PostTypeId  AcceptedAnswerId             CreationDate  Score  \\\n",
       "308298  431641           1               NaN  2021-02-28T02:33:33.357      0   \n",
       "308299  431642           1               NaN  2021-02-28T02:50:40.080      0   \n",
       "\n",
       "        ViewCount                                               Body  \\\n",
       "308298        2.0  <p>Estoy tratando de crear un script en powers...   \n",
       "308299        3.0  <p>Estoy  realizando un tabla maestro detalle ...   \n",
       "\n",
       "        OwnerUserId  LastEditorUserId LastEditDate  ...  \\\n",
       "308298     144334.0               NaN         None  ...   \n",
       "308299     207109.0               NaN         None  ...   \n",
       "\n",
       "                                                     Tags AnswerCount  \\\n",
       "308298  <script><email><powershell><codificación><outl...         0.0   \n",
       "308299                     <sql-server><stored-procedure>         0.0   \n",
       "\n",
       "       CommentCount  FavoriteCount  ContentLicense  ParentId  \\\n",
       "308298            0            NaN    CC BY-SA 4.0       NaN   \n",
       "308299            0            NaN    CC BY-SA 4.0       NaN   \n",
       "\n",
       "       LastEditorDisplayName  OwnerDisplayName CommunityOwnedDate ClosedDate  \n",
       "308298                  None              None               None       None  \n",
       "308299                  None              None               None       None  \n",
       "\n",
       "[2 rows x 22 columns]"
      ]
     },
     "execution_count": 36,
     "metadata": {},
     "output_type": "execute_result"
    }
   ],
   "source": [
    "df_sorted.tail(2)"
   ]
  },
  {
   "cell_type": "code",
   "execution_count": 7,
   "id": "37f7e64c",
   "metadata": {},
   "outputs": [],
   "source": [
    "questions = df_posts[data_posts['PostTypeId']==1]"
   ]
  },
  {
   "cell_type": "code",
   "execution_count": 8,
   "id": "8106f2dc",
   "metadata": {},
   "outputs": [
    {
     "data": {
      "text/plain": [
       "145623"
      ]
     },
     "execution_count": 8,
     "metadata": {},
     "output_type": "execute_result"
    }
   ],
   "source": [
    "len(questions)"
   ]
  },
  {
   "cell_type": "code",
   "execution_count": 37,
   "id": "8548ad29",
   "metadata": {},
   "outputs": [
    {
     "data": {
      "text/plain": [
       "2    159308\n",
       "1    145623\n",
       "5      1672\n",
       "4      1672\n",
       "6        23\n",
       "7         2\n",
       "Name: PostTypeId, dtype: int64"
      ]
     },
     "execution_count": 37,
     "metadata": {},
     "output_type": "execute_result"
    }
   ],
   "source": [
    "df_posts['PostTypeId'].value_counts()"
   ]
  },
  {
   "cell_type": "code",
   "execution_count": 10,
   "id": "cacbcb50",
   "metadata": {},
   "outputs": [],
   "source": [
    "df_votes = pd.read_xml(\"../updated_database/votes.xml\")"
   ]
  },
  {
   "cell_type": "code",
   "execution_count": 11,
   "id": "e9b0572c",
   "metadata": {},
   "outputs": [
    {
     "data": {
      "text/html": [
       "<div>\n",
       "<style scoped>\n",
       "    .dataframe tbody tr th:only-of-type {\n",
       "        vertical-align: middle;\n",
       "    }\n",
       "\n",
       "    .dataframe tbody tr th {\n",
       "        vertical-align: top;\n",
       "    }\n",
       "\n",
       "    .dataframe thead th {\n",
       "        text-align: right;\n",
       "    }\n",
       "</style>\n",
       "<table border=\"1\" class=\"dataframe\">\n",
       "  <thead>\n",
       "    <tr style=\"text-align: right;\">\n",
       "      <th></th>\n",
       "      <th>Id</th>\n",
       "      <th>PostId</th>\n",
       "      <th>VoteTypeId</th>\n",
       "      <th>CreationDate</th>\n",
       "      <th>UserId</th>\n",
       "      <th>BountyAmount</th>\n",
       "    </tr>\n",
       "  </thead>\n",
       "  <tbody>\n",
       "    <tr>\n",
       "      <th>0</th>\n",
       "      <td>1</td>\n",
       "      <td>1</td>\n",
       "      <td>2</td>\n",
       "      <td>2015-10-29T00:00:00.000</td>\n",
       "      <td>NaN</td>\n",
       "      <td>NaN</td>\n",
       "    </tr>\n",
       "  </tbody>\n",
       "</table>\n",
       "</div>"
      ],
      "text/plain": [
       "   Id  PostId  VoteTypeId             CreationDate  UserId  BountyAmount\n",
       "0   1       1           2  2015-10-29T00:00:00.000     NaN           NaN"
      ]
     },
     "execution_count": 11,
     "metadata": {},
     "output_type": "execute_result"
    }
   ],
   "source": [
    "df_votes.head(1)"
   ]
  },
  {
   "cell_type": "code",
   "execution_count": 12,
   "id": "fc6432eb",
   "metadata": {},
   "outputs": [
    {
     "data": {
      "text/plain": [
       "(628897, 6)"
      ]
     },
     "execution_count": 12,
     "metadata": {},
     "output_type": "execute_result"
    }
   ],
   "source": [
    "df_votes.shape"
   ]
  },
  {
   "cell_type": "code",
   "execution_count": 13,
   "id": "adc14dd3",
   "metadata": {},
   "outputs": [
    {
     "data": {
      "text/plain": [
       "2     329266\n",
       "3      95881\n",
       "1      62007\n",
       "10     47813\n",
       "16     40618\n",
       "15     24294\n",
       "5      22758\n",
       "11      3832\n",
       "8       1169\n",
       "9       1163\n",
       "4         52\n",
       "12        44\n",
       "Name: VoteTypeId, dtype: int64"
      ]
     },
     "execution_count": 13,
     "metadata": {},
     "output_type": "execute_result"
    }
   ],
   "source": [
    "df_votes['VoteTypeId'].value_counts()"
   ]
  },
  {
   "cell_type": "code",
   "execution_count": 14,
   "id": "0a24ee80",
   "metadata": {},
   "outputs": [],
   "source": [
    "accepted = df_votes[df_votes['VoteTypeId']==2]"
   ]
  },
  {
   "cell_type": "code",
   "execution_count": 15,
   "id": "e32526dc",
   "metadata": {},
   "outputs": [
    {
     "data": {
      "text/html": [
       "<div>\n",
       "<style scoped>\n",
       "    .dataframe tbody tr th:only-of-type {\n",
       "        vertical-align: middle;\n",
       "    }\n",
       "\n",
       "    .dataframe tbody tr th {\n",
       "        vertical-align: top;\n",
       "    }\n",
       "\n",
       "    .dataframe thead th {\n",
       "        text-align: right;\n",
       "    }\n",
       "</style>\n",
       "<table border=\"1\" class=\"dataframe\">\n",
       "  <thead>\n",
       "    <tr style=\"text-align: right;\">\n",
       "      <th></th>\n",
       "      <th>Id</th>\n",
       "      <th>PostId</th>\n",
       "      <th>VoteTypeId</th>\n",
       "      <th>CreationDate</th>\n",
       "      <th>UserId</th>\n",
       "      <th>BountyAmount</th>\n",
       "    </tr>\n",
       "  </thead>\n",
       "  <tbody>\n",
       "    <tr>\n",
       "      <th>0</th>\n",
       "      <td>1</td>\n",
       "      <td>1</td>\n",
       "      <td>2</td>\n",
       "      <td>2015-10-29T00:00:00.000</td>\n",
       "      <td>NaN</td>\n",
       "      <td>NaN</td>\n",
       "    </tr>\n",
       "    <tr>\n",
       "      <th>1</th>\n",
       "      <td>2</td>\n",
       "      <td>2</td>\n",
       "      <td>2</td>\n",
       "      <td>2015-10-29T00:00:00.000</td>\n",
       "      <td>NaN</td>\n",
       "      <td>NaN</td>\n",
       "    </tr>\n",
       "  </tbody>\n",
       "</table>\n",
       "</div>"
      ],
      "text/plain": [
       "   Id  PostId  VoteTypeId             CreationDate  UserId  BountyAmount\n",
       "0   1       1           2  2015-10-29T00:00:00.000     NaN           NaN\n",
       "1   2       2           2  2015-10-29T00:00:00.000     NaN           NaN"
      ]
     },
     "execution_count": 15,
     "metadata": {},
     "output_type": "execute_result"
    }
   ],
   "source": [
    "accepted.head(2)"
   ]
  },
  {
   "cell_type": "markdown",
   "id": "3dbbf7a6",
   "metadata": {},
   "source": [
    "# Analysis of user's reputation over the years"
   ]
  },
  {
   "cell_type": "code",
   "execution_count": 16,
   "id": "f277cd21",
   "metadata": {},
   "outputs": [],
   "source": [
    "df_users = pd.read_xml(\"../updated_database/users.xml\")"
   ]
  },
  {
   "cell_type": "code",
   "execution_count": 539,
   "id": "33e51162",
   "metadata": {},
   "outputs": [
    {
     "data": {
      "text/plain": [
       "197836"
      ]
     },
     "execution_count": 539,
     "metadata": {},
     "output_type": "execute_result"
    }
   ],
   "source": [
    "len(df_users)"
   ]
  },
  {
   "cell_type": "code",
   "execution_count": 540,
   "id": "f2bef49b",
   "metadata": {},
   "outputs": [
    {
     "data": {
      "text/html": [
       "<div>\n",
       "<style scoped>\n",
       "    .dataframe tbody tr th:only-of-type {\n",
       "        vertical-align: middle;\n",
       "    }\n",
       "\n",
       "    .dataframe tbody tr th {\n",
       "        vertical-align: top;\n",
       "    }\n",
       "\n",
       "    .dataframe thead th {\n",
       "        text-align: right;\n",
       "    }\n",
       "</style>\n",
       "<table border=\"1\" class=\"dataframe\">\n",
       "  <thead>\n",
       "    <tr style=\"text-align: right;\">\n",
       "      <th></th>\n",
       "      <th>Id</th>\n",
       "      <th>Reputation</th>\n",
       "      <th>CreationDate</th>\n",
       "      <th>DisplayName</th>\n",
       "      <th>LastAccessDate</th>\n",
       "      <th>WebsiteUrl</th>\n",
       "      <th>Location</th>\n",
       "      <th>AboutMe</th>\n",
       "      <th>Views</th>\n",
       "      <th>UpVotes</th>\n",
       "      <th>DownVotes</th>\n",
       "      <th>AccountId</th>\n",
       "      <th>ProfileImageUrl</th>\n",
       "    </tr>\n",
       "  </thead>\n",
       "  <tbody>\n",
       "    <tr>\n",
       "      <th>0</th>\n",
       "      <td>-1</td>\n",
       "      <td>1</td>\n",
       "      <td>2015-10-26T21:36:24.767</td>\n",
       "      <td>Comunidad</td>\n",
       "      <td>2015-10-26T21:36:24.767</td>\n",
       "      <td>NaN</td>\n",
       "      <td>en la granja de servidores</td>\n",
       "      <td>&lt;p&gt;Hola, no soy una persona real.&lt;/p&gt;\\n\\n&lt;p&gt;¡S...</td>\n",
       "      <td>251</td>\n",
       "      <td>9652</td>\n",
       "      <td>17781</td>\n",
       "      <td>-1.0</td>\n",
       "      <td>None</td>\n",
       "    </tr>\n",
       "  </tbody>\n",
       "</table>\n",
       "</div>"
      ],
      "text/plain": [
       "   Id  Reputation             CreationDate DisplayName  \\\n",
       "0  -1           1  2015-10-26T21:36:24.767   Comunidad   \n",
       "\n",
       "            LastAccessDate WebsiteUrl                    Location  \\\n",
       "0  2015-10-26T21:36:24.767        NaN  en la granja de servidores   \n",
       "\n",
       "                                             AboutMe  Views  UpVotes  \\\n",
       "0  <p>Hola, no soy una persona real.</p>\\n\\n<p>¡S...    251     9652   \n",
       "\n",
       "   DownVotes  AccountId ProfileImageUrl  \n",
       "0      17781       -1.0            None  "
      ]
     },
     "execution_count": 540,
     "metadata": {},
     "output_type": "execute_result"
    }
   ],
   "source": [
    "df_users.head(1)"
   ]
  },
  {
   "cell_type": "code",
   "execution_count": 541,
   "id": "01810aa0",
   "metadata": {},
   "outputs": [
    {
     "data": {
      "text/plain": [
       "91715"
      ]
     },
     "execution_count": 541,
     "metadata": {},
     "output_type": "execute_result"
    }
   ],
   "source": [
    "df_users['Reputation'].max()"
   ]
  },
  {
   "cell_type": "code",
   "execution_count": 542,
   "id": "26462880",
   "metadata": {},
   "outputs": [
    {
     "name": "stdout",
     "output_type": "stream",
     "text": [
      "Id                                                                95\n",
      "Reputation                                                     91715\n",
      "CreationDate                                 2015-12-01T16:53:09.890\n",
      "DisplayName                                                 Jorgesys\n",
      "LastAccessDate                               2021-02-27T23:14:52.843\n",
      "WebsiteUrl                                 http://www.cplusplus.com/\n",
      "Location                   Mexico City, CDMX, Mexico / Iași, Romania\n",
      "AboutMe            <p><a href=\"/questions/tagged/java\" class=\"pos...\n",
      "Views                                                          13489\n",
      "UpVotes                                                         8162\n",
      "DownVotes                                                       2276\n",
      "AccountId                                                    91056.0\n",
      "ProfileImageUrl                                                 None\n",
      "Name: 86, dtype: object\n"
     ]
    }
   ],
   "source": [
    "highest_reputation_index = df_users['Reputation'].idxmax()\n",
    "highest_reputation_person = df_users.loc[highest_reputation_index]\n",
    "print(highest_reputation_person)"
   ]
  },
  {
   "cell_type": "code",
   "execution_count": 543,
   "id": "ab74dd72",
   "metadata": {},
   "outputs": [
    {
     "data": {
      "text/plain": [
       "1"
      ]
     },
     "execution_count": 543,
     "metadata": {},
     "output_type": "execute_result"
    }
   ],
   "source": [
    "df_users['Reputation'].min()"
   ]
  },
  {
   "cell_type": "code",
   "execution_count": 544,
   "id": "51d6c8f1",
   "metadata": {},
   "outputs": [],
   "source": [
    "df_users['Year'] = pd.to_datetime(df_users['CreationDate']).dt.year\n",
    "df_users['Month'] = pd.to_datetime(df_users['CreationDate']).dt.month"
   ]
  },
  {
   "cell_type": "code",
   "execution_count": 545,
   "id": "1107963d",
   "metadata": {},
   "outputs": [
    {
     "data": {
      "text/html": [
       "<div>\n",
       "<style scoped>\n",
       "    .dataframe tbody tr th:only-of-type {\n",
       "        vertical-align: middle;\n",
       "    }\n",
       "\n",
       "    .dataframe tbody tr th {\n",
       "        vertical-align: top;\n",
       "    }\n",
       "\n",
       "    .dataframe thead th {\n",
       "        text-align: right;\n",
       "    }\n",
       "</style>\n",
       "<table border=\"1\" class=\"dataframe\">\n",
       "  <thead>\n",
       "    <tr style=\"text-align: right;\">\n",
       "      <th></th>\n",
       "      <th>Id</th>\n",
       "      <th>Reputation</th>\n",
       "      <th>CreationDate</th>\n",
       "      <th>DisplayName</th>\n",
       "      <th>LastAccessDate</th>\n",
       "      <th>WebsiteUrl</th>\n",
       "      <th>Location</th>\n",
       "      <th>AboutMe</th>\n",
       "      <th>Views</th>\n",
       "      <th>UpVotes</th>\n",
       "      <th>DownVotes</th>\n",
       "      <th>AccountId</th>\n",
       "      <th>ProfileImageUrl</th>\n",
       "      <th>Year</th>\n",
       "      <th>Month</th>\n",
       "    </tr>\n",
       "  </thead>\n",
       "  <tbody>\n",
       "    <tr>\n",
       "      <th>0</th>\n",
       "      <td>-1</td>\n",
       "      <td>1</td>\n",
       "      <td>2015-10-26T21:36:24.767</td>\n",
       "      <td>Comunidad</td>\n",
       "      <td>2015-10-26T21:36:24.767</td>\n",
       "      <td>NaN</td>\n",
       "      <td>en la granja de servidores</td>\n",
       "      <td>&lt;p&gt;Hola, no soy una persona real.&lt;/p&gt;\\n\\n&lt;p&gt;¡S...</td>\n",
       "      <td>251</td>\n",
       "      <td>9652</td>\n",
       "      <td>17781</td>\n",
       "      <td>-1.0</td>\n",
       "      <td>None</td>\n",
       "      <td>2015</td>\n",
       "      <td>10</td>\n",
       "    </tr>\n",
       "    <tr>\n",
       "      <th>1</th>\n",
       "      <td>1</td>\n",
       "      <td>101</td>\n",
       "      <td>2015-10-26T22:50:12.710</td>\n",
       "      <td>Geoff Dalgas</td>\n",
       "      <td>2021-01-05T19:45:26.807</td>\n",
       "      <td>http://stackoverflow.com</td>\n",
       "      <td>Corvallis, OR</td>\n",
       "      <td>&lt;p&gt;Dev #2 who helped create Stack Overflow cur...</td>\n",
       "      <td>2883</td>\n",
       "      <td>0</td>\n",
       "      <td>0</td>\n",
       "      <td>2.0</td>\n",
       "      <td>https://i.stack.imgur.com/nDllk.png?s=128&amp;g=1</td>\n",
       "      <td>2015</td>\n",
       "      <td>10</td>\n",
       "    </tr>\n",
       "  </tbody>\n",
       "</table>\n",
       "</div>"
      ],
      "text/plain": [
       "   Id  Reputation             CreationDate   DisplayName  \\\n",
       "0  -1           1  2015-10-26T21:36:24.767     Comunidad   \n",
       "1   1         101  2015-10-26T22:50:12.710  Geoff Dalgas   \n",
       "\n",
       "            LastAccessDate                WebsiteUrl  \\\n",
       "0  2015-10-26T21:36:24.767                       NaN   \n",
       "1  2021-01-05T19:45:26.807  http://stackoverflow.com   \n",
       "\n",
       "                     Location  \\\n",
       "0  en la granja de servidores   \n",
       "1               Corvallis, OR   \n",
       "\n",
       "                                             AboutMe  Views  UpVotes  \\\n",
       "0  <p>Hola, no soy una persona real.</p>\\n\\n<p>¡S...    251     9652   \n",
       "1  <p>Dev #2 who helped create Stack Overflow cur...   2883        0   \n",
       "\n",
       "   DownVotes  AccountId                                ProfileImageUrl  Year  \\\n",
       "0      17781       -1.0                                           None  2015   \n",
       "1          0        2.0  https://i.stack.imgur.com/nDllk.png?s=128&g=1  2015   \n",
       "\n",
       "   Month  \n",
       "0     10  \n",
       "1     10  "
      ]
     },
     "execution_count": 545,
     "metadata": {},
     "output_type": "execute_result"
    }
   ],
   "source": [
    "df_users.head(2)"
   ]
  },
  {
   "cell_type": "code",
   "execution_count": 546,
   "id": "f96cf5c0",
   "metadata": {},
   "outputs": [],
   "source": [
    "yearly_reputation = df_users.groupby('Year')['Reputation'].sum()"
   ]
  },
  {
   "cell_type": "code",
   "execution_count": 547,
   "id": "05e2a478",
   "metadata": {},
   "outputs": [
    {
     "data": {
      "text/plain": [
       "Year\n",
       "2015     709408\n",
       "2016    1659920\n",
       "2017    1197281\n",
       "2018     804617\n",
       "2019     542802\n",
       "2020     378907\n",
       "2021      29855\n",
       "Name: Reputation, dtype: int64"
      ]
     },
     "execution_count": 547,
     "metadata": {},
     "output_type": "execute_result"
    }
   ],
   "source": [
    "yearly_reputation"
   ]
  },
  {
   "cell_type": "code",
   "execution_count": 548,
   "id": "4f6b38e5",
   "metadata": {},
   "outputs": [],
   "source": [
    "df_users_2015 = df_users[df_users['Year']==2015]\n",
    "df_users_2016 = df_users[df_users['Year']==2016]\n",
    "df_users_2017 = df_users[df_users['Year']==2017]\n",
    "df_users_2018 = df_users[df_users['Year']==2018]\n",
    "df_users_2019 = df_users[df_users['Year']==2019]\n",
    "df_users_2020 = df_users[df_users['Year']==2020]\n",
    "df_users_2021 = df_users[df_users['Year']==2021]"
   ]
  },
  {
   "cell_type": "code",
   "execution_count": 569,
   "id": "3a3a4f6f",
   "metadata": {},
   "outputs": [
    {
     "data": {
      "image/png": "[encoded data removed]",
      "text/plain": [
       "<Figure size 432x288 with 1 Axes>"
      ]
     },
     "metadata": {
      "needs_background": "light"
     },
     "output_type": "display_data"
    }
   ],
   "source": [
    "# Count the number of users for each reputation level\n",
    "reputation_counts = df_users_2015['Reputation'].value_counts(sort=False).sort_index()\n",
    "\n",
    "# Create a Pandas DataFrame with the reputation and count data\n",
    "df = pd.DataFrame({'Reputation': reputation_counts.index, 'Count': reputation_counts.values})\n",
    "\n",
    "# Calculate the logarithm of the data\n",
    "df['log10_Reputation'] = np.array(df['Reputation'])\n",
    "df['log10_Count'] = np.array(df['Count'])\n",
    "\n",
    "\n",
    "# Plot the data and the fitted curve using Matplotlib\n",
    "plt.plot(df['log10_Reputation'], df['log10_Count'], 'o', label='Data(2015)')\n",
    "\n",
    "# set x and y labels\n",
    "plt.xlabel('log(Reputation)')\n",
    "plt.ylabel('log(No of users)')\n",
    "\n",
    "plt.yscale('log')\n",
    "plt.xscale('log')\n",
    "\n",
    "plt.legend()\n",
    "plt.show()"
   ]
  },
  {
   "cell_type": "code",
   "execution_count": 578,
   "id": "2636b1da",
   "metadata": {},
   "outputs": [
    {
     "data": {
      "image/png": "[encoded data removed]",
      "text/plain": [
       "<Figure size 432x288 with 1 Axes>"
      ]
     },
     "metadata": {
      "needs_background": "light"
     },
     "output_type": "display_data"
    }
   ],
   "source": [
    "df_users_2015_10 = df_users_2015[df_users_2015['Month']==10]\n",
    "\n",
    "# Count the number of users for each reputation level\n",
    "reputation_counts = df_users_2015_10['Reputation'].value_counts(sort=False).sort_index()\n",
    "\n",
    "# Create a Pandas DataFrame with the reputation and count data\n",
    "df = pd.DataFrame({'Reputation': reputation_counts.index, 'Count': reputation_counts.values})\n",
    "\n",
    "# Calculate the logarithm of the data\n",
    "df['log10_Reputation'] = np.array(df['Reputation'])\n",
    "df['log10_Count'] = np.array(df['Count'])\n",
    "\n",
    "\n",
    "# Plot the data and the fitted curve using Matplotlib\n",
    "plt.plot(df['log10_Reputation'], df['log10_Count'], 'o', label='Data(Aug 2015)')\n",
    "\n",
    "# set x and y labels\n",
    "plt.xlabel('log(Reputation)')\n",
    "plt.ylabel('log(No of users)')\n",
    "\n",
    "plt.yscale('log')\n",
    "plt.xscale('log')\n",
    "\n",
    "plt.legend()\n",
    "plt.show()"
   ]
  },
  {
   "cell_type": "code",
   "execution_count": 571,
   "id": "33f453a2",
   "metadata": {},
   "outputs": [
    {
     "data": {
      "image/png": "[encoded data removed]",
      "text/plain": [
       "<Figure size 432x288 with 1 Axes>"
      ]
     },
     "metadata": {
      "needs_background": "light"
     },
     "output_type": "display_data"
    }
   ],
   "source": [
    "# Count the number of users for each reputation level\n",
    "reputation_counts = df_users_2016['Reputation'].value_counts(sort=False).sort_index()\n",
    "\n",
    "# Create a Pandas DataFrame with the reputation and count data\n",
    "df = pd.DataFrame({'Reputation': reputation_counts.index, 'Count': reputation_counts.values})\n",
    "\n",
    "# Calculate the logarithm of the data\n",
    "df['log10_Reputation'] = np.array(df['Reputation'])\n",
    "df['log10_Count'] = np.array(df['Count'])\n",
    "\n",
    "\n",
    "# Plot the data and the fitted curve using Matplotlib\n",
    "plt.plot(df['log10_Reputation'], df['log10_Count'], 'o', label='Data(2016)')\n",
    "\n",
    "# set x and y labels\n",
    "plt.xlabel('log(Reputation)')\n",
    "plt.ylabel('log(No of users)')\n",
    "\n",
    "plt.yscale('log')\n",
    "plt.xscale('log')\n",
    "\n",
    "plt.legend()\n",
    "plt.show()"
   ]
  },
  {
   "cell_type": "code",
   "execution_count": 572,
   "id": "22a8235b",
   "metadata": {},
   "outputs": [
    {
     "data": {
      "image/png": "[encoded data removed]",
      "text/plain": [
       "<Figure size 432x288 with 1 Axes>"
      ]
     },
     "metadata": {
      "needs_background": "light"
     },
     "output_type": "display_data"
    }
   ],
   "source": [
    "df_users_2016_10 = df_users_2016[df_users_2016['Month']==10]\n",
    "\n",
    "# Count the number of users for each reputation level\n",
    "reputation_counts = df_users_2016_10['Reputation'].value_counts(sort=False).sort_index()\n",
    "\n",
    "# Create a Pandas DataFrame with the reputation and count data\n",
    "df = pd.DataFrame({'Reputation': reputation_counts.index, 'Count': reputation_counts.values})\n",
    "\n",
    "# Calculate the logarithm of the data\n",
    "df['log10_Reputation'] = np.array(df['Reputation'])\n",
    "df['log10_Count'] = np.array(df['Count'])\n",
    "\n",
    "\n",
    "# Plot the data and the fitted curve using Matplotlib\n",
    "plt.plot(df['log10_Reputation'], df['log10_Count'], 'o', label='Data(Aug 2016)')\n",
    "\n",
    "# set x and y labels\n",
    "plt.xlabel('log(Reputation)')\n",
    "plt.ylabel('log(No of users)')\n",
    "\n",
    "plt.yscale('log')\n",
    "plt.xscale('log')\n",
    "\n",
    "plt.legend()\n",
    "plt.show()"
   ]
  },
  {
   "cell_type": "code",
   "execution_count": 573,
   "id": "768ae1b4",
   "metadata": {},
   "outputs": [
    {
     "data": {
      "image/png": "[encoded data removed]",
      "text/plain": [
       "<Figure size 432x288 with 1 Axes>"
      ]
     },
     "metadata": {
      "needs_background": "light"
     },
     "output_type": "display_data"
    }
   ],
   "source": [
    "# Count the number of users for each reputation level\n",
    "reputation_counts = df_users_2017['Reputation'].value_counts(sort=False).sort_index()\n",
    "\n",
    "# Create a Pandas DataFrame with the reputation and count data\n",
    "df = pd.DataFrame({'Reputation': reputation_counts.index, 'Count': reputation_counts.values})\n",
    "\n",
    "# Calculate the logarithm of the data\n",
    "df['log10_Reputation'] = np.array(df['Reputation'])\n",
    "df['log10_Count'] = np.array(df['Count'])\n",
    "\n",
    "\n",
    "# Plot the data and the fitted curve using Matplotlib\n",
    "plt.plot(df['log10_Reputation'], df['log10_Count'], 'o', label='Data(2017)')\n",
    "\n",
    "# set x and y labels\n",
    "plt.xlabel('log(Reputation)')\n",
    "plt.ylabel('log(No of users)')\n",
    "\n",
    "plt.yscale('log')\n",
    "plt.xscale('log')\n",
    "\n",
    "plt.legend()\n",
    "plt.show()"
   ]
  },
  {
   "cell_type": "code",
   "execution_count": 579,
   "id": "478f25c6",
   "metadata": {},
   "outputs": [
    {
     "data": {
      "image/png": "[encoded data removed]",
      "text/plain": [
       "<Figure size 432x288 with 1 Axes>"
      ]
     },
     "metadata": {
      "needs_background": "light"
     },
     "output_type": "display_data"
    }
   ],
   "source": [
    "df_users_2017_10 = df_users_2017[df_users_2017['Month']==10]\n",
    "\n",
    "# Count the number of users for each reputation level\n",
    "reputation_counts = df_users_2017_10['Reputation'].value_counts(sort=False).sort_index()\n",
    "\n",
    "# Create a Pandas DataFrame with the reputation and count data\n",
    "df = pd.DataFrame({'Reputation': reputation_counts.index, 'Count': reputation_counts.values})\n",
    "\n",
    "# Calculate the logarithm of the data\n",
    "df['log10_Reputation'] = np.array(df['Reputation'])\n",
    "df['log10_Count'] = np.array(df['Count'])\n",
    "\n",
    "\n",
    "# Plot the data and the fitted curve using Matplotlib\n",
    "plt.plot(df['log10_Reputation'], df['log10_Count'], 'o', label='Data(Aug 2017)')\n",
    "\n",
    "# set x and y labels\n",
    "plt.xlabel('log(Reputation)')\n",
    "plt.ylabel('log(No of users)')\n",
    "\n",
    "plt.yscale('log')\n",
    "plt.xscale('log')\n",
    "\n",
    "plt.legend()\n",
    "plt.show()"
   ]
  },
  {
   "cell_type": "code",
   "execution_count": 574,
   "id": "e595b287",
   "metadata": {},
   "outputs": [
    {
     "data": {
      "image/png": "[encoded data removed]",
      "text/plain": [
       "<Figure size 432x288 with 1 Axes>"
      ]
     },
     "metadata": {
      "needs_background": "light"
     },
     "output_type": "display_data"
    }
   ],
   "source": [
    "# Count the number of users for each reputation level\n",
    "reputation_counts = df_users_2018['Reputation'].value_counts(sort=False).sort_index()\n",
    "\n",
    "# Create a Pandas DataFrame with the reputation and count data\n",
    "df = pd.DataFrame({'Reputation': reputation_counts.index, 'Count': reputation_counts.values})\n",
    "\n",
    "# Calculate the logarithm of the data\n",
    "df['log10_Reputation'] = np.array(df['Reputation'])\n",
    "df['log10_Count'] = np.array(df['Count'])\n",
    "\n",
    "\n",
    "# Plot the data and the fitted curve using Matplotlib\n",
    "plt.plot(df['log10_Reputation'], df['log10_Count'], 'o', label='Data(2018)')\n",
    "\n",
    "# set x and y labels\n",
    "plt.xlabel('log(Reputation)')\n",
    "plt.ylabel('log(No of users)')\n",
    "\n",
    "plt.yscale('log')\n",
    "plt.xscale('log')\n",
    "\n",
    "plt.legend()\n",
    "plt.show()"
   ]
  },
  {
   "cell_type": "code",
   "execution_count": 580,
   "id": "45369737",
   "metadata": {},
   "outputs": [
    {
     "data": {
      "image/png": "[encoded data removed]",
      "text/plain": [
       "<Figure size 432x288 with 1 Axes>"
      ]
     },
     "metadata": {
      "needs_background": "light"
     },
     "output_type": "display_data"
    }
   ],
   "source": [
    "df_users_2018_10 = df_users_2018[df_users_2018['Month']==10]\n",
    "\n",
    "# Count the number of users for each reputation level\n",
    "reputation_counts = df_users_2018_10['Reputation'].value_counts(sort=False).sort_index()\n",
    "\n",
    "# Create a Pandas DataFrame with the reputation and count data\n",
    "df = pd.DataFrame({'Reputation': reputation_counts.index, 'Count': reputation_counts.values})\n",
    "\n",
    "# Calculate the logarithm of the data\n",
    "df['log10_Reputation'] = np.array(df['Reputation'])\n",
    "df['log10_Count'] = np.array(df['Count'])\n",
    "\n",
    "\n",
    "# Plot the data and the fitted curve using Matplotlib\n",
    "plt.plot(df['log10_Reputation'], df['log10_Count'], 'o', label='Data(Aug 2018)')\n",
    "\n",
    "# set x and y labels\n",
    "plt.xlabel('log(Reputation)')\n",
    "plt.ylabel('log(No of users)')\n",
    "\n",
    "plt.yscale('log')\n",
    "plt.xscale('log')\n",
    "\n",
    "plt.legend()\n",
    "plt.show()"
   ]
  },
  {
   "cell_type": "code",
   "execution_count": 575,
   "id": "e692a88d",
   "metadata": {},
   "outputs": [
    {
     "data": {
      "image/png": "[encoded data removed]",
      "text/plain": [
       "<Figure size 432x288 with 1 Axes>"
      ]
     },
     "metadata": {
      "needs_background": "light"
     },
     "output_type": "display_data"
    }
   ],
   "source": [
    "# Count the number of users for each reputation level\n",
    "reputation_counts = df_users_2019['Reputation'].value_counts(sort=False).sort_index()\n",
    "\n",
    "# Create a Pandas DataFrame with the reputation and count data\n",
    "df = pd.DataFrame({'Reputation': reputation_counts.index, 'Count': reputation_counts.values})\n",
    "\n",
    "# Calculate the logarithm of the data\n",
    "df['log10_Reputation'] = np.array(df['Reputation'])\n",
    "df['log10_Count'] = np.array(df['Count'])\n",
    "\n",
    "\n",
    "# Plot the data and the fitted curve using Matplotlib\n",
    "plt.plot(df['log10_Reputation'], df['log10_Count'], 'o', label='Data(2019)')\n",
    "\n",
    "# set x and y labels\n",
    "plt.xlabel('log(Reputation)')\n",
    "plt.ylabel('log(No of users)')\n",
    "\n",
    "plt.yscale('log')\n",
    "plt.xscale('log')\n",
    "\n",
    "plt.legend()\n",
    "plt.show()"
   ]
  },
  {
   "cell_type": "code",
   "execution_count": 581,
   "id": "413148df",
   "metadata": {},
   "outputs": [
    {
     "data": {
      "image/png": "[encoded data removed]",
      "text/plain": [
       "<Figure size 432x288 with 1 Axes>"
      ]
     },
     "metadata": {
      "needs_background": "light"
     },
     "output_type": "display_data"
    }
   ],
   "source": [
    "df_users_2019_10 = df_users_2019[df_users_2019['Month']==10]\n",
    "\n",
    "# Count the number of users for each reputation level\n",
    "reputation_counts = df_users_2019_10['Reputation'].value_counts(sort=False).sort_index()\n",
    "\n",
    "# Create a Pandas DataFrame with the reputation and count data\n",
    "df = pd.DataFrame({'Reputation': reputation_counts.index, 'Count': reputation_counts.values})\n",
    "\n",
    "# Calculate the logarithm of the data\n",
    "df['log10_Reputation'] = np.array(df['Reputation'])\n",
    "df['log10_Count'] = np.array(df['Count'])\n",
    "\n",
    "\n",
    "# Plot the data and the fitted curve using Matplotlib\n",
    "plt.plot(df['log10_Reputation'], df['log10_Count'], 'o', label='Data(Aug 2019)')\n",
    "\n",
    "# set x and y labels\n",
    "plt.xlabel('log(Reputation)')\n",
    "plt.ylabel('log(No of users)')\n",
    "\n",
    "plt.yscale('log')\n",
    "plt.xscale('log')\n",
    "\n",
    "plt.legend()\n",
    "plt.show()"
   ]
  },
  {
   "cell_type": "code",
   "execution_count": 576,
   "id": "11d1ee1c",
   "metadata": {},
   "outputs": [
    {
     "data": {
      "image/png": "[encoded data removed]",
      "text/plain": [
       "<Figure size 432x288 with 1 Axes>"
      ]
     },
     "metadata": {
      "needs_background": "light"
     },
     "output_type": "display_data"
    }
   ],
   "source": [
    "# Count the number of users for each reputation level\n",
    "reputation_counts = df_users_2020['Reputation'].value_counts(sort=False).sort_index()\n",
    "\n",
    "# Create a Pandas DataFrame with the reputation and count data\n",
    "df = pd.DataFrame({'Reputation': reputation_counts.index, 'Count': reputation_counts.values})\n",
    "\n",
    "# Calculate the logarithm of the data\n",
    "df['log10_Reputation'] = np.array(df['Reputation'])\n",
    "df['log10_Count'] = np.array(df['Count'])\n",
    "\n",
    "\n",
    "# Plot the data and the fitted curve using Matplotlib\n",
    "plt.plot(df['log10_Reputation'], df['log10_Count'], 'o', label='Data(2020)')\n",
    "\n",
    "# set x and y labels\n",
    "plt.xlabel('log(Reputation)')\n",
    "plt.ylabel('log(No of users)')\n",
    "\n",
    "plt.yscale('log')\n",
    "plt.xscale('log')\n",
    "\n",
    "plt.legend()\n",
    "plt.show()"
   ]
  },
  {
   "cell_type": "code",
   "execution_count": 582,
   "id": "6ab45c09",
   "metadata": {},
   "outputs": [
    {
     "data": {
      "image/png": "[encoded data removed]",
      "text/plain": [
       "<Figure size 432x288 with 1 Axes>"
      ]
     },
     "metadata": {
      "needs_background": "light"
     },
     "output_type": "display_data"
    }
   ],
   "source": [
    "df_users_2020_10 = df_users_2020[df_users_2020['Month']==10]\n",
    "\n",
    "# Count the number of users for each reputation level\n",
    "reputation_counts = df_users_2020_10['Reputation'].value_counts(sort=False).sort_index()\n",
    "\n",
    "# Create a Pandas DataFrame with the reputation and count data\n",
    "df = pd.DataFrame({'Reputation': reputation_counts.index, 'Count': reputation_counts.values})\n",
    "\n",
    "# Calculate the logarithm of the data\n",
    "df['log10_Reputation'] = np.array(df['Reputation'])\n",
    "df['log10_Count'] = np.array(df['Count'])\n",
    "\n",
    "\n",
    "# Plot the data and the fitted curve using Matplotlib\n",
    "plt.plot(df['log10_Reputation'], df['log10_Count'], 'o', label='Data(Aug 2020)')\n",
    "\n",
    "# set x and y labels\n",
    "plt.xlabel('log(Reputation)')\n",
    "plt.ylabel('log(No of users)')\n",
    "\n",
    "plt.yscale('log')\n",
    "plt.xscale('log')\n",
    "\n",
    "plt.legend()\n",
    "plt.show()"
   ]
  },
  {
   "cell_type": "code",
   "execution_count": 577,
   "id": "19094c96",
   "metadata": {},
   "outputs": [
    {
     "data": {
      "image/png": "[encoded data removed]",
      "text/plain": [
       "<Figure size 432x288 with 1 Axes>"
      ]
     },
     "metadata": {
      "needs_background": "light"
     },
     "output_type": "display_data"
    }
   ],
   "source": [
    "# Count the number of users for each reputation level\n",
    "reputation_counts = df_users_2021['Reputation'].value_counts(sort=False).sort_index()\n",
    "\n",
    "# Create a Pandas DataFrame with the reputation and count data\n",
    "df = pd.DataFrame({'Reputation': reputation_counts.index, 'Count': reputation_counts.values})\n",
    "\n",
    "# Calculate the logarithm of the data\n",
    "df['log10_Reputation'] = np.array(df['Reputation'])\n",
    "df['log10_Count'] = np.array(df['Count'])\n",
    "\n",
    "\n",
    "# Plot the data and the fitted curve using Matplotlib\n",
    "plt.plot(df['log10_Reputation'], df['log10_Count'], 'o', label='Data(2021)')\n",
    "\n",
    "# set x and y labels\n",
    "plt.xlabel('log(Reputation)')\n",
    "plt.ylabel('log(No of users)')\n",
    "\n",
    "plt.yscale('log')\n",
    "plt.xscale('log')\n",
    "\n",
    "plt.legend()\n",
    "plt.show()"
   ]
  },
  {
   "cell_type": "code",
   "execution_count": null,
   "id": "cd902caf",
   "metadata": {},
   "outputs": [],
   "source": []
  },
  {
   "cell_type": "markdown",
   "id": "4ca72396",
   "metadata": {},
   "source": [
    "# Model"
   ]
  },
  {
   "cell_type": "code",
   "execution_count": 627,
   "id": "d9b0ca78",
   "metadata": {},
   "outputs": [],
   "source": [
    "import pandas as pd\n",
    "from sklearn.model_selection import train_test_split\n",
    "from sklearn.ensemble import RandomForestClassifier\n",
    "from sklearn.metrics import accuracy_score\n",
    "from datetime import datetime\n"
   ]
  },
  {
   "cell_type": "code",
   "execution_count": 966,
   "id": "fe0cedcf",
   "metadata": {},
   "outputs": [],
   "source": [
    "df_votes = pd.read_xml(\"../updated_database/votes.xml\")"
   ]
  },
  {
   "cell_type": "code",
   "execution_count": 967,
   "id": "242d7212",
   "metadata": {},
   "outputs": [],
   "source": [
    "df_users = pd.read_xml(\"../updated_database/users.xml\")"
   ]
  },
  {
   "cell_type": "code",
   "execution_count": 968,
   "id": "eb451335",
   "metadata": {},
   "outputs": [],
   "source": [
    "df_users['CreationDate'] = pd.to_datetime(df_users['CreationDate'])\n",
    "df_users['years_on_so'] = (datetime.now() - df_users['CreationDate']) / pd.Timedelta(days=365)\n",
    "df_users['years_on_so'] = round(df_users['years_on_so'], 2)"
   ]
  },
  {
   "cell_type": "code",
   "execution_count": 969,
   "id": "54f6d025",
   "metadata": {},
   "outputs": [
    {
     "data": {
      "text/html": [
       "<div>\n",
       "<style scoped>\n",
       "    .dataframe tbody tr th:only-of-type {\n",
       "        vertical-align: middle;\n",
       "    }\n",
       "\n",
       "    .dataframe tbody tr th {\n",
       "        vertical-align: top;\n",
       "    }\n",
       "\n",
       "    .dataframe thead th {\n",
       "        text-align: right;\n",
       "    }\n",
       "</style>\n",
       "<table border=\"1\" class=\"dataframe\">\n",
       "  <thead>\n",
       "    <tr style=\"text-align: right;\">\n",
       "      <th></th>\n",
       "      <th>Id</th>\n",
       "      <th>Reputation</th>\n",
       "      <th>CreationDate</th>\n",
       "      <th>DisplayName</th>\n",
       "      <th>LastAccessDate</th>\n",
       "      <th>WebsiteUrl</th>\n",
       "      <th>Location</th>\n",
       "      <th>AboutMe</th>\n",
       "      <th>Views</th>\n",
       "      <th>UpVotes</th>\n",
       "      <th>DownVotes</th>\n",
       "      <th>AccountId</th>\n",
       "      <th>ProfileImageUrl</th>\n",
       "      <th>years_on_so</th>\n",
       "    </tr>\n",
       "  </thead>\n",
       "  <tbody>\n",
       "    <tr>\n",
       "      <th>0</th>\n",
       "      <td>-1</td>\n",
       "      <td>1</td>\n",
       "      <td>2015-10-26 21:36:24.767</td>\n",
       "      <td>Comunidad</td>\n",
       "      <td>2015-10-26T21:36:24.767</td>\n",
       "      <td>NaN</td>\n",
       "      <td>en la granja de servidores</td>\n",
       "      <td>&lt;p&gt;Hola, no soy una persona real.&lt;/p&gt;\\n\\n&lt;p&gt;¡S...</td>\n",
       "      <td>251</td>\n",
       "      <td>9652</td>\n",
       "      <td>17781</td>\n",
       "      <td>-1.0</td>\n",
       "      <td>None</td>\n",
       "      <td>7.44</td>\n",
       "    </tr>\n",
       "  </tbody>\n",
       "</table>\n",
       "</div>"
      ],
      "text/plain": [
       "   Id  Reputation            CreationDate DisplayName  \\\n",
       "0  -1           1 2015-10-26 21:36:24.767   Comunidad   \n",
       "\n",
       "            LastAccessDate WebsiteUrl                    Location  \\\n",
       "0  2015-10-26T21:36:24.767        NaN  en la granja de servidores   \n",
       "\n",
       "                                             AboutMe  Views  UpVotes  \\\n",
       "0  <p>Hola, no soy una persona real.</p>\\n\\n<p>¡S...    251     9652   \n",
       "\n",
       "   DownVotes  AccountId ProfileImageUrl  years_on_so  \n",
       "0      17781       -1.0            None         7.44  "
      ]
     },
     "execution_count": 969,
     "metadata": {},
     "output_type": "execute_result"
    }
   ],
   "source": [
    "df_users.head(1)"
   ]
  },
  {
   "cell_type": "code",
   "execution_count": 970,
   "id": "8e37ce57",
   "metadata": {},
   "outputs": [],
   "source": [
    "# Filter out users who have been members for less than a year\n",
    "df_users = df_users[df_users['years_on_so'] >= 1]\n",
    "\n",
    "# Exclude users with a starting reputation of 1\n",
    "df_users = df_users[df_users['Reputation'] != 1]"
   ]
  },
  {
   "cell_type": "markdown",
   "id": "0d0d3006",
   "metadata": {},
   "source": [
    "# Total answers"
   ]
  },
  {
   "cell_type": "code",
   "execution_count": 971,
   "id": "4a2f8a89",
   "metadata": {},
   "outputs": [],
   "source": [
    "# Filter the table to include only answers\n",
    "df_answers = df_posts[df_posts['PostTypeId'] == 2]"
   ]
  },
  {
   "cell_type": "code",
   "execution_count": 972,
   "id": "79e956cb",
   "metadata": {},
   "outputs": [
    {
     "data": {
      "text/plain": [
       "(159308, 22)"
      ]
     },
     "execution_count": 972,
     "metadata": {},
     "output_type": "execute_result"
    }
   ],
   "source": [
    "df_answers.shape"
   ]
  },
  {
   "cell_type": "code",
   "execution_count": 973,
   "id": "2f8a339d",
   "metadata": {},
   "outputs": [],
   "source": [
    "\n",
    "# Set the number of months to consider\n",
    "N = 6\n",
    "\n",
    "# Merge the df_users and df_answers dataframes on OwnerUserId\n",
    "merged_df = pd.merge(df_users, df_answers, how='left', left_on='Id', right_on='OwnerUserId')\n",
    "\n",
    "# Filter the merged dataframe to only include answers posted within the first N months of user's activity\n",
    "merged_df = merged_df[(merged_df['CreationDate_x'] <= merged_df['CreationDate_y']) &\n",
    "                      (merged_df['CreationDate_y'] <= merged_df['CreationDate_x'] + pd.DateOffset(months=N))]\n",
    "\n",
    "# Group the merged dataframe by OwnerUserId and count the number of answers\n",
    "answers_by_user = merged_df.groupby('Id_x')['Id_x'].count()\n",
    "# Add the answers count as a new column in df_users\n",
    "\n",
    "df_users['Answers'] = pd.Series(dtype='float64')\n",
    "for i, value in answers_by_user.iteritems():\n",
    "#     print(i, value)\n",
    "    df_users.loc[df_users['Id'] == i, 'Answers'] = value\n",
    "df_users['Answers'].fillna(0, inplace=True)"
   ]
  },
  {
   "cell_type": "code",
   "execution_count": 974,
   "id": "a1a06ba6",
   "metadata": {},
   "outputs": [
    {
     "data": {
      "text/plain": [
       "0.0      30194\n",
       "1.0       7351\n",
       "2.0       2204\n",
       "3.0       1097\n",
       "4.0        598\n",
       "         ...  \n",
       "84.0         1\n",
       "75.0         1\n",
       "73.0         1\n",
       "86.0         1\n",
       "191.0        1\n",
       "Name: Answers, Length: 141, dtype: int64"
      ]
     },
     "execution_count": 974,
     "metadata": {},
     "output_type": "execute_result"
    }
   ],
   "source": [
    "df_users['Answers'].value_counts()"
   ]
  },
  {
   "cell_type": "code",
   "execution_count": 975,
   "id": "af953103",
   "metadata": {},
   "outputs": [
    {
     "data": {
      "text/html": [
       "<div>\n",
       "<style scoped>\n",
       "    .dataframe tbody tr th:only-of-type {\n",
       "        vertical-align: middle;\n",
       "    }\n",
       "\n",
       "    .dataframe tbody tr th {\n",
       "        vertical-align: top;\n",
       "    }\n",
       "\n",
       "    .dataframe thead th {\n",
       "        text-align: right;\n",
       "    }\n",
       "</style>\n",
       "<table border=\"1\" class=\"dataframe\">\n",
       "  <thead>\n",
       "    <tr style=\"text-align: right;\">\n",
       "      <th></th>\n",
       "      <th>Id</th>\n",
       "      <th>Reputation</th>\n",
       "      <th>CreationDate</th>\n",
       "      <th>DisplayName</th>\n",
       "      <th>LastAccessDate</th>\n",
       "      <th>WebsiteUrl</th>\n",
       "      <th>Location</th>\n",
       "      <th>AboutMe</th>\n",
       "      <th>Views</th>\n",
       "      <th>UpVotes</th>\n",
       "      <th>DownVotes</th>\n",
       "      <th>AccountId</th>\n",
       "      <th>ProfileImageUrl</th>\n",
       "      <th>years_on_so</th>\n",
       "      <th>Answers</th>\n",
       "    </tr>\n",
       "  </thead>\n",
       "  <tbody>\n",
       "    <tr>\n",
       "      <th>1948</th>\n",
       "      <td>2600</td>\n",
       "      <td>34867</td>\n",
       "      <td>2016-01-07 02:45:33.523</td>\n",
       "      <td>Leandro Tuttini</td>\n",
       "      <td>2021-02-10T23:14:25.750</td>\n",
       "      <td>http://ltuttini.blogspot.com.ar/</td>\n",
       "      <td>Argentina</td>\n",
       "      <td>&lt;p&gt;Microsoft MVP C#&lt;/p&gt;\\n</td>\n",
       "      <td>4719</td>\n",
       "      <td>86</td>\n",
       "      <td>18</td>\n",
       "      <td>5219979.0</td>\n",
       "      <td>None</td>\n",
       "      <td>7.24</td>\n",
       "      <td>389.0</td>\n",
       "    </tr>\n",
       "  </tbody>\n",
       "</table>\n",
       "</div>"
      ],
      "text/plain": [
       "        Id  Reputation            CreationDate      DisplayName  \\\n",
       "1948  2600       34867 2016-01-07 02:45:33.523  Leandro Tuttini   \n",
       "\n",
       "               LastAccessDate                        WebsiteUrl   Location  \\\n",
       "1948  2021-02-10T23:14:25.750  http://ltuttini.blogspot.com.ar/  Argentina   \n",
       "\n",
       "                        AboutMe  Views  UpVotes  DownVotes  AccountId  \\\n",
       "1948  <p>Microsoft MVP C#</p>\\n   4719       86         18  5219979.0   \n",
       "\n",
       "     ProfileImageUrl  years_on_so  Answers  \n",
       "1948            None         7.24    389.0  "
      ]
     },
     "execution_count": 975,
     "metadata": {},
     "output_type": "execute_result"
    }
   ],
   "source": [
    "df_users[df_users['DisplayName']=='Leandro Tuttini']"
   ]
  },
  {
   "cell_type": "markdown",
   "id": "330b67ec",
   "metadata": {},
   "source": [
    "# Total Questions"
   ]
  },
  {
   "cell_type": "code",
   "execution_count": 976,
   "id": "124c1e6a",
   "metadata": {},
   "outputs": [],
   "source": [
    "df_question = df_posts[df_posts['PostTypeId'] == 1]"
   ]
  },
  {
   "cell_type": "code",
   "execution_count": 977,
   "id": "32caa55a",
   "metadata": {},
   "outputs": [],
   "source": [
    "# Set the number of months to consider\n",
    "N = 6\n",
    "\n",
    "# Merge the df_users and df_questios dataframes on OwnerUserId\n",
    "merged_df = pd.merge(df_users, df_question, how='left', left_on='Id', right_on='OwnerUserId')\n",
    "\n",
    "# Filter the merged dataframe to only include questions posted within the first N months of user's activity\n",
    "merged_df = merged_df[(merged_df['CreationDate_x'] <= merged_df['CreationDate_y']) &\n",
    "                      (merged_df['CreationDate_y'] <= merged_df['CreationDate_x'] + pd.DateOffset(months=N))]\n",
    "\n",
    "# Group the merged dataframe by OwnerUserId and count the number of answers\n",
    "question_by_user = merged_df.groupby('OwnerUserId')['OwnerUserId'].count()\n",
    "\n",
    "df_users['Questions'] = pd.Series(dtype='float64')\n",
    "for i, value in question_by_user.iteritems():\n",
    "#     print(i, value)\n",
    "    df_users.loc[df_users['Id'] == i, 'Questions'] = value\n",
    "df_users['Questions'].fillna(0, inplace=True)\n"
   ]
  },
  {
   "cell_type": "markdown",
   "id": "5f253a00",
   "metadata": {},
   "source": [
    "# Total comments"
   ]
  },
  {
   "cell_type": "code",
   "execution_count": 1006,
   "id": "0dec2241",
   "metadata": {},
   "outputs": [],
   "source": [
    "df_comments = pd.read_xml(\"../updated_database/comments.xml\")"
   ]
  },
  {
   "cell_type": "code",
   "execution_count": 1007,
   "id": "ba23782d",
   "metadata": {},
   "outputs": [],
   "source": [
    "# Merge the df_users and df_comments dataframes on UserId\n",
    "merged_df = pd.merge(df_users, df_comments, how='left', left_on='Id', right_on='UserId')\n",
    "\n",
    "# Group the merged dataframe by UserId and count the number of comments\n",
    "comments_by_user = merged_df.groupby('UserId')['UserId'].count()\n",
    "\n",
    "# Add the 'Comments' column to the df_users dataframe\n",
    "df_users['Comments'] = pd.Series(dtype='float64')\n",
    "for i, value in comments_by_user.iteritems():\n",
    "    df_users.loc[df_users['Id'] == i, 'Comments'] = value\n",
    "\n",
    "# Fill in any missing values with 0\n",
    "df_users['Comments'].fillna(0, inplace=True)"
   ]
  },
  {
   "cell_type": "code",
   "execution_count": 1013,
   "id": "5fba8624",
   "metadata": {},
   "outputs": [
    {
     "data": {
      "text/plain": [
       "0.0      17431\n",
       "1.0       6788\n",
       "2.0       4174\n",
       "3.0       2775\n",
       "4.0       1994\n",
       "         ...  \n",
       "509.0        1\n",
       "482.0        1\n",
       "273.0        1\n",
       "261.0        1\n",
       "148.0        1\n",
       "Name: Comments, Length: 438, dtype: int64"
      ]
     },
     "execution_count": 1013,
     "metadata": {},
     "output_type": "execute_result"
    }
   ],
   "source": [
    "df_users['Comments'].value_counts()"
   ]
  },
  {
   "cell_type": "code",
   "execution_count": 1014,
   "id": "505ed878",
   "metadata": {},
   "outputs": [
    {
     "data": {
      "text/html": [
       "<div>\n",
       "<style scoped>\n",
       "    .dataframe tbody tr th:only-of-type {\n",
       "        vertical-align: middle;\n",
       "    }\n",
       "\n",
       "    .dataframe tbody tr th {\n",
       "        vertical-align: top;\n",
       "    }\n",
       "\n",
       "    .dataframe thead th {\n",
       "        text-align: right;\n",
       "    }\n",
       "</style>\n",
       "<table border=\"1\" class=\"dataframe\">\n",
       "  <thead>\n",
       "    <tr style=\"text-align: right;\">\n",
       "      <th></th>\n",
       "      <th>Id</th>\n",
       "      <th>Reputation</th>\n",
       "      <th>CreationDate</th>\n",
       "      <th>DisplayName</th>\n",
       "      <th>LastAccessDate</th>\n",
       "      <th>WebsiteUrl</th>\n",
       "      <th>Location</th>\n",
       "      <th>AboutMe</th>\n",
       "      <th>Views</th>\n",
       "      <th>UpVotes</th>\n",
       "      <th>DownVotes</th>\n",
       "      <th>AccountId</th>\n",
       "      <th>ProfileImageUrl</th>\n",
       "      <th>years_on_so</th>\n",
       "      <th>Answers</th>\n",
       "      <th>Questions</th>\n",
       "      <th>category</th>\n",
       "      <th>Comments</th>\n",
       "    </tr>\n",
       "  </thead>\n",
       "  <tbody>\n",
       "    <tr>\n",
       "      <th>1948</th>\n",
       "      <td>2600</td>\n",
       "      <td>34867</td>\n",
       "      <td>2016-01-07 02:45:33.523</td>\n",
       "      <td>Leandro Tuttini</td>\n",
       "      <td>2021-02-10T23:14:25.750</td>\n",
       "      <td>http://ltuttini.blogspot.com.ar/</td>\n",
       "      <td>Argentina</td>\n",
       "      <td>&lt;p&gt;Microsoft MVP C#&lt;/p&gt;\\n</td>\n",
       "      <td>4719</td>\n",
       "      <td>86</td>\n",
       "      <td>18</td>\n",
       "      <td>5219979.0</td>\n",
       "      <td>None</td>\n",
       "      <td>7.24</td>\n",
       "      <td>389.0</td>\n",
       "      <td>1.0</td>\n",
       "      <td>expert</td>\n",
       "      <td>2711.0</td>\n",
       "    </tr>\n",
       "  </tbody>\n",
       "</table>\n",
       "</div>"
      ],
      "text/plain": [
       "        Id  Reputation            CreationDate      DisplayName  \\\n",
       "1948  2600       34867 2016-01-07 02:45:33.523  Leandro Tuttini   \n",
       "\n",
       "               LastAccessDate                        WebsiteUrl   Location  \\\n",
       "1948  2021-02-10T23:14:25.750  http://ltuttini.blogspot.com.ar/  Argentina   \n",
       "\n",
       "                        AboutMe  Views  UpVotes  DownVotes  AccountId  \\\n",
       "1948  <p>Microsoft MVP C#</p>\\n   4719       86         18  5219979.0   \n",
       "\n",
       "     ProfileImageUrl  years_on_so  Answers  Questions category  Comments  \n",
       "1948            None         7.24    389.0        1.0   expert    2711.0  "
      ]
     },
     "execution_count": 1014,
     "metadata": {},
     "output_type": "execute_result"
    }
   ],
   "source": [
    "df_users[df_users['DisplayName']=='Leandro Tuttini']"
   ]
  },
  {
   "cell_type": "markdown",
   "id": "14fe6ffa",
   "metadata": {},
   "source": [
    "# Accepted Answers"
   ]
  },
  {
   "cell_type": "code",
   "execution_count": 978,
   "id": "af5ce969",
   "metadata": {},
   "outputs": [],
   "source": [
    "# Merge the votes and posts data frames on post ID to get a data frame with\n",
    "# all the votes for each post, along with information about the post\n",
    "post_votes = pd.merge(df_votes, df_posts, left_on='PostId', right_on='Id')\n",
    "\n",
    "post_votes - post_votes.dropna()\n",
    "# Filter for rows where the vote is an upvote and the post is an accepted answer\n",
    "accepted_answers = post_votes[(post_votes['VoteTypeId'] == 2) & (post_votes['PostTypeId'] == 2)]\n",
    "\n",
    "\n",
    "# Group the accepted answers by user ID and count the number of answers for each user\n",
    "user_answers = accepted_answers.groupby('OwnerUserId').size().reset_index(name='NumAnswers')\n",
    "\n",
    "# Merge the user_answers and users data frames to get a data frame with user information\n",
    "user_answer_counts = pd.merge(user_answers, df_users, left_on='OwnerUserId', right_on='Id')\n"
   ]
  },
  {
   "cell_type": "code",
   "execution_count": 979,
   "id": "b944cc58",
   "metadata": {},
   "outputs": [],
   "source": [
    "# df_users = user_answer_counts"
   ]
  },
  {
   "cell_type": "code",
   "execution_count": 980,
   "id": "d9f454ed",
   "metadata": {},
   "outputs": [
    {
     "data": {
      "text/html": [
       "<div>\n",
       "<style scoped>\n",
       "    .dataframe tbody tr th:only-of-type {\n",
       "        vertical-align: middle;\n",
       "    }\n",
       "\n",
       "    .dataframe tbody tr th {\n",
       "        vertical-align: top;\n",
       "    }\n",
       "\n",
       "    .dataframe thead th {\n",
       "        text-align: right;\n",
       "    }\n",
       "</style>\n",
       "<table border=\"1\" class=\"dataframe\">\n",
       "  <thead>\n",
       "    <tr style=\"text-align: right;\">\n",
       "      <th></th>\n",
       "      <th>Id</th>\n",
       "      <th>Reputation</th>\n",
       "      <th>CreationDate</th>\n",
       "      <th>DisplayName</th>\n",
       "      <th>LastAccessDate</th>\n",
       "      <th>WebsiteUrl</th>\n",
       "      <th>Location</th>\n",
       "      <th>AboutMe</th>\n",
       "      <th>Views</th>\n",
       "      <th>UpVotes</th>\n",
       "      <th>DownVotes</th>\n",
       "      <th>AccountId</th>\n",
       "      <th>ProfileImageUrl</th>\n",
       "      <th>years_on_so</th>\n",
       "      <th>Answers</th>\n",
       "      <th>Questions</th>\n",
       "    </tr>\n",
       "  </thead>\n",
       "  <tbody>\n",
       "    <tr>\n",
       "      <th>1948</th>\n",
       "      <td>2600</td>\n",
       "      <td>34867</td>\n",
       "      <td>2016-01-07 02:45:33.523</td>\n",
       "      <td>Leandro Tuttini</td>\n",
       "      <td>2021-02-10T23:14:25.750</td>\n",
       "      <td>http://ltuttini.blogspot.com.ar/</td>\n",
       "      <td>Argentina</td>\n",
       "      <td>&lt;p&gt;Microsoft MVP C#&lt;/p&gt;\\n</td>\n",
       "      <td>4719</td>\n",
       "      <td>86</td>\n",
       "      <td>18</td>\n",
       "      <td>5219979.0</td>\n",
       "      <td>None</td>\n",
       "      <td>7.24</td>\n",
       "      <td>389.0</td>\n",
       "      <td>1.0</td>\n",
       "    </tr>\n",
       "  </tbody>\n",
       "</table>\n",
       "</div>"
      ],
      "text/plain": [
       "        Id  Reputation            CreationDate      DisplayName  \\\n",
       "1948  2600       34867 2016-01-07 02:45:33.523  Leandro Tuttini   \n",
       "\n",
       "               LastAccessDate                        WebsiteUrl   Location  \\\n",
       "1948  2021-02-10T23:14:25.750  http://ltuttini.blogspot.com.ar/  Argentina   \n",
       "\n",
       "                        AboutMe  Views  UpVotes  DownVotes  AccountId  \\\n",
       "1948  <p>Microsoft MVP C#</p>\\n   4719       86         18  5219979.0   \n",
       "\n",
       "     ProfileImageUrl  years_on_so  Answers  Questions  \n",
       "1948            None         7.24    389.0        1.0  "
      ]
     },
     "execution_count": 980,
     "metadata": {},
     "output_type": "execute_result"
    }
   ],
   "source": [
    "df_users[df_users['DisplayName']=='Leandro Tuttini']"
   ]
  },
  {
   "cell_type": "code",
   "execution_count": 981,
   "id": "2bc9337a",
   "metadata": {},
   "outputs": [],
   "source": [
    "\n",
    "# Define expert and non-expert categories based on reputation threshold\n",
    "df_users['category'] = ['expert' if r >= 2400 else 'non-expert' for r in df_users['Reputation']]\n",
    "\n",
    "# Sample users into training and testing sets\n",
    "low_reputation_users = df_users[(df_users['Reputation'] > 1) & (df_users['Reputation'] < 400)].sample(frac=1/3)\n",
    "mid_reputation_users = df_users[(df_users['Reputation'] >= 400) & (df_users['Reputation'] < 2400)].sample(frac=1/3)\n",
    "high_reputation_users = df_users[df_users['Reputation'] >= 2400].sample(frac=1/3)"
   ]
  },
  {
   "cell_type": "code",
   "execution_count": 982,
   "id": "1bd13b4f",
   "metadata": {},
   "outputs": [
    {
     "data": {
      "text/plain": [
       "non-expert    43748\n",
       "expert          201\n",
       "Name: category, dtype: int64"
      ]
     },
     "execution_count": 982,
     "metadata": {},
     "output_type": "execute_result"
    }
   ],
   "source": [
    "df_users['category'].value_counts()"
   ]
  },
  {
   "cell_type": "code",
   "execution_count": null,
   "id": "b047ee14",
   "metadata": {},
   "outputs": [],
   "source": []
  },
  {
   "cell_type": "markdown",
   "id": "d3eae8d1",
   "metadata": {},
   "source": [
    "# Training Model"
   ]
  },
  {
   "cell_type": "code",
   "execution_count": 983,
   "id": "97db10f2",
   "metadata": {},
   "outputs": [],
   "source": [
    "train_df = pd.concat([low_reputation_users, mid_reputation_users, high_reputation_users])\n",
    "test_df = df_users.drop(train_df.index)"
   ]
  },
  {
   "cell_type": "code",
   "execution_count": 984,
   "id": "be084b50",
   "metadata": {},
   "outputs": [
    {
     "data": {
      "text/html": [
       "<div>\n",
       "<style scoped>\n",
       "    .dataframe tbody tr th:only-of-type {\n",
       "        vertical-align: middle;\n",
       "    }\n",
       "\n",
       "    .dataframe tbody tr th {\n",
       "        vertical-align: top;\n",
       "    }\n",
       "\n",
       "    .dataframe thead th {\n",
       "        text-align: right;\n",
       "    }\n",
       "</style>\n",
       "<table border=\"1\" class=\"dataframe\">\n",
       "  <thead>\n",
       "    <tr style=\"text-align: right;\">\n",
       "      <th></th>\n",
       "      <th>Id</th>\n",
       "      <th>Reputation</th>\n",
       "      <th>CreationDate</th>\n",
       "      <th>DisplayName</th>\n",
       "      <th>LastAccessDate</th>\n",
       "      <th>WebsiteUrl</th>\n",
       "      <th>Location</th>\n",
       "      <th>AboutMe</th>\n",
       "      <th>Views</th>\n",
       "      <th>UpVotes</th>\n",
       "      <th>DownVotes</th>\n",
       "      <th>AccountId</th>\n",
       "      <th>ProfileImageUrl</th>\n",
       "      <th>years_on_so</th>\n",
       "      <th>Answers</th>\n",
       "      <th>Questions</th>\n",
       "      <th>category</th>\n",
       "    </tr>\n",
       "  </thead>\n",
       "  <tbody>\n",
       "    <tr>\n",
       "      <th>76743</th>\n",
       "      <td>86916</td>\n",
       "      <td>11</td>\n",
       "      <td>2018-05-14 16:27:49.040</td>\n",
       "      <td>Xavier Pestana</td>\n",
       "      <td>2018-05-23T15:41:52.583</td>\n",
       "      <td>None</td>\n",
       "      <td>None</td>\n",
       "      <td>None</td>\n",
       "      <td>1</td>\n",
       "      <td>0</td>\n",
       "      <td>0</td>\n",
       "      <td>13570758.0</td>\n",
       "      <td>https://graph.facebook.com/867315433462993/pic...</td>\n",
       "      <td>4.89</td>\n",
       "      <td>1.0</td>\n",
       "      <td>0.0</td>\n",
       "      <td>non-expert</td>\n",
       "    </tr>\n",
       "    <tr>\n",
       "      <th>19346</th>\n",
       "      <td>25666</td>\n",
       "      <td>295</td>\n",
       "      <td>2016-12-14 22:14:52.383</td>\n",
       "      <td>Hugo Lesta</td>\n",
       "      <td>2020-09-28T02:46:16.110</td>\n",
       "      <td>https://www.linkedin.com/in/hugo-lesta-5a058138/</td>\n",
       "      <td>Argentina</td>\n",
       "      <td>&lt;p&gt;My name is Hugo, I'm working at &lt;a href=\"ht...</td>\n",
       "      <td>27</td>\n",
       "      <td>6</td>\n",
       "      <td>1</td>\n",
       "      <td>4914099.0</td>\n",
       "      <td>https://i.stack.imgur.com/2RLIC.jpg</td>\n",
       "      <td>6.31</td>\n",
       "      <td>7.0</td>\n",
       "      <td>5.0</td>\n",
       "      <td>non-expert</td>\n",
       "    </tr>\n",
       "  </tbody>\n",
       "</table>\n",
       "</div>"
      ],
      "text/plain": [
       "          Id  Reputation            CreationDate     DisplayName  \\\n",
       "76743  86916          11 2018-05-14 16:27:49.040  Xavier Pestana   \n",
       "19346  25666         295 2016-12-14 22:14:52.383      Hugo Lesta   \n",
       "\n",
       "                LastAccessDate  \\\n",
       "76743  2018-05-23T15:41:52.583   \n",
       "19346  2020-09-28T02:46:16.110   \n",
       "\n",
       "                                             WebsiteUrl   Location  \\\n",
       "76743                                              None       None   \n",
       "19346  https://www.linkedin.com/in/hugo-lesta-5a058138/  Argentina   \n",
       "\n",
       "                                                 AboutMe  Views  UpVotes  \\\n",
       "76743                                               None      1        0   \n",
       "19346  <p>My name is Hugo, I'm working at <a href=\"ht...     27        6   \n",
       "\n",
       "       DownVotes   AccountId  \\\n",
       "76743          0  13570758.0   \n",
       "19346          1   4914099.0   \n",
       "\n",
       "                                         ProfileImageUrl  years_on_so  \\\n",
       "76743  https://graph.facebook.com/867315433462993/pic...         4.89   \n",
       "19346                https://i.stack.imgur.com/2RLIC.jpg         6.31   \n",
       "\n",
       "       Answers  Questions    category  \n",
       "76743      1.0        0.0  non-expert  \n",
       "19346      7.0        5.0  non-expert  "
      ]
     },
     "execution_count": 984,
     "metadata": {},
     "output_type": "execute_result"
    }
   ],
   "source": [
    "train_df.head(2)"
   ]
  },
  {
   "cell_type": "code",
   "execution_count": 985,
   "id": "f5d5bb6a",
   "metadata": {},
   "outputs": [
    {
     "data": {
      "text/html": [
       "<div>\n",
       "<style scoped>\n",
       "    .dataframe tbody tr th:only-of-type {\n",
       "        vertical-align: middle;\n",
       "    }\n",
       "\n",
       "    .dataframe tbody tr th {\n",
       "        vertical-align: top;\n",
       "    }\n",
       "\n",
       "    .dataframe thead th {\n",
       "        text-align: right;\n",
       "    }\n",
       "</style>\n",
       "<table border=\"1\" class=\"dataframe\">\n",
       "  <thead>\n",
       "    <tr style=\"text-align: right;\">\n",
       "      <th></th>\n",
       "      <th>Id</th>\n",
       "      <th>Reputation</th>\n",
       "      <th>CreationDate</th>\n",
       "      <th>DisplayName</th>\n",
       "      <th>LastAccessDate</th>\n",
       "      <th>WebsiteUrl</th>\n",
       "      <th>Location</th>\n",
       "      <th>AboutMe</th>\n",
       "      <th>Views</th>\n",
       "      <th>UpVotes</th>\n",
       "      <th>DownVotes</th>\n",
       "      <th>AccountId</th>\n",
       "      <th>ProfileImageUrl</th>\n",
       "      <th>years_on_so</th>\n",
       "      <th>Answers</th>\n",
       "      <th>Questions</th>\n",
       "      <th>category</th>\n",
       "    </tr>\n",
       "  </thead>\n",
       "  <tbody>\n",
       "    <tr>\n",
       "      <th>16944</th>\n",
       "      <td>23233</td>\n",
       "      <td>4428</td>\n",
       "      <td>2016-11-17 23:25:01.730</td>\n",
       "      <td>Rene Limon</td>\n",
       "      <td>2021-01-25T23:28:24.163</td>\n",
       "      <td>NaN</td>\n",
       "      <td>Puebla, Mexico</td>\n",
       "      <td>&lt;p&gt;learner and helper. always I want to see wh...</td>\n",
       "      <td>544</td>\n",
       "      <td>105</td>\n",
       "      <td>25</td>\n",
       "      <td>6435471.0</td>\n",
       "      <td>https://i.stack.imgur.com/bIVIk.jpg?s=128&amp;g=1</td>\n",
       "      <td>6.38</td>\n",
       "      <td>70.0</td>\n",
       "      <td>3.0</td>\n",
       "      <td>expert</td>\n",
       "    </tr>\n",
       "    <tr>\n",
       "      <th>34128</th>\n",
       "      <td>41639</td>\n",
       "      <td>11999</td>\n",
       "      <td>2017-05-08 10:52:24.207</td>\n",
       "      <td>phpMyGuel</td>\n",
       "      <td>2021-02-27T21:07:28.317</td>\n",
       "      <td>NaN</td>\n",
       "      <td>Oviedo, España</td>\n",
       "      <td>&lt;p&gt;Desarrollador frontend/backend al que le en...</td>\n",
       "      <td>528</td>\n",
       "      <td>877</td>\n",
       "      <td>28</td>\n",
       "      <td>10852981.0</td>\n",
       "      <td>https://i.stack.imgur.com/xepll.jpg?s=128&amp;g=1</td>\n",
       "      <td>5.91</td>\n",
       "      <td>0.0</td>\n",
       "      <td>0.0</td>\n",
       "      <td>expert</td>\n",
       "    </tr>\n",
       "    <tr>\n",
       "      <th>31697</th>\n",
       "      <td>39181</td>\n",
       "      <td>2625</td>\n",
       "      <td>2017-04-24 03:14:42.553</td>\n",
       "      <td>Albert Hidalgo</td>\n",
       "      <td>2021-02-25T15:55:31.110</td>\n",
       "      <td>NaN</td>\n",
       "      <td>Universo observable</td>\n",
       "      <td>&lt;p&gt;Básicamente mi vida profesional es programa...</td>\n",
       "      <td>250</td>\n",
       "      <td>982</td>\n",
       "      <td>45</td>\n",
       "      <td>10752553.0</td>\n",
       "      <td>https://i.stack.imgur.com/7F0ZH.jpg?s=128&amp;g=1</td>\n",
       "      <td>5.95</td>\n",
       "      <td>2.0</td>\n",
       "      <td>1.0</td>\n",
       "      <td>expert</td>\n",
       "    </tr>\n",
       "    <tr>\n",
       "      <th>20</th>\n",
       "      <td>20</td>\n",
       "      <td>12332</td>\n",
       "      <td>2015-10-28 21:24:53.730</td>\n",
       "      <td>Carlos Muñoz</td>\n",
       "      <td>2021-02-27T02:14:33.617</td>\n",
       "      <td>http://stackoverflow.com/users/186133/carlos-muoz</td>\n",
       "      <td>Lima, Peru</td>\n",
       "      <td>&lt;p&gt;Ex IBMer.&lt;/p&gt;\\n\\n&lt;p&gt;Now in the web developm...</td>\n",
       "      <td>1818</td>\n",
       "      <td>469</td>\n",
       "      <td>496</td>\n",
       "      <td>62733.0</td>\n",
       "      <td>None</td>\n",
       "      <td>7.44</td>\n",
       "      <td>83.0</td>\n",
       "      <td>1.0</td>\n",
       "      <td>expert</td>\n",
       "    </tr>\n",
       "    <tr>\n",
       "      <th>2934</th>\n",
       "      <td>3834</td>\n",
       "      <td>3273</td>\n",
       "      <td>2016-03-02 16:30:15.010</td>\n",
       "      <td>abrahamhs</td>\n",
       "      <td>2021-02-19T18:12:08.093</td>\n",
       "      <td>NaN</td>\n",
       "      <td>Kandor</td>\n",
       "      <td>&lt;p&gt;Lo otro no existe: tal es la fe racional, l...</td>\n",
       "      <td>316</td>\n",
       "      <td>38</td>\n",
       "      <td>76</td>\n",
       "      <td>7961193.0</td>\n",
       "      <td>https://www.gravatar.com/avatar/b13ddd62c60ff9...</td>\n",
       "      <td>7.09</td>\n",
       "      <td>29.0</td>\n",
       "      <td>7.0</td>\n",
       "      <td>expert</td>\n",
       "    </tr>\n",
       "    <tr>\n",
       "      <th>...</th>\n",
       "      <td>...</td>\n",
       "      <td>...</td>\n",
       "      <td>...</td>\n",
       "      <td>...</td>\n",
       "      <td>...</td>\n",
       "      <td>...</td>\n",
       "      <td>...</td>\n",
       "      <td>...</td>\n",
       "      <td>...</td>\n",
       "      <td>...</td>\n",
       "      <td>...</td>\n",
       "      <td>...</td>\n",
       "      <td>...</td>\n",
       "      <td>...</td>\n",
       "      <td>...</td>\n",
       "      <td>...</td>\n",
       "      <td>...</td>\n",
       "    </tr>\n",
       "    <tr>\n",
       "      <th>88962</th>\n",
       "      <td>99297</td>\n",
       "      <td>3148</td>\n",
       "      <td>2018-09-07 18:53:44.587</td>\n",
       "      <td>jcHernande2</td>\n",
       "      <td>2021-02-24T16:30:17.303</td>\n",
       "      <td>http://jchernande2.blogspot.com</td>\n",
       "      <td>San Luis Potosí, México</td>\n",
       "      <td>&lt;p&gt;My name is &lt;strong&gt;Juan Carlos&lt;/strong&gt;, i´...</td>\n",
       "      <td>247</td>\n",
       "      <td>7</td>\n",
       "      <td>18</td>\n",
       "      <td>12031875.0</td>\n",
       "      <td>https://i.stack.imgur.com/gnu3L.jpg?s=128&amp;g=1</td>\n",
       "      <td>4.57</td>\n",
       "      <td>41.0</td>\n",
       "      <td>0.0</td>\n",
       "      <td>expert</td>\n",
       "    </tr>\n",
       "    <tr>\n",
       "      <th>4812</th>\n",
       "      <td>6491</td>\n",
       "      <td>12741</td>\n",
       "      <td>2016-05-11 01:01:54.537</td>\n",
       "      <td>Black Sheep</td>\n",
       "      <td>2021-02-23T10:57:51.397</td>\n",
       "      <td>http://danielarroyo.es</td>\n",
       "      <td>Málaga, Spain</td>\n",
       "      <td>&lt;blockquote&gt;\\n  &lt;p&gt;&lt;em&gt;Everything should be ma...</td>\n",
       "      <td>847</td>\n",
       "      <td>1027</td>\n",
       "      <td>298</td>\n",
       "      <td>2399059.0</td>\n",
       "      <td>https://i.stack.imgur.com/t5eoU.png?s=128&amp;g=1</td>\n",
       "      <td>6.90</td>\n",
       "      <td>76.0</td>\n",
       "      <td>2.0</td>\n",
       "      <td>expert</td>\n",
       "    </tr>\n",
       "    <tr>\n",
       "      <th>232</th>\n",
       "      <td>250</td>\n",
       "      <td>47917</td>\n",
       "      <td>2015-12-01 18:07:59.433</td>\n",
       "      <td>Alvaro Montoro</td>\n",
       "      <td>2021-02-27T20:14:47.587</td>\n",
       "      <td>http://www.alvaromontoro.com</td>\n",
       "      <td>Austin, TX</td>\n",
       "      <td>&lt;p&gt;Ingeniero Software con experiencia en difer...</td>\n",
       "      <td>6197</td>\n",
       "      <td>3137</td>\n",
       "      <td>1037</td>\n",
       "      <td>4550651.0</td>\n",
       "      <td>https://i.stack.imgur.com/n1doi.jpg?s=128&amp;g=1</td>\n",
       "      <td>7.34</td>\n",
       "      <td>207.0</td>\n",
       "      <td>8.0</td>\n",
       "      <td>expert</td>\n",
       "    </tr>\n",
       "    <tr>\n",
       "      <th>27981</th>\n",
       "      <td>34430</td>\n",
       "      <td>2508</td>\n",
       "      <td>2017-03-28 14:17:36.013</td>\n",
       "      <td>Ricardo D. Quiroga</td>\n",
       "      <td>2021-02-25T18:17:50.890</td>\n",
       "      <td>http://www.co2soft.com.ar</td>\n",
       "      <td>Salta - Argentina</td>\n",
       "      <td>&lt;p&gt;Frontend and Backend Development &lt;/p&gt;\\n\\n&lt;p...</td>\n",
       "      <td>158</td>\n",
       "      <td>170</td>\n",
       "      <td>58</td>\n",
       "      <td>8209532.0</td>\n",
       "      <td>https://i.stack.imgur.com/mBYF6.jpg?s=128&amp;g=1</td>\n",
       "      <td>6.02</td>\n",
       "      <td>43.0</td>\n",
       "      <td>33.0</td>\n",
       "      <td>expert</td>\n",
       "    </tr>\n",
       "    <tr>\n",
       "      <th>24471</th>\n",
       "      <td>30870</td>\n",
       "      <td>3219</td>\n",
       "      <td>2017-02-22 19:22:58.257</td>\n",
       "      <td>ElChiniNet</td>\n",
       "      <td>2021-02-27T13:55:21.817</td>\n",
       "      <td>https://xprimiendo.com</td>\n",
       "      <td>Ámsterdam, Países Bajos</td>\n",
       "      <td>&lt;p&gt;Valoro muy positivamente las comunidades de...</td>\n",
       "      <td>209</td>\n",
       "      <td>36</td>\n",
       "      <td>16</td>\n",
       "      <td>2319042.0</td>\n",
       "      <td>https://i.stack.imgur.com/Srido.png?s=128&amp;g=1</td>\n",
       "      <td>6.11</td>\n",
       "      <td>46.0</td>\n",
       "      <td>1.0</td>\n",
       "      <td>expert</td>\n",
       "    </tr>\n",
       "  </tbody>\n",
       "</table>\n",
       "<p>67 rows × 17 columns</p>\n",
       "</div>"
      ],
      "text/plain": [
       "          Id  Reputation            CreationDate         DisplayName  \\\n",
       "16944  23233        4428 2016-11-17 23:25:01.730          Rene Limon   \n",
       "34128  41639       11999 2017-05-08 10:52:24.207           phpMyGuel   \n",
       "31697  39181        2625 2017-04-24 03:14:42.553      Albert Hidalgo   \n",
       "20        20       12332 2015-10-28 21:24:53.730        Carlos Muñoz   \n",
       "2934    3834        3273 2016-03-02 16:30:15.010           abrahamhs   \n",
       "...      ...         ...                     ...                 ...   \n",
       "88962  99297        3148 2018-09-07 18:53:44.587         jcHernande2   \n",
       "4812    6491       12741 2016-05-11 01:01:54.537         Black Sheep   \n",
       "232      250       47917 2015-12-01 18:07:59.433      Alvaro Montoro   \n",
       "27981  34430        2508 2017-03-28 14:17:36.013  Ricardo D. Quiroga   \n",
       "24471  30870        3219 2017-02-22 19:22:58.257          ElChiniNet   \n",
       "\n",
       "                LastAccessDate  \\\n",
       "16944  2021-01-25T23:28:24.163   \n",
       "34128  2021-02-27T21:07:28.317   \n",
       "31697  2021-02-25T15:55:31.110   \n",
       "20     2021-02-27T02:14:33.617   \n",
       "2934   2021-02-19T18:12:08.093   \n",
       "...                        ...   \n",
       "88962  2021-02-24T16:30:17.303   \n",
       "4812   2021-02-23T10:57:51.397   \n",
       "232    2021-02-27T20:14:47.587   \n",
       "27981  2021-02-25T18:17:50.890   \n",
       "24471  2021-02-27T13:55:21.817   \n",
       "\n",
       "                                              WebsiteUrl  \\\n",
       "16944                                                NaN   \n",
       "34128                                                NaN   \n",
       "31697                                                NaN   \n",
       "20     http://stackoverflow.com/users/186133/carlos-muoz   \n",
       "2934                                                 NaN   \n",
       "...                                                  ...   \n",
       "88962                    http://jchernande2.blogspot.com   \n",
       "4812                              http://danielarroyo.es   \n",
       "232                         http://www.alvaromontoro.com   \n",
       "27981                          http://www.co2soft.com.ar   \n",
       "24471                             https://xprimiendo.com   \n",
       "\n",
       "                      Location  \\\n",
       "16944           Puebla, Mexico   \n",
       "34128           Oviedo, España   \n",
       "31697      Universo observable   \n",
       "20                  Lima, Peru   \n",
       "2934                    Kandor   \n",
       "...                        ...   \n",
       "88962  San Luis Potosí, México   \n",
       "4812             Málaga, Spain   \n",
       "232                 Austin, TX   \n",
       "27981        Salta - Argentina   \n",
       "24471  Ámsterdam, Países Bajos   \n",
       "\n",
       "                                                 AboutMe  Views  UpVotes  \\\n",
       "16944  <p>learner and helper. always I want to see wh...    544      105   \n",
       "34128  <p>Desarrollador frontend/backend al que le en...    528      877   \n",
       "31697  <p>Básicamente mi vida profesional es programa...    250      982   \n",
       "20     <p>Ex IBMer.</p>\\n\\n<p>Now in the web developm...   1818      469   \n",
       "2934   <p>Lo otro no existe: tal es la fe racional, l...    316       38   \n",
       "...                                                  ...    ...      ...   \n",
       "88962  <p>My name is <strong>Juan Carlos</strong>, i´...    247        7   \n",
       "4812   <blockquote>\\n  <p><em>Everything should be ma...    847     1027   \n",
       "232    <p>Ingeniero Software con experiencia en difer...   6197     3137   \n",
       "27981  <p>Frontend and Backend Development </p>\\n\\n<p...    158      170   \n",
       "24471  <p>Valoro muy positivamente las comunidades de...    209       36   \n",
       "\n",
       "       DownVotes   AccountId  \\\n",
       "16944         25   6435471.0   \n",
       "34128         28  10852981.0   \n",
       "31697         45  10752553.0   \n",
       "20           496     62733.0   \n",
       "2934          76   7961193.0   \n",
       "...          ...         ...   \n",
       "88962         18  12031875.0   \n",
       "4812         298   2399059.0   \n",
       "232         1037   4550651.0   \n",
       "27981         58   8209532.0   \n",
       "24471         16   2319042.0   \n",
       "\n",
       "                                         ProfileImageUrl  years_on_so  \\\n",
       "16944      https://i.stack.imgur.com/bIVIk.jpg?s=128&g=1         6.38   \n",
       "34128      https://i.stack.imgur.com/xepll.jpg?s=128&g=1         5.91   \n",
       "31697      https://i.stack.imgur.com/7F0ZH.jpg?s=128&g=1         5.95   \n",
       "20                                                  None         7.44   \n",
       "2934   https://www.gravatar.com/avatar/b13ddd62c60ff9...         7.09   \n",
       "...                                                  ...          ...   \n",
       "88962      https://i.stack.imgur.com/gnu3L.jpg?s=128&g=1         4.57   \n",
       "4812       https://i.stack.imgur.com/t5eoU.png?s=128&g=1         6.90   \n",
       "232        https://i.stack.imgur.com/n1doi.jpg?s=128&g=1         7.34   \n",
       "27981      https://i.stack.imgur.com/mBYF6.jpg?s=128&g=1         6.02   \n",
       "24471      https://i.stack.imgur.com/Srido.png?s=128&g=1         6.11   \n",
       "\n",
       "       Answers  Questions category  \n",
       "16944     70.0        3.0   expert  \n",
       "34128      0.0        0.0   expert  \n",
       "31697      2.0        1.0   expert  \n",
       "20        83.0        1.0   expert  \n",
       "2934      29.0        7.0   expert  \n",
       "...        ...        ...      ...  \n",
       "88962     41.0        0.0   expert  \n",
       "4812      76.0        2.0   expert  \n",
       "232      207.0        8.0   expert  \n",
       "27981     43.0       33.0   expert  \n",
       "24471     46.0        1.0   expert  \n",
       "\n",
       "[67 rows x 17 columns]"
      ]
     },
     "execution_count": 985,
     "metadata": {},
     "output_type": "execute_result"
    }
   ],
   "source": [
    "train_df[train_df['category']=='expert']"
   ]
  },
  {
   "cell_type": "code",
   "execution_count": 986,
   "id": "2ecae981",
   "metadata": {},
   "outputs": [
    {
     "data": {
      "text/html": [
       "<style>#sk-container-id-20 {color: black;background-color: white;}#sk-container-id-20 pre{padding: 0;}#sk-container-id-20 div.sk-toggleable {background-color: white;}#sk-container-id-20 label.sk-toggleable__label {cursor: pointer;display: block;width: 100%;margin-bottom: 0;padding: 0.3em;box-sizing: border-box;text-align: center;}#sk-container-id-20 label.sk-toggleable__label-arrow:before {content: \"▸\";float: left;margin-right: 0.25em;color: #696969;}#sk-container-id-20 label.sk-toggleable__label-arrow:hover:before {color: black;}#sk-container-id-20 div.sk-estimator:hover label.sk-toggleable__label-arrow:before {color: black;}#sk-container-id-20 div.sk-toggleable__content {max-height: 0;max-width: 0;overflow: hidden;text-align: left;background-color: #f0f8ff;}#sk-container-id-20 div.sk-toggleable__content pre {margin: 0.2em;color: black;border-radius: 0.25em;background-color: #f0f8ff;}#sk-container-id-20 input.sk-toggleable__control:checked~div.sk-toggleable__content {max-height: 200px;max-width: 100%;overflow: auto;}#sk-container-id-20 input.sk-toggleable__control:checked~label.sk-toggleable__label-arrow:before {content: \"▾\";}#sk-container-id-20 div.sk-estimator input.sk-toggleable__control:checked~label.sk-toggleable__label {background-color: #d4ebff;}#sk-container-id-20 div.sk-label input.sk-toggleable__control:checked~label.sk-toggleable__label {background-color: #d4ebff;}#sk-container-id-20 input.sk-hidden--visually {border: 0;clip: rect(1px 1px 1px 1px);clip: rect(1px, 1px, 1px, 1px);height: 1px;margin: -1px;overflow: hidden;padding: 0;position: absolute;width: 1px;}#sk-container-id-20 div.sk-estimator {font-family: monospace;background-color: #f0f8ff;border: 1px dotted black;border-radius: 0.25em;box-sizing: border-box;margin-bottom: 0.5em;}#sk-container-id-20 div.sk-estimator:hover {background-color: #d4ebff;}#sk-container-id-20 div.sk-parallel-item::after {content: \"\";width: 100%;border-bottom: 1px solid gray;flex-grow: 1;}#sk-container-id-20 div.sk-label:hover label.sk-toggleable__label {background-color: #d4ebff;}#sk-container-id-20 div.sk-serial::before {content: \"\";position: absolute;border-left: 1px solid gray;box-sizing: border-box;top: 0;bottom: 0;left: 50%;z-index: 0;}#sk-container-id-20 div.sk-serial {display: flex;flex-direction: column;align-items: center;background-color: white;padding-right: 0.2em;padding-left: 0.2em;position: relative;}#sk-container-id-20 div.sk-item {position: relative;z-index: 1;}#sk-container-id-20 div.sk-parallel {display: flex;align-items: stretch;justify-content: center;background-color: white;position: relative;}#sk-container-id-20 div.sk-item::before, #sk-container-id-20 div.sk-parallel-item::before {content: \"\";position: absolute;border-left: 1px solid gray;box-sizing: border-box;top: 0;bottom: 0;left: 50%;z-index: -1;}#sk-container-id-20 div.sk-parallel-item {display: flex;flex-direction: column;z-index: 1;position: relative;background-color: white;}#sk-container-id-20 div.sk-parallel-item:first-child::after {align-self: flex-end;width: 50%;}#sk-container-id-20 div.sk-parallel-item:last-child::after {align-self: flex-start;width: 50%;}#sk-container-id-20 div.sk-parallel-item:only-child::after {width: 0;}#sk-container-id-20 div.sk-dashed-wrapped {border: 1px dashed gray;margin: 0 0.4em 0.5em 0.4em;box-sizing: border-box;padding-bottom: 0.4em;background-color: white;}#sk-container-id-20 div.sk-label label {font-family: monospace;font-weight: bold;display: inline-block;line-height: 1.2em;}#sk-container-id-20 div.sk-label-container {text-align: center;}#sk-container-id-20 div.sk-container {/* jupyter's `normalize.less` sets `[hidden] { display: none; }` but bootstrap.min.css set `[hidden] { display: none !important; }` so we also need the `!important` here to be able to override the default hidden behavior on the sphinx rendered scikit-learn.org. See: https://github.com/scikit-learn/scikit-learn/issues/21755 */display: inline-block !important;position: relative;}#sk-container-id-20 div.sk-text-repr-fallback {display: none;}</style><div id=\"sk-container-id-20\" class=\"sk-top-container\"><div class=\"sk-text-repr-fallback\"><pre>RandomForestClassifier()</pre><b>In a Jupyter environment, please rerun this cell to show the HTML representation or trust the notebook. <br />On GitHub, the HTML representation is unable to render, please try loading this page with nbviewer.org.</b></div><div class=\"sk-container\" hidden><div class=\"sk-item\"><div class=\"sk-estimator sk-toggleable\"><input class=\"sk-toggleable__control sk-hidden--visually\" id=\"sk-estimator-id-20\" type=\"checkbox\" checked><label for=\"sk-estimator-id-20\" class=\"sk-toggleable__label sk-toggleable__label-arrow\">RandomForestClassifier</label><div class=\"sk-toggleable__content\"><pre>RandomForestClassifier()</pre></div></div></div></div></div>"
      ],
      "text/plain": [
       "RandomForestClassifier()"
      ]
     },
     "execution_count": 986,
     "metadata": {},
     "output_type": "execute_result"
    }
   ],
   "source": [
    "# Extract features from user activity\n",
    "# features = ['Answers', 'Questions', 'Accepted']\n",
    "features = ['Answers', 'Questions', 'Comments']\n",
    "X_train = train_df[features]\n",
    "y_train = train_df['category']\n",
    "X_test = test_df[features]\n",
    "y_test = test_df['category']\n",
    "\n",
    "# Train Random Forest model with 100 estimators\n",
    "model = RandomForestClassifier()\n",
    "model.fit(X_train, y_train)"
   ]
  },
  {
   "cell_type": "code",
   "execution_count": 997,
   "id": "3b7b8441",
   "metadata": {},
   "outputs": [
    {
     "name": "stdout",
     "output_type": "stream",
     "text": [
      "Model accuracy: 0.9956996587030716\n"
     ]
    }
   ],
   "source": [
    "# Evaluate model on testing set\n",
    "y_pred = model.predict(X_test)\n",
    "\n",
    "# Get probability estimates for the test set\n",
    "y_prob = model.predict_proba(X_test)[:, 1]\n",
    "\n",
    "accuracy = accuracy_score(y_test, y_pred)\n",
    "print('Model accuracy:', accuracy)"
   ]
  },
  {
   "cell_type": "code",
   "execution_count": 998,
   "id": "11373823",
   "metadata": {},
   "outputs": [
    {
     "name": "stdout",
     "output_type": "stream",
     "text": [
      "              precision    recall  f1-score   support\n",
      "\n",
      "      expert       0.54      0.43      0.48       134\n",
      "  non-expert       1.00      1.00      1.00     29166\n",
      "\n",
      "    accuracy                           1.00     29300\n",
      "   macro avg       0.77      0.72      0.74     29300\n",
      "weighted avg       1.00      1.00      1.00     29300\n",
      "\n"
     ]
    }
   ],
   "source": [
    "from sklearn.metrics import classification_report\n",
    "\n",
    "# Evaluate model on testing set\n",
    "y_pred = model.predict(X_test)\n",
    "report = classification_report(y_test, y_pred)\n",
    "print(report)"
   ]
  },
  {
   "cell_type": "markdown",
   "id": "b1552f66",
   "metadata": {},
   "source": [
    "# Graph"
   ]
  },
  {
   "cell_type": "code",
   "execution_count": 999,
   "id": "442e2478",
   "metadata": {},
   "outputs": [],
   "source": [
    "from sklearn.preprocessing import LabelEncoder\n",
    "\n",
    "# encode labels to numerical values\n",
    "le = LabelEncoder()\n",
    "y_test_encoded = le.fit_transform(y_test)\n",
    "\n",
    "# Get probability estimates for the test set\n",
    "y_prob = model.predict_proba(X_test)[:, 1]\n",
    "\n",
    "# Compute ROC curve and ROC area for each class\n",
    "fpr, tpr, _ = roc_curve(y_test_encoded, y_prob)\n",
    "roc_auc = auc(fpr, tpr)\n"
   ]
  },
  {
   "cell_type": "code",
   "execution_count": 1000,
   "id": "e5c6c7b3",
   "metadata": {},
   "outputs": [],
   "source": [
    "# Get probability estimates for the test set\n",
    "y_prob = model.predict_proba(X_test)[:, 1]\n",
    "\n",
    "# Compute ROC curve and ROC area for each class\n",
    "fpr, tpr, _ = roc_curve(y_test, y_prob, pos_label='expert')\n",
    "roc_auc = auc(fpr, tpr)"
   ]
  },
  {
   "cell_type": "code",
   "execution_count": 1001,
   "id": "3a520e5a",
   "metadata": {},
   "outputs": [
    {
     "data": {
      "image/png": "[encoded data removed]",
      "text/plain": [
       "<Figure size 432x288 with 1 Axes>"
      ]
     },
     "metadata": {
      "needs_background": "light"
     },
     "output_type": "display_data"
    }
   ],
   "source": [
    "# Plot ROC curve\n",
    "plt.figure()\n",
    "lw = 2\n",
    "plt.plot(fpr, tpr, color='darkorange', lw=lw, label='ROC curve (area = %0.2f)' % roc_auc)\n",
    "plt.plot([0, 1], [0, 1], color='navy', lw=lw, linestyle='--')\n",
    "plt.xlim([0.0, 1.0])\n",
    "plt.ylim([0.0, 1.05])\n",
    "plt.xlabel('False Positive Rate')\n",
    "plt.ylabel('True Positive Rate')\n",
    "plt.title('Receiver operating characteristic')\n",
    "plt.legend(loc=\"lower right\")\n",
    "plt.show()"
   ]
  },
  {
   "cell_type": "code",
   "execution_count": 1005,
   "id": "e9679b10",
   "metadata": {},
   "outputs": [
    {
     "data": {
      "image/png": "[encoded data removed]",
      "text/plain": [
       "<Figure size 432x288 with 1 Axes>"
      ]
     },
     "metadata": {
      "needs_background": "light"
     },
     "output_type": "display_data"
    }
   ],
   "source": [
    "from sklearn.metrics import precision_recall_curve, auc\n",
    "\n",
    "# Get predicted probabilities and calculate precision-recall values\n",
    "y_prob = model.predict_proba(X_test)[:,1]\n",
    "precision, recall, thresholds = precision_recall_curve(y_test, y_prob, pos_label='expert')\n",
    "\n",
    "# Calculate area under the curve\n",
    "area = auc(recall, precision)\n",
    "\n",
    "# Plot the precision-recall curve and show the area\n",
    "plt.plot(recall, precision, marker='.', markersize=10)\n",
    "plt.fill_between(recall, precision, alpha=0.2)\n",
    "plt.xlim([0.0, 1.05])\n",
    "plt.ylim([0.0, 1.05])\n",
    "plt.xlabel('Recall')\n",
    "plt.ylabel('Precision')\n",
    "plt.title('Precision-Recall Curve\\nArea Under Curve: {:.2f}'.format(area))\n",
    "plt.show()\n"
   ]
  },
  {
   "cell_type": "code",
   "execution_count": null,
   "id": "30bf9524",
   "metadata": {},
   "outputs": [],
   "source": []
  }
 ],
 "metadata": {
  "kernelspec": {
   "display_name": "Python 3 (ipykernel)",
   "language": "python",
   "name": "python3"
  },
  "language_info": {
   "codemirror_mode": {
    "name": "ipython",
    "version": 3
   },
   "file_extension": ".py",
   "mimetype": "text/x-python",
   "name": "python",
   "nbconvert_exporter": "python",
   "pygments_lexer": "ipython3",
   "version": "3.10.5"
  }
 },
 "nbformat": 4,
 "nbformat_minor": 5
}
