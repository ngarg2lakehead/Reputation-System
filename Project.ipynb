{
 "cells": [
  {
   "cell_type": "code",
   "execution_count": 1,
   "id": "648ed4e3",
   "metadata": {},
   "outputs": [],
   "source": [
    "import pandas as pd\n",
    "import numpy as np\n",
    "import matplotlib.pyplot as plt\n",
    "from scipy.optimize import curve_fit"
   ]
  },
  {
   "cell_type": "markdown",
   "id": "daeae44e",
   "metadata": {},
   "source": [
    "# Exploratory analysis of data"
   ]
  },
  {
   "cell_type": "code",
   "execution_count": 33,
   "id": "017e8cb5",
   "metadata": {},
   "outputs": [],
   "source": [
    "df_posts = pd.read_xml(\"../updated_database/posts.xml\")"
   ]
  },
  {
   "cell_type": "code",
   "execution_count": 3,
   "id": "58560418",
   "metadata": {},
   "outputs": [
    {
     "data": {
      "text/plain": [
       "(308300, 22)"
      ]
     },
     "execution_count": 3,
     "metadata": {},
     "output_type": "execute_result"
    }
   ],
   "source": [
    "df_posts.shape"
   ]
  },
  {
   "cell_type": "code",
   "execution_count": 34,
   "id": "453d7756",
   "metadata": {},
   "outputs": [],
   "source": [
    "df_sorted = df_posts.sort_values('CreationDate')"
   ]
  },
  {
   "cell_type": "code",
   "execution_count": 35,
   "id": "fdd7eec9",
   "metadata": {},
   "outputs": [
    {
     "data": {
      "text/html": [
       "<div>\n",
       "<style scoped>\n",
       "    .dataframe tbody tr th:only-of-type {\n",
       "        vertical-align: middle;\n",
       "    }\n",
       "\n",
       "    .dataframe tbody tr th {\n",
       "        vertical-align: top;\n",
       "    }\n",
       "\n",
       "    .dataframe thead th {\n",
       "        text-align: right;\n",
       "    }\n",
       "</style>\n",
       "<table border=\"1\" class=\"dataframe\">\n",
       "  <thead>\n",
       "    <tr style=\"text-align: right;\">\n",
       "      <th></th>\n",
       "      <th>Id</th>\n",
       "      <th>PostTypeId</th>\n",
       "      <th>AcceptedAnswerId</th>\n",
       "      <th>CreationDate</th>\n",
       "      <th>Score</th>\n",
       "      <th>ViewCount</th>\n",
       "      <th>Body</th>\n",
       "      <th>OwnerUserId</th>\n",
       "      <th>LastEditorUserId</th>\n",
       "      <th>LastEditDate</th>\n",
       "      <th>...</th>\n",
       "      <th>Tags</th>\n",
       "      <th>AnswerCount</th>\n",
       "      <th>CommentCount</th>\n",
       "      <th>FavoriteCount</th>\n",
       "      <th>ContentLicense</th>\n",
       "      <th>ParentId</th>\n",
       "      <th>LastEditorDisplayName</th>\n",
       "      <th>OwnerDisplayName</th>\n",
       "      <th>CommunityOwnedDate</th>\n",
       "      <th>ClosedDate</th>\n",
       "    </tr>\n",
       "  </thead>\n",
       "  <tbody>\n",
       "    <tr>\n",
       "      <th>0</th>\n",
       "      <td>1</td>\n",
       "      <td>1</td>\n",
       "      <td>2.0</td>\n",
       "      <td>2015-10-29T15:56:52.933</td>\n",
       "      <td>33</td>\n",
       "      <td>520.0</td>\n",
       "      <td>&lt;p&gt;Estoy creando un servicio usando &lt;em&gt;ASP.NE...</td>\n",
       "      <td>23.0</td>\n",
       "      <td>13558.0</td>\n",
       "      <td>2019-07-07T21:36:17.737</td>\n",
       "      <td>...</td>\n",
       "      <td>&lt;.net&gt;&lt;asp.net-web-api&gt;&lt;asp.net&gt;</td>\n",
       "      <td>1.0</td>\n",
       "      <td>2</td>\n",
       "      <td>4.0</td>\n",
       "      <td>CC BY-SA 4.0</td>\n",
       "      <td>NaN</td>\n",
       "      <td>None</td>\n",
       "      <td>None</td>\n",
       "      <td>None</td>\n",
       "      <td>None</td>\n",
       "    </tr>\n",
       "    <tr>\n",
       "      <th>1</th>\n",
       "      <td>2</td>\n",
       "      <td>2</td>\n",
       "      <td>NaN</td>\n",
       "      <td>2015-10-29T19:14:23.673</td>\n",
       "      <td>26</td>\n",
       "      <td>NaN</td>\n",
       "      <td>&lt;p&gt;He encontrado la solución.&lt;/p&gt;\\n\\n&lt;p&gt;Result...</td>\n",
       "      <td>23.0</td>\n",
       "      <td>NaN</td>\n",
       "      <td>None</td>\n",
       "      <td>...</td>\n",
       "      <td>None</td>\n",
       "      <td>NaN</td>\n",
       "      <td>2</td>\n",
       "      <td>NaN</td>\n",
       "      <td>CC BY-SA 3.0</td>\n",
       "      <td>1.0</td>\n",
       "      <td>None</td>\n",
       "      <td>None</td>\n",
       "      <td>None</td>\n",
       "      <td>None</td>\n",
       "    </tr>\n",
       "  </tbody>\n",
       "</table>\n",
       "<p>2 rows × 22 columns</p>\n",
       "</div>"
      ],
      "text/plain": [
       "   Id  PostTypeId  AcceptedAnswerId             CreationDate  Score  \\\n",
       "0   1           1               2.0  2015-10-29T15:56:52.933     33   \n",
       "1   2           2               NaN  2015-10-29T19:14:23.673     26   \n",
       "\n",
       "   ViewCount                                               Body  OwnerUserId  \\\n",
       "0      520.0  <p>Estoy creando un servicio usando <em>ASP.NE...         23.0   \n",
       "1        NaN  <p>He encontrado la solución.</p>\\n\\n<p>Result...         23.0   \n",
       "\n",
       "   LastEditorUserId             LastEditDate  ...  \\\n",
       "0           13558.0  2019-07-07T21:36:17.737  ...   \n",
       "1               NaN                     None  ...   \n",
       "\n",
       "                               Tags AnswerCount CommentCount  FavoriteCount  \\\n",
       "0  <.net><asp.net-web-api><asp.net>         1.0            2            4.0   \n",
       "1                              None         NaN            2            NaN   \n",
       "\n",
       "   ContentLicense  ParentId LastEditorDisplayName  OwnerDisplayName  \\\n",
       "0    CC BY-SA 4.0       NaN                  None              None   \n",
       "1    CC BY-SA 3.0       1.0                  None              None   \n",
       "\n",
       "  CommunityOwnedDate ClosedDate  \n",
       "0               None       None  \n",
       "1               None       None  \n",
       "\n",
       "[2 rows x 22 columns]"
      ]
     },
     "execution_count": 35,
     "metadata": {},
     "output_type": "execute_result"
    }
   ],
   "source": [
    "df_sorted.head(2)"
   ]
  },
  {
   "cell_type": "code",
   "execution_count": 36,
   "id": "677055b9",
   "metadata": {},
   "outputs": [
    {
     "data": {
      "text/html": [
       "<div>\n",
       "<style scoped>\n",
       "    .dataframe tbody tr th:only-of-type {\n",
       "        vertical-align: middle;\n",
       "    }\n",
       "\n",
       "    .dataframe tbody tr th {\n",
       "        vertical-align: top;\n",
       "    }\n",
       "\n",
       "    .dataframe thead th {\n",
       "        text-align: right;\n",
       "    }\n",
       "</style>\n",
       "<table border=\"1\" class=\"dataframe\">\n",
       "  <thead>\n",
       "    <tr style=\"text-align: right;\">\n",
       "      <th></th>\n",
       "      <th>Id</th>\n",
       "      <th>PostTypeId</th>\n",
       "      <th>AcceptedAnswerId</th>\n",
       "      <th>CreationDate</th>\n",
       "      <th>Score</th>\n",
       "      <th>ViewCount</th>\n",
       "      <th>Body</th>\n",
       "      <th>OwnerUserId</th>\n",
       "      <th>LastEditorUserId</th>\n",
       "      <th>LastEditDate</th>\n",
       "      <th>...</th>\n",
       "      <th>Tags</th>\n",
       "      <th>AnswerCount</th>\n",
       "      <th>CommentCount</th>\n",
       "      <th>FavoriteCount</th>\n",
       "      <th>ContentLicense</th>\n",
       "      <th>ParentId</th>\n",
       "      <th>LastEditorDisplayName</th>\n",
       "      <th>OwnerDisplayName</th>\n",
       "      <th>CommunityOwnedDate</th>\n",
       "      <th>ClosedDate</th>\n",
       "    </tr>\n",
       "  </thead>\n",
       "  <tbody>\n",
       "    <tr>\n",
       "      <th>308298</th>\n",
       "      <td>431641</td>\n",
       "      <td>1</td>\n",
       "      <td>NaN</td>\n",
       "      <td>2021-02-28T02:33:33.357</td>\n",
       "      <td>0</td>\n",
       "      <td>2.0</td>\n",
       "      <td>&lt;p&gt;Estoy tratando de crear un script en powers...</td>\n",
       "      <td>144334.0</td>\n",
       "      <td>NaN</td>\n",
       "      <td>None</td>\n",
       "      <td>...</td>\n",
       "      <td>&lt;script&gt;&lt;email&gt;&lt;powershell&gt;&lt;codificación&gt;&lt;outl...</td>\n",
       "      <td>0.0</td>\n",
       "      <td>0</td>\n",
       "      <td>NaN</td>\n",
       "      <td>CC BY-SA 4.0</td>\n",
       "      <td>NaN</td>\n",
       "      <td>None</td>\n",
       "      <td>None</td>\n",
       "      <td>None</td>\n",
       "      <td>None</td>\n",
       "    </tr>\n",
       "    <tr>\n",
       "      <th>308299</th>\n",
       "      <td>431642</td>\n",
       "      <td>1</td>\n",
       "      <td>NaN</td>\n",
       "      <td>2021-02-28T02:50:40.080</td>\n",
       "      <td>0</td>\n",
       "      <td>3.0</td>\n",
       "      <td>&lt;p&gt;Estoy  realizando un tabla maestro detalle ...</td>\n",
       "      <td>207109.0</td>\n",
       "      <td>NaN</td>\n",
       "      <td>None</td>\n",
       "      <td>...</td>\n",
       "      <td>&lt;sql-server&gt;&lt;stored-procedure&gt;</td>\n",
       "      <td>0.0</td>\n",
       "      <td>0</td>\n",
       "      <td>NaN</td>\n",
       "      <td>CC BY-SA 4.0</td>\n",
       "      <td>NaN</td>\n",
       "      <td>None</td>\n",
       "      <td>None</td>\n",
       "      <td>None</td>\n",
       "      <td>None</td>\n",
       "    </tr>\n",
       "  </tbody>\n",
       "</table>\n",
       "<p>2 rows × 22 columns</p>\n",
       "</div>"
      ],
      "text/plain": [
       "            Id  PostTypeId  AcceptedAnswerId             CreationDate  Score  \\\n",
       "308298  431641           1               NaN  2021-02-28T02:33:33.357      0   \n",
       "308299  431642           1               NaN  2021-02-28T02:50:40.080      0   \n",
       "\n",
       "        ViewCount                                               Body  \\\n",
       "308298        2.0  <p>Estoy tratando de crear un script en powers...   \n",
       "308299        3.0  <p>Estoy  realizando un tabla maestro detalle ...   \n",
       "\n",
       "        OwnerUserId  LastEditorUserId LastEditDate  ...  \\\n",
       "308298     144334.0               NaN         None  ...   \n",
       "308299     207109.0               NaN         None  ...   \n",
       "\n",
       "                                                     Tags AnswerCount  \\\n",
       "308298  <script><email><powershell><codificación><outl...         0.0   \n",
       "308299                     <sql-server><stored-procedure>         0.0   \n",
       "\n",
       "       CommentCount  FavoriteCount  ContentLicense  ParentId  \\\n",
       "308298            0            NaN    CC BY-SA 4.0       NaN   \n",
       "308299            0            NaN    CC BY-SA 4.0       NaN   \n",
       "\n",
       "       LastEditorDisplayName  OwnerDisplayName CommunityOwnedDate ClosedDate  \n",
       "308298                  None              None               None       None  \n",
       "308299                  None              None               None       None  \n",
       "\n",
       "[2 rows x 22 columns]"
      ]
     },
     "execution_count": 36,
     "metadata": {},
     "output_type": "execute_result"
    }
   ],
   "source": [
    "df_sorted.tail(2)"
   ]
  },
  {
   "cell_type": "code",
   "execution_count": 7,
   "id": "37f7e64c",
   "metadata": {},
   "outputs": [],
   "source": [
    "questions = df_posts[data_posts['PostTypeId']==1]"
   ]
  },
  {
   "cell_type": "code",
   "execution_count": 8,
   "id": "8106f2dc",
   "metadata": {},
   "outputs": [
    {
     "data": {
      "text/plain": [
       "145623"
      ]
     },
     "execution_count": 8,
     "metadata": {},
     "output_type": "execute_result"
    }
   ],
   "source": [
    "len(questions)"
   ]
  },
  {
   "cell_type": "code",
   "execution_count": 37,
   "id": "8548ad29",
   "metadata": {},
   "outputs": [
    {
     "data": {
      "text/plain": [
       "2    159308\n",
       "1    145623\n",
       "5      1672\n",
       "4      1672\n",
       "6        23\n",
       "7         2\n",
       "Name: PostTypeId, dtype: int64"
      ]
     },
     "execution_count": 37,
     "metadata": {},
     "output_type": "execute_result"
    }
   ],
   "source": [
    "df_posts['PostTypeId'].value_counts()"
   ]
  },
  {
   "cell_type": "code",
   "execution_count": 10,
   "id": "cacbcb50",
   "metadata": {},
   "outputs": [],
   "source": [
    "df_votes = pd.read_xml(\"../updated_database/votes.xml\")"
   ]
  },
  {
   "cell_type": "code",
   "execution_count": 11,
   "id": "e9b0572c",
   "metadata": {},
   "outputs": [
    {
     "data": {
      "text/html": [
       "<div>\n",
       "<style scoped>\n",
       "    .dataframe tbody tr th:only-of-type {\n",
       "        vertical-align: middle;\n",
       "    }\n",
       "\n",
       "    .dataframe tbody tr th {\n",
       "        vertical-align: top;\n",
       "    }\n",
       "\n",
       "    .dataframe thead th {\n",
       "        text-align: right;\n",
       "    }\n",
       "</style>\n",
       "<table border=\"1\" class=\"dataframe\">\n",
       "  <thead>\n",
       "    <tr style=\"text-align: right;\">\n",
       "      <th></th>\n",
       "      <th>Id</th>\n",
       "      <th>PostId</th>\n",
       "      <th>VoteTypeId</th>\n",
       "      <th>CreationDate</th>\n",
       "      <th>UserId</th>\n",
       "      <th>BountyAmount</th>\n",
       "    </tr>\n",
       "  </thead>\n",
       "  <tbody>\n",
       "    <tr>\n",
       "      <th>0</th>\n",
       "      <td>1</td>\n",
       "      <td>1</td>\n",
       "      <td>2</td>\n",
       "      <td>2015-10-29T00:00:00.000</td>\n",
       "      <td>NaN</td>\n",
       "      <td>NaN</td>\n",
       "    </tr>\n",
       "  </tbody>\n",
       "</table>\n",
       "</div>"
      ],
      "text/plain": [
       "   Id  PostId  VoteTypeId             CreationDate  UserId  BountyAmount\n",
       "0   1       1           2  2015-10-29T00:00:00.000     NaN           NaN"
      ]
     },
     "execution_count": 11,
     "metadata": {},
     "output_type": "execute_result"
    }
   ],
   "source": [
    "df_votes.head(1)"
   ]
  },
  {
   "cell_type": "code",
   "execution_count": 12,
   "id": "fc6432eb",
   "metadata": {},
   "outputs": [
    {
     "data": {
      "text/plain": [
       "(628897, 6)"
      ]
     },
     "execution_count": 12,
     "metadata": {},
     "output_type": "execute_result"
    }
   ],
   "source": [
    "df_votes.shape"
   ]
  },
  {
   "cell_type": "code",
   "execution_count": 13,
   "id": "adc14dd3",
   "metadata": {},
   "outputs": [
    {
     "data": {
      "text/plain": [
       "2     329266\n",
       "3      95881\n",
       "1      62007\n",
       "10     47813\n",
       "16     40618\n",
       "15     24294\n",
       "5      22758\n",
       "11      3832\n",
       "8       1169\n",
       "9       1163\n",
       "4         52\n",
       "12        44\n",
       "Name: VoteTypeId, dtype: int64"
      ]
     },
     "execution_count": 13,
     "metadata": {},
     "output_type": "execute_result"
    }
   ],
   "source": [
    "df_votes['VoteTypeId'].value_counts()"
   ]
  },
  {
   "cell_type": "code",
   "execution_count": 14,
   "id": "0a24ee80",
   "metadata": {},
   "outputs": [],
   "source": [
    "accepted = df_votes[df_votes['VoteTypeId']==2]"
   ]
  },
  {
   "cell_type": "code",
   "execution_count": 15,
   "id": "e32526dc",
   "metadata": {},
   "outputs": [
    {
     "data": {
      "text/html": [
       "<div>\n",
       "<style scoped>\n",
       "    .dataframe tbody tr th:only-of-type {\n",
       "        vertical-align: middle;\n",
       "    }\n",
       "\n",
       "    .dataframe tbody tr th {\n",
       "        vertical-align: top;\n",
       "    }\n",
       "\n",
       "    .dataframe thead th {\n",
       "        text-align: right;\n",
       "    }\n",
       "</style>\n",
       "<table border=\"1\" class=\"dataframe\">\n",
       "  <thead>\n",
       "    <tr style=\"text-align: right;\">\n",
       "      <th></th>\n",
       "      <th>Id</th>\n",
       "      <th>PostId</th>\n",
       "      <th>VoteTypeId</th>\n",
       "      <th>CreationDate</th>\n",
       "      <th>UserId</th>\n",
       "      <th>BountyAmount</th>\n",
       "    </tr>\n",
       "  </thead>\n",
       "  <tbody>\n",
       "    <tr>\n",
       "      <th>0</th>\n",
       "      <td>1</td>\n",
       "      <td>1</td>\n",
       "      <td>2</td>\n",
       "      <td>2015-10-29T00:00:00.000</td>\n",
       "      <td>NaN</td>\n",
       "      <td>NaN</td>\n",
       "    </tr>\n",
       "    <tr>\n",
       "      <th>1</th>\n",
       "      <td>2</td>\n",
       "      <td>2</td>\n",
       "      <td>2</td>\n",
       "      <td>2015-10-29T00:00:00.000</td>\n",
       "      <td>NaN</td>\n",
       "      <td>NaN</td>\n",
       "    </tr>\n",
       "  </tbody>\n",
       "</table>\n",
       "</div>"
      ],
      "text/plain": [
       "   Id  PostId  VoteTypeId             CreationDate  UserId  BountyAmount\n",
       "0   1       1           2  2015-10-29T00:00:00.000     NaN           NaN\n",
       "1   2       2           2  2015-10-29T00:00:00.000     NaN           NaN"
      ]
     },
     "execution_count": 15,
     "metadata": {},
     "output_type": "execute_result"
    }
   ],
   "source": [
    "accepted.head(2)"
   ]
  },
  {
   "cell_type": "markdown",
   "id": "3dbbf7a6",
   "metadata": {},
   "source": [
    "# Analysis of user's reputation over the years"
   ]
  },
  {
   "cell_type": "code",
   "execution_count": 16,
   "id": "f277cd21",
   "metadata": {},
   "outputs": [],
   "source": [
    "df_users = pd.read_xml(\"../updated_database/users.xml\")"
   ]
  },
  {
   "cell_type": "code",
   "execution_count": 539,
   "id": "33e51162",
   "metadata": {},
   "outputs": [
    {
     "data": {
      "text/plain": [
       "197836"
      ]
     },
     "execution_count": 539,
     "metadata": {},
     "output_type": "execute_result"
    }
   ],
   "source": [
    "len(df_users)"
   ]
  },
  {
   "cell_type": "code",
   "execution_count": 540,
   "id": "f2bef49b",
   "metadata": {},
   "outputs": [
    {
     "data": {
      "text/html": [
       "<div>\n",
       "<style scoped>\n",
       "    .dataframe tbody tr th:only-of-type {\n",
       "        vertical-align: middle;\n",
       "    }\n",
       "\n",
       "    .dataframe tbody tr th {\n",
       "        vertical-align: top;\n",
       "    }\n",
       "\n",
       "    .dataframe thead th {\n",
       "        text-align: right;\n",
       "    }\n",
       "</style>\n",
       "<table border=\"1\" class=\"dataframe\">\n",
       "  <thead>\n",
       "    <tr style=\"text-align: right;\">\n",
       "      <th></th>\n",
       "      <th>Id</th>\n",
       "      <th>Reputation</th>\n",
       "      <th>CreationDate</th>\n",
       "      <th>DisplayName</th>\n",
       "      <th>LastAccessDate</th>\n",
       "      <th>WebsiteUrl</th>\n",
       "      <th>Location</th>\n",
       "      <th>AboutMe</th>\n",
       "      <th>Views</th>\n",
       "      <th>UpVotes</th>\n",
       "      <th>DownVotes</th>\n",
       "      <th>AccountId</th>\n",
       "      <th>ProfileImageUrl</th>\n",
       "    </tr>\n",
       "  </thead>\n",
       "  <tbody>\n",
       "    <tr>\n",
       "      <th>0</th>\n",
       "      <td>-1</td>\n",
       "      <td>1</td>\n",
       "      <td>2015-10-26T21:36:24.767</td>\n",
       "      <td>Comunidad</td>\n",
       "      <td>2015-10-26T21:36:24.767</td>\n",
       "      <td>NaN</td>\n",
       "      <td>en la granja de servidores</td>\n",
       "      <td>&lt;p&gt;Hola, no soy una persona real.&lt;/p&gt;\\n\\n&lt;p&gt;¡S...</td>\n",
       "      <td>251</td>\n",
       "      <td>9652</td>\n",
       "      <td>17781</td>\n",
       "      <td>-1.0</td>\n",
       "      <td>None</td>\n",
       "    </tr>\n",
       "  </tbody>\n",
       "</table>\n",
       "</div>"
      ],
      "text/plain": [
       "   Id  Reputation             CreationDate DisplayName  \\\n",
       "0  -1           1  2015-10-26T21:36:24.767   Comunidad   \n",
       "\n",
       "            LastAccessDate WebsiteUrl                    Location  \\\n",
       "0  2015-10-26T21:36:24.767        NaN  en la granja de servidores   \n",
       "\n",
       "                                             AboutMe  Views  UpVotes  \\\n",
       "0  <p>Hola, no soy una persona real.</p>\\n\\n<p>¡S...    251     9652   \n",
       "\n",
       "   DownVotes  AccountId ProfileImageUrl  \n",
       "0      17781       -1.0            None  "
      ]
     },
     "execution_count": 540,
     "metadata": {},
     "output_type": "execute_result"
    }
   ],
   "source": [
    "df_users.head(1)"
   ]
  },
  {
   "cell_type": "code",
   "execution_count": 541,
   "id": "01810aa0",
   "metadata": {},
   "outputs": [
    {
     "data": {
      "text/plain": [
       "91715"
      ]
     },
     "execution_count": 541,
     "metadata": {},
     "output_type": "execute_result"
    }
   ],
   "source": [
    "df_users['Reputation'].max()"
   ]
  },
  {
   "cell_type": "code",
   "execution_count": 542,
   "id": "26462880",
   "metadata": {},
   "outputs": [
    {
     "name": "stdout",
     "output_type": "stream",
     "text": [
      "Id                                                                95\n",
      "Reputation                                                     91715\n",
      "CreationDate                                 2015-12-01T16:53:09.890\n",
      "DisplayName                                                 Jorgesys\n",
      "LastAccessDate                               2021-02-27T23:14:52.843\n",
      "WebsiteUrl                                 http://www.cplusplus.com/\n",
      "Location                   Mexico City, CDMX, Mexico / Iași, Romania\n",
      "AboutMe            <p><a href=\"/questions/tagged/java\" class=\"pos...\n",
      "Views                                                          13489\n",
      "UpVotes                                                         8162\n",
      "DownVotes                                                       2276\n",
      "AccountId                                                    91056.0\n",
      "ProfileImageUrl                                                 None\n",
      "Name: 86, dtype: object\n"
     ]
    }
   ],
   "source": [
    "highest_reputation_index = df_users['Reputation'].idxmax()\n",
    "highest_reputation_person = df_users.loc[highest_reputation_index]\n",
    "print(highest_reputation_person)"
   ]
  },
  {
   "cell_type": "code",
   "execution_count": 543,
   "id": "ab74dd72",
   "metadata": {},
   "outputs": [
    {
     "data": {
      "text/plain": [
       "1"
      ]
     },
     "execution_count": 543,
     "metadata": {},
     "output_type": "execute_result"
    }
   ],
   "source": [
    "df_users['Reputation'].min()"
   ]
  },
  {
   "cell_type": "code",
   "execution_count": 544,
   "id": "51d6c8f1",
   "metadata": {},
   "outputs": [],
   "source": [
    "df_users['Year'] = pd.to_datetime(df_users['CreationDate']).dt.year\n",
    "df_users['Month'] = pd.to_datetime(df_users['CreationDate']).dt.month"
   ]
  },
  {
   "cell_type": "code",
   "execution_count": 545,
   "id": "1107963d",
   "metadata": {},
   "outputs": [
    {
     "data": {
      "text/html": [
       "<div>\n",
       "<style scoped>\n",
       "    .dataframe tbody tr th:only-of-type {\n",
       "        vertical-align: middle;\n",
       "    }\n",
       "\n",
       "    .dataframe tbody tr th {\n",
       "        vertical-align: top;\n",
       "    }\n",
       "\n",
       "    .dataframe thead th {\n",
       "        text-align: right;\n",
       "    }\n",
       "</style>\n",
       "<table border=\"1\" class=\"dataframe\">\n",
       "  <thead>\n",
       "    <tr style=\"text-align: right;\">\n",
       "      <th></th>\n",
       "      <th>Id</th>\n",
       "      <th>Reputation</th>\n",
       "      <th>CreationDate</th>\n",
       "      <th>DisplayName</th>\n",
       "      <th>LastAccessDate</th>\n",
       "      <th>WebsiteUrl</th>\n",
       "      <th>Location</th>\n",
       "      <th>AboutMe</th>\n",
       "      <th>Views</th>\n",
       "      <th>UpVotes</th>\n",
       "      <th>DownVotes</th>\n",
       "      <th>AccountId</th>\n",
       "      <th>ProfileImageUrl</th>\n",
       "      <th>Year</th>\n",
       "      <th>Month</th>\n",
       "    </tr>\n",
       "  </thead>\n",
       "  <tbody>\n",
       "    <tr>\n",
       "      <th>0</th>\n",
       "      <td>-1</td>\n",
       "      <td>1</td>\n",
       "      <td>2015-10-26T21:36:24.767</td>\n",
       "      <td>Comunidad</td>\n",
       "      <td>2015-10-26T21:36:24.767</td>\n",
       "      <td>NaN</td>\n",
       "      <td>en la granja de servidores</td>\n",
       "      <td>&lt;p&gt;Hola, no soy una persona real.&lt;/p&gt;\\n\\n&lt;p&gt;¡S...</td>\n",
       "      <td>251</td>\n",
       "      <td>9652</td>\n",
       "      <td>17781</td>\n",
       "      <td>-1.0</td>\n",
       "      <td>None</td>\n",
       "      <td>2015</td>\n",
       "      <td>10</td>\n",
       "    </tr>\n",
       "    <tr>\n",
       "      <th>1</th>\n",
       "      <td>1</td>\n",
       "      <td>101</td>\n",
       "      <td>2015-10-26T22:50:12.710</td>\n",
       "      <td>Geoff Dalgas</td>\n",
       "      <td>2021-01-05T19:45:26.807</td>\n",
       "      <td>http://stackoverflow.com</td>\n",
       "      <td>Corvallis, OR</td>\n",
       "      <td>&lt;p&gt;Dev #2 who helped create Stack Overflow cur...</td>\n",
       "      <td>2883</td>\n",
       "      <td>0</td>\n",
       "      <td>0</td>\n",
       "      <td>2.0</td>\n",
       "      <td>https://i.stack.imgur.com/nDllk.png?s=128&amp;g=1</td>\n",
       "      <td>2015</td>\n",
       "      <td>10</td>\n",
       "    </tr>\n",
       "  </tbody>\n",
       "</table>\n",
       "</div>"
      ],
      "text/plain": [
       "   Id  Reputation             CreationDate   DisplayName  \\\n",
       "0  -1           1  2015-10-26T21:36:24.767     Comunidad   \n",
       "1   1         101  2015-10-26T22:50:12.710  Geoff Dalgas   \n",
       "\n",
       "            LastAccessDate                WebsiteUrl  \\\n",
       "0  2015-10-26T21:36:24.767                       NaN   \n",
       "1  2021-01-05T19:45:26.807  http://stackoverflow.com   \n",
       "\n",
       "                     Location  \\\n",
       "0  en la granja de servidores   \n",
       "1               Corvallis, OR   \n",
       "\n",
       "                                             AboutMe  Views  UpVotes  \\\n",
       "0  <p>Hola, no soy una persona real.</p>\\n\\n<p>¡S...    251     9652   \n",
       "1  <p>Dev #2 who helped create Stack Overflow cur...   2883        0   \n",
       "\n",
       "   DownVotes  AccountId                                ProfileImageUrl  Year  \\\n",
       "0      17781       -1.0                                           None  2015   \n",
       "1          0        2.0  https://i.stack.imgur.com/nDllk.png?s=128&g=1  2015   \n",
       "\n",
       "   Month  \n",
       "0     10  \n",
       "1     10  "
      ]
     },
     "execution_count": 545,
     "metadata": {},
     "output_type": "execute_result"
    }
   ],
   "source": [
    "df_users.head(2)"
   ]
  },
  {
   "cell_type": "code",
   "execution_count": 546,
   "id": "f96cf5c0",
   "metadata": {},
   "outputs": [],
   "source": [
    "yearly_reputation = df_users.groupby('Year')['Reputation'].sum()"
   ]
  },
  {
   "cell_type": "code",
   "execution_count": 547,
   "id": "05e2a478",
   "metadata": {},
   "outputs": [
    {
     "data": {
      "text/plain": [
       "Year\n",
       "2015     709408\n",
       "2016    1659920\n",
       "2017    1197281\n",
       "2018     804617\n",
       "2019     542802\n",
       "2020     378907\n",
       "2021      29855\n",
       "Name: Reputation, dtype: int64"
      ]
     },
     "execution_count": 547,
     "metadata": {},
     "output_type": "execute_result"
    }
   ],
   "source": [
    "yearly_reputation"
   ]
  },
  {
   "cell_type": "code",
   "execution_count": 548,
   "id": "4f6b38e5",
   "metadata": {},
   "outputs": [],
   "source": [
    "df_users_2015 = df_users[df_users['Year']==2015]\n",
    "df_users_2016 = df_users[df_users['Year']==2016]\n",
    "df_users_2017 = df_users[df_users['Year']==2017]\n",
    "df_users_2018 = df_users[df_users['Year']==2018]\n",
    "df_users_2019 = df_users[df_users['Year']==2019]\n",
    "df_users_2020 = df_users[df_users['Year']==2020]\n",
    "df_users_2021 = df_users[df_users['Year']==2021]"
   ]
  },
  {
   "cell_type": "code",
   "execution_count": 569,
   "id": "3a3a4f6f",
   "metadata": {},
   "outputs": [
    {
     "data": {
      "image/png": "[encoded data removed]",
      "text/plain": [
       "<Figure size 432x288 with 1 Axes>"
      ]
     },
     "metadata": {
      "needs_background": "light"
     },
     "output_type": "display_data"
    }
   ],
   "source": [
    "# Count the number of users for each reputation level\n",
    "reputation_counts = df_users_2015['Reputation'].value_counts(sort=False).sort_index()\n",
    "\n",
    "# Create a Pandas DataFrame with the reputation and count data\n",
    "df = pd.DataFrame({'Reputation': reputation_counts.index, 'Count': reputation_counts.values})\n",
    "\n",
    "# Calculate the logarithm of the data\n",
    "df['log10_Reputation'] = np.array(df['Reputation'])\n",
    "df['log10_Count'] = np.array(df['Count'])\n",
    "\n",
    "\n",
    "# Plot the data and the fitted curve using Matplotlib\n",
    "plt.plot(df['log10_Reputation'], df['log10_Count'], 'o', label='Data(2015)')\n",
    "\n",
    "# set x and y labels\n",
    "plt.xlabel('log(Reputation)')\n",
    "plt.ylabel('log(No of users)')\n",
    "\n",
    "plt.yscale('log')\n",
    "plt.xscale('log')\n",
    "\n",
    "plt.legend()\n",
    "plt.show()"
   ]
  },
  {
   "cell_type": "code",
   "execution_count": 578,
   "id": "2636b1da",
   "metadata": {},
   "outputs": [
    {
     "data": {
      "image/png": "[encoded data removed]",
      "text/plain": [
       "<Figure size 432x288 with 1 Axes>"
      ]
     },
     "metadata": {
      "needs_background": "light"
     },
     "output_type": "display_data"
    }
   ],
   "source": [
    "df_users_2015_10 = df_users_2015[df_users_2015['Month']==10]\n",
    "\n",
    "# Count the number of users for each reputation level\n",
    "reputation_counts = df_users_2015_10['Reputation'].value_counts(sort=False).sort_index()\n",
    "\n",
    "# Create a Pandas DataFrame with the reputation and count data\n",
    "df = pd.DataFrame({'Reputation': reputation_counts.index, 'Count': reputation_counts.values})\n",
    "\n",
    "# Calculate the logarithm of the data\n",
    "df['log10_Reputation'] = np.array(df['Reputation'])\n",
    "df['log10_Count'] = np.array(df['Count'])\n",
    "\n",
    "\n",
    "# Plot the data and the fitted curve using Matplotlib\n",
    "plt.plot(df['log10_Reputation'], df['log10_Count'], 'o', label='Data(Aug 2015)')\n",
    "\n",
    "# set x and y labels\n",
    "plt.xlabel('log(Reputation)')\n",
    "plt.ylabel('log(No of users)')\n",
    "\n",
    "plt.yscale('log')\n",
    "plt.xscale('log')\n",
    "\n",
    "plt.legend()\n",
    "plt.show()"
   ]
  },
  {
   "cell_type": "code",
   "execution_count": 571,
   "id": "33f453a2",
   "metadata": {},
   "outputs": [
    {
     "data": {
      "image/png": "[encoded data removed]",
      "text/plain": [
       "<Figure size 432x288 with 1 Axes>"
      ]
     },
     "metadata": {
      "needs_background": "light"
     },
     "output_type": "display_data"
    }
   ],
   "source": [
    "# Count the number of users for each reputation level\n",
    "reputation_counts = df_users_2016['Reputation'].value_counts(sort=False).sort_index()\n",
    "\n",
    "# Create a Pandas DataFrame with the reputation and count data\n",
    "df = pd.DataFrame({'Reputation': reputation_counts.index, 'Count': reputation_counts.values})\n",
    "\n",
    "# Calculate the logarithm of the data\n",
    "df['log10_Reputation'] = np.array(df['Reputation'])\n",
    "df['log10_Count'] = np.array(df['Count'])\n",
    "\n",
    "\n",
    "# Plot the data and the fitted curve using Matplotlib\n",
    "plt.plot(df['log10_Reputation'], df['log10_Count'], 'o', label='Data(2016)')\n",
    "\n",
    "# set x and y labels\n",
    "plt.xlabel('log(Reputation)')\n",
    "plt.ylabel('log(No of users)')\n",
    "\n",
    "plt.yscale('log')\n",
    "plt.xscale('log')\n",
    "\n",
    "plt.legend()\n",
    "plt.show()"
   ]
  },
  {
   "cell_type": "code",
   "execution_count": 572,
   "id": "22a8235b",
   "metadata": {},
   "outputs": [
    {
     "data": {
      "image/png": "[encoded data removed]",
      "text/plain": [
       "<Figure size 432x288 with 1 Axes>"
      ]
     },
     "metadata": {
      "needs_background": "light"
     },
     "output_type": "display_data"
    }
   ],
   "source": [
    "df_users_2016_10 = df_users_2016[df_users_2016['Month']==10]\n",
    "\n",
    "# Count the number of users for each reputation level\n",
    "reputation_counts = df_users_2016_10['Reputation'].value_counts(sort=False).sort_index()\n",
    "\n",
    "# Create a Pandas DataFrame with the reputation and count data\n",
    "df = pd.DataFrame({'Reputation': reputation_counts.index, 'Count': reputation_counts.values})\n",
    "\n",
    "# Calculate the logarithm of the data\n",
    "df['log10_Reputation'] = np.array(df['Reputation'])\n",
    "df['log10_Count'] = np.array(df['Count'])\n",
    "\n",
    "\n",
    "# Plot the data and the fitted curve using Matplotlib\n",
    "plt.plot(df['log10_Reputation'], df['log10_Count'], 'o', label='Data(Aug 2016)')\n",
    "\n",
    "# set x and y labels\n",
    "plt.xlabel('log(Reputation)')\n",
    "plt.ylabel('log(No of users)')\n",
    "\n",
    "plt.yscale('log')\n",
    "plt.xscale('log')\n",
    "\n",
    "plt.legend()\n",
    "plt.show()"
   ]
  },
  {
   "cell_type": "code",
   "execution_count": 573,
   "id": "768ae1b4",
   "metadata": {},
   "outputs": [
    {
     "data": {
      "image/png": "[encoded data removed]",
      "text/plain": [
       "<Figure size 432x288 with 1 Axes>"
      ]
     },
     "metadata": {
      "needs_background": "light"
     },
     "output_type": "display_data"
    }
   ],
   "source": [
    "# Count the number of users for each reputation level\n",
    "reputation_counts = df_users_2017['Reputation'].value_counts(sort=False).sort_index()\n",
    "\n",
    "# Create a Pandas DataFrame with the reputation and count data\n",
    "df = pd.DataFrame({'Reputation': reputation_counts.index, 'Count': reputation_counts.values})\n",
    "\n",
    "# Calculate the logarithm of the data\n",
    "df['log10_Reputation'] = np.array(df['Reputation'])\n",
    "df['log10_Count'] = np.array(df['Count'])\n",
    "\n",
    "\n",
    "# Plot the data and the fitted curve using Matplotlib\n",
    "plt.plot(df['log10_Reputation'], df['log10_Count'], 'o', label='Data(2017)')\n",
    "\n",
    "# set x and y labels\n",
    "plt.xlabel('log(Reputation)')\n",
    "plt.ylabel('log(No of users)')\n",
    "\n",
    "plt.yscale('log')\n",
    "plt.xscale('log')\n",
    "\n",
    "plt.legend()\n",
    "plt.show()"
   ]
  },
  {
   "cell_type": "code",
   "execution_count": 579,
   "id": "478f25c6",
   "metadata": {},
   "outputs": [
    {
     "data": {
      "image/png": "[encoded data removed]",
      "text/plain": [
       "<Figure size 432x288 with 1 Axes>"
      ]
     },
     "metadata": {
      "needs_background": "light"
     },
     "output_type": "display_data"
    }
   ],
   "source": [
    "df_users_2017_10 = df_users_2017[df_users_2017['Month']==10]\n",
    "\n",
    "# Count the number of users for each reputation level\n",
    "reputation_counts = df_users_2017_10['Reputation'].value_counts(sort=False).sort_index()\n",
    "\n",
    "# Create a Pandas DataFrame with the reputation and count data\n",
    "df = pd.DataFrame({'Reputation': reputation_counts.index, 'Count': reputation_counts.values})\n",
    "\n",
    "# Calculate the logarithm of the data\n",
    "df['log10_Reputation'] = np.array(df['Reputation'])\n",
    "df['log10_Count'] = np.array(df['Count'])\n",
    "\n",
    "\n",
    "# Plot the data and the fitted curve using Matplotlib\n",
    "plt.plot(df['log10_Reputation'], df['log10_Count'], 'o', label='Data(Aug 2017)')\n",
    "\n",
    "# set x and y labels\n",
    "plt.xlabel('log(Reputation)')\n",
    "plt.ylabel('log(No of users)')\n",
    "\n",
    "plt.yscale('log')\n",
    "plt.xscale('log')\n",
    "\n",
    "plt.legend()\n",
    "plt.show()"
   ]
  },
  {
   "cell_type": "code",
   "execution_count": 574,
   "id": "e595b287",
   "metadata": {},
   "outputs": [
    {
     "data": {
      "image/png": "[encoded data removed]",
      "text/plain": [
       "<Figure size 432x288 with 1 Axes>"
      ]
     },
     "metadata": {
      "needs_background": "light"
     },
     "output_type": "display_data"
    }
   ],
   "source": [
    "# Count the number of users for each reputation level\n",
    "reputation_counts = df_users_2018['Reputation'].value_counts(sort=False).sort_index()\n",
    "\n",
    "# Create a Pandas DataFrame with the reputation and count data\n",
    "df = pd.DataFrame({'Reputation': reputation_counts.index, 'Count': reputation_counts.values})\n",
    "\n",
    "# Calculate the logarithm of the data\n",
    "df['log10_Reputation'] = np.array(df['Reputation'])\n",
    "df['log10_Count'] = np.array(df['Count'])\n",
    "\n",
    "\n",
    "# Plot the data and the fitted curve using Matplotlib\n",
    "plt.plot(df['log10_Reputation'], df['log10_Count'], 'o', label='Data(2018)')\n",
    "\n",
    "# set x and y labels\n",
    "plt.xlabel('log(Reputation)')\n",
    "plt.ylabel('log(No of users)')\n",
    "\n",
    "plt.yscale('log')\n",
    "plt.xscale('log')\n",
    "\n",
    "plt.legend()\n",
    "plt.show()"
   ]
  },
  {
   "cell_type": "code",
   "execution_count": 580,
   "id": "45369737",
   "metadata": {},
   "outputs": [
    {
     "data": {
      "image/png": "[encoded data removed]",
      "text/plain": [
       "<Figure size 432x288 with 1 Axes>"
      ]
     },
     "metadata": {
      "needs_background": "light"
     },
     "output_type": "display_data"
    }
   ],
   "source": [
    "df_users_2018_10 = df_users_2018[df_users_2018['Month']==10]\n",
    "\n",
    "# Count the number of users for each reputation level\n",
    "reputation_counts = df_users_2018_10['Reputation'].value_counts(sort=False).sort_index()\n",
    "\n",
    "# Create a Pandas DataFrame with the reputation and count data\n",
    "df = pd.DataFrame({'Reputation': reputation_counts.index, 'Count': reputation_counts.values})\n",
    "\n",
    "# Calculate the logarithm of the data\n",
    "df['log10_Reputation'] = np.array(df['Reputation'])\n",
    "df['log10_Count'] = np.array(df['Count'])\n",
    "\n",
    "\n",
    "# Plot the data and the fitted curve using Matplotlib\n",
    "plt.plot(df['log10_Reputation'], df['log10_Count'], 'o', label='Data(Aug 2018)')\n",
    "\n",
    "# set x and y labels\n",
    "plt.xlabel('log(Reputation)')\n",
    "plt.ylabel('log(No of users)')\n",
    "\n",
    "plt.yscale('log')\n",
    "plt.xscale('log')\n",
    "\n",
    "plt.legend()\n",
    "plt.show()"
   ]
  },
  {
   "cell_type": "code",
   "execution_count": 575,
   "id": "e692a88d",
   "metadata": {},
   "outputs": [
    {
     "data": {
      "image/png": "[encoded data removed]",
      "text/plain": [
       "<Figure size 432x288 with 1 Axes>"
      ]
     },
     "metadata": {
      "needs_background": "light"
     },
     "output_type": "display_data"
    }
   ],
   "source": [
    "# Count the number of users for each reputation level\n",
    "reputation_counts = df_users_2019['Reputation'].value_counts(sort=False).sort_index()\n",
    "\n",
    "# Create a Pandas DataFrame with the reputation and count data\n",
    "df = pd.DataFrame({'Reputation': reputation_counts.index, 'Count': reputation_counts.values})\n",
    "\n",
    "# Calculate the logarithm of the data\n",
    "df['log10_Reputation'] = np.array(df['Reputation'])\n",
    "df['log10_Count'] = np.array(df['Count'])\n",
    "\n",
    "\n",
    "# Plot the data and the fitted curve using Matplotlib\n",
    "plt.plot(df['log10_Reputation'], df['log10_Count'], 'o', label='Data(2019)')\n",
    "\n",
    "# set x and y labels\n",
    "plt.xlabel('log(Reputation)')\n",
    "plt.ylabel('log(No of users)')\n",
    "\n",
    "plt.yscale('log')\n",
    "plt.xscale('log')\n",
    "\n",
    "plt.legend()\n",
    "plt.show()"
   ]
  },
  {
   "cell_type": "code",
   "execution_count": 581,
   "id": "413148df",
   "metadata": {},
   "outputs": [
    {
     "data": {
      "image/png": "[encoded data removed]",
      "text/plain": [
       "<Figure size 432x288 with 1 Axes>"
      ]
     },
     "metadata": {
      "needs_background": "light"
     },
     "output_type": "display_data"
    }
   ],
   "source": [
    "df_users_2019_10 = df_users_2019[df_users_2019['Month']==10]\n",
    "\n",
    "# Count the number of users for each reputation level\n",
    "reputation_counts = df_users_2019_10['Reputation'].value_counts(sort=False).sort_index()\n",
    "\n",
    "# Create a Pandas DataFrame with the reputation and count data\n",
    "df = pd.DataFrame({'Reputation': reputation_counts.index, 'Count': reputation_counts.values})\n",
    "\n",
    "# Calculate the logarithm of the data\n",
    "df['log10_Reputation'] = np.array(df['Reputation'])\n",
    "df['log10_Count'] = np.array(df['Count'])\n",
    "\n",
    "\n",
    "# Plot the data and the fitted curve using Matplotlib\n",
    "plt.plot(df['log10_Reputation'], df['log10_Count'], 'o', label='Data(Aug 2019)')\n",
    "\n",
    "# set x and y labels\n",
    "plt.xlabel('log(Reputation)')\n",
    "plt.ylabel('log(No of users)')\n",
    "\n",
    "plt.yscale('log')\n",
    "plt.xscale('log')\n",
    "\n",
    "plt.legend()\n",
    "plt.show()"
   ]
  },
  {
   "cell_type": "code",
   "execution_count": 576,
   "id": "11d1ee1c",
   "metadata": {},
   "outputs": [
    {
     "data": {
      "image/png": "[encoded data removed]",
      "text/plain": [
       "<Figure size 432x288 with 1 Axes>"
      ]
     },
     "metadata": {
      "needs_background": "light"
     },
     "output_type": "display_data"
    }
   ],
   "source": [
    "# Count the number of users for each reputation level\n",
    "reputation_counts = df_users_2020['Reputation'].value_counts(sort=False).sort_index()\n",
    "\n",
    "# Create a Pandas DataFrame with the reputation and count data\n",
    "df = pd.DataFrame({'Reputation': reputation_counts.index, 'Count': reputation_counts.values})\n",
    "\n",
    "# Calculate the logarithm of the data\n",
    "df['log10_Reputation'] = np.array(df['Reputation'])\n",
    "df['log10_Count'] = np.array(df['Count'])\n",
    "\n",
    "\n",
    "# Plot the data and the fitted curve using Matplotlib\n",
    "plt.plot(df['log10_Reputation'], df['log10_Count'], 'o', label='Data(2020)')\n",
    "\n",
    "# set x and y labels\n",
    "plt.xlabel('log(Reputation)')\n",
    "plt.ylabel('log(No of users)')\n",
    "\n",
    "plt.yscale('log')\n",
    "plt.xscale('log')\n",
    "\n",
    "plt.legend()\n",
    "plt.show()"
   ]
  },
  {
   "cell_type": "code",
   "execution_count": 582,
   "id": "6ab45c09",
   "metadata": {},
   "outputs": [
    {
     "data": {
      "image/png": "[encoded data removed]",
      "text/plain": [
       "<Figure size 432x288 with 1 Axes>"
      ]
     },
     "metadata": {
      "needs_background": "light"
     },
     "output_type": "display_data"
    }
   ],
   "source": [
    "df_users_2020_10 = df_users_2020[df_users_2020['Month']==10]\n",
    "\n",
    "# Count the number of users for each reputation level\n",
    "reputation_counts = df_users_2020_10['Reputation'].value_counts(sort=False).sort_index()\n",
    "\n",
    "# Create a Pandas DataFrame with the reputation and count data\n",
    "df = pd.DataFrame({'Reputation': reputation_counts.index, 'Count': reputation_counts.values})\n",
    "\n",
    "# Calculate the logarithm of the data\n",
    "df['log10_Reputation'] = np.array(df['Reputation'])\n",
    "df['log10_Count'] = np.array(df['Count'])\n",
    "\n",
    "\n",
    "# Plot the data and the fitted curve using Matplotlib\n",
    "plt.plot(df['log10_Reputation'], df['log10_Count'], 'o', label='Data(Aug 2020)')\n",
    "\n",
    "# set x and y labels\n",
    "plt.xlabel('log(Reputation)')\n",
    "plt.ylabel('log(No of users)')\n",
    "\n",
    "plt.yscale('log')\n",
    "plt.xscale('log')\n",
    "\n",
    "plt.legend()\n",
    "plt.show()"
   ]
  },
  {
   "cell_type": "code",
   "execution_count": 577,
   "id": "19094c96",
   "metadata": {},
   "outputs": [
    {
     "data": {
      "image/png": "[encoded data removed]",
      "text/plain": [
       "<Figure size 432x288 with 1 Axes>"
      ]
     },
     "metadata": {
      "needs_background": "light"
     },
     "output_type": "display_data"
    }
   ],
   "source": [
    "# Count the number of users for each reputation level\n",
    "reputation_counts = df_users_2021['Reputation'].value_counts(sort=False).sort_index()\n",
    "\n",
    "# Create a Pandas DataFrame with the reputation and count data\n",
    "df = pd.DataFrame({'Reputation': reputation_counts.index, 'Count': reputation_counts.values})\n",
    "\n",
    "# Calculate the logarithm of the data\n",
    "df['log10_Reputation'] = np.array(df['Reputation'])\n",
    "df['log10_Count'] = np.array(df['Count'])\n",
    "\n",
    "\n",
    "# Plot the data and the fitted curve using Matplotlib\n",
    "plt.plot(df['log10_Reputation'], df['log10_Count'], 'o', label='Data(2021)')\n",
    "\n",
    "# set x and y labels\n",
    "plt.xlabel('log(Reputation)')\n",
    "plt.ylabel('log(No of users)')\n",
    "\n",
    "plt.yscale('log')\n",
    "plt.xscale('log')\n",
    "\n",
    "plt.legend()\n",
    "plt.show()"
   ]
  },
  {
   "cell_type": "code",
   "execution_count": null,
   "id": "cd902caf",
   "metadata": {},
   "outputs": [],
   "source": []
  },
  {
   "cell_type": "markdown",
   "id": "54b71764",
   "metadata": {},
   "source": [
    "# Model"
   ]
  },
  {
   "cell_type": "code",
   "execution_count": 627,
   "id": "76b5ec89",
   "metadata": {},
   "outputs": [],
   "source": [
    "import pandas as pd\n",
    "from sklearn.model_selection import train_test_split\n",
    "from sklearn.ensemble import RandomForestClassifier\n",
    "from sklearn.metrics import accuracy_score\n",
    "from datetime import datetime\n"
   ]
  },
  {
   "cell_type": "code",
   "execution_count": 966,
   "id": "5ed44400",
   "metadata": {},
   "outputs": [],
   "source": [
    "df_votes = pd.read_xml(\"../updated_database/votes.xml\")"
   ]
  },
  {
   "cell_type": "code",
   "execution_count": 967,
   "id": "1536f296",
   "metadata": {},
   "outputs": [],
   "source": [
    "df_users = pd.read_xml(\"../updated_database/users.xml\")"
   ]
  },
  {
   "cell_type": "code",
   "execution_count": 968,
   "id": "1566093a",
   "metadata": {},
   "outputs": [],
   "source": [
    "df_users['CreationDate'] = pd.to_datetime(df_users['CreationDate'])\n",
    "df_users['years_on_so'] = (datetime.now() - df_users['CreationDate']) / pd.Timedelta(days=365)\n",
    "df_users['years_on_so'] = round(df_users['years_on_so'], 2)"
   ]
  },
  {
   "cell_type": "code",
   "execution_count": 969,
   "id": "4cf76ad9",
   "metadata": {},
   "outputs": [
    {
     "data": {
      "text/html": [
       "<div>\n",
       "<style scoped>\n",
       "    .dataframe tbody tr th:only-of-type {\n",
       "        vertical-align: middle;\n",
       "    }\n",
       "\n",
       "    .dataframe tbody tr th {\n",
       "        vertical-align: top;\n",
       "    }\n",
       "\n",
       "    .dataframe thead th {\n",
       "        text-align: right;\n",
       "    }\n",
       "</style>\n",
       "<table border=\"1\" class=\"dataframe\">\n",
       "  <thead>\n",
       "    <tr style=\"text-align: right;\">\n",
       "      <th></th>\n",
       "      <th>Id</th>\n",
       "      <th>Reputation</th>\n",
       "      <th>CreationDate</th>\n",
       "      <th>DisplayName</th>\n",
       "      <th>LastAccessDate</th>\n",
       "      <th>WebsiteUrl</th>\n",
       "      <th>Location</th>\n",
       "      <th>AboutMe</th>\n",
       "      <th>Views</th>\n",
       "      <th>UpVotes</th>\n",
       "      <th>DownVotes</th>\n",
       "      <th>AccountId</th>\n",
       "      <th>ProfileImageUrl</th>\n",
       "      <th>years_on_so</th>\n",
       "    </tr>\n",
       "  </thead>\n",
       "  <tbody>\n",
       "    <tr>\n",
       "      <th>0</th>\n",
       "      <td>-1</td>\n",
       "      <td>1</td>\n",
       "      <td>2015-10-26 21:36:24.767</td>\n",
       "      <td>Comunidad</td>\n",
       "      <td>2015-10-26T21:36:24.767</td>\n",
       "      <td>NaN</td>\n",
       "      <td>en la granja de servidores</td>\n",
       "      <td>&lt;p&gt;Hola, no soy una persona real.&lt;/p&gt;\\n\\n&lt;p&gt;¡S...</td>\n",
       "      <td>251</td>\n",
       "      <td>9652</td>\n",
       "      <td>17781</td>\n",
       "      <td>-1.0</td>\n",
       "      <td>None</td>\n",
       "      <td>7.44</td>\n",
       "    </tr>\n",
       "  </tbody>\n",
       "</table>\n",
       "</div>"
      ],
      "text/plain": [
       "   Id  Reputation            CreationDate DisplayName  \\\n",
       "0  -1           1 2015-10-26 21:36:24.767   Comunidad   \n",
       "\n",
       "            LastAccessDate WebsiteUrl                    Location  \\\n",
       "0  2015-10-26T21:36:24.767        NaN  en la granja de servidores   \n",
       "\n",
       "                                             AboutMe  Views  UpVotes  \\\n",
       "0  <p>Hola, no soy una persona real.</p>\\n\\n<p>¡S...    251     9652   \n",
       "\n",
       "   DownVotes  AccountId ProfileImageUrl  years_on_so  \n",
       "0      17781       -1.0            None         7.44  "
      ]
     },
     "execution_count": 969,
     "metadata": {},
     "output_type": "execute_result"
    }
   ],
   "source": [
    "df_users.head(1)"
   ]
  },
  {
   "cell_type": "code",
   "execution_count": 970,
   "id": "49485838",
   "metadata": {},
   "outputs": [],
   "source": [
    "# Filter out users who have been members for less than a year\n",
    "df_users = df_users[df_users['years_on_so'] >= 1]\n",
    "\n",
    "# Exclude users with a starting reputation of 1\n",
    "df_users = df_users[df_users['Reputation'] != 1]"
   ]
  },
  {
   "cell_type": "markdown",
   "id": "67b78fad",
   "metadata": {},
   "source": [
    "# Total answers"
   ]
  },
  {
   "cell_type": "code",
   "execution_count": 971,
   "id": "7b93130c",
   "metadata": {},
   "outputs": [],
   "source": [
    "# Filter the table to include only answers\n",
    "df_answers = df_posts[df_posts['PostTypeId'] == 2]"
   ]
  },
  {
   "cell_type": "code",
   "execution_count": 972,
   "id": "9d27601a",
   "metadata": {},
   "outputs": [
    {
     "data": {
      "text/plain": [
       "(159308, 22)"
      ]
     },
     "execution_count": 972,
     "metadata": {},
     "output_type": "execute_result"
    }
   ],
   "source": [
    "df_answers.shape"
   ]
  },
  {
   "cell_type": "code",
   "execution_count": 973,
   "id": "5d390450",
   "metadata": {},
   "outputs": [],
   "source": [
    "\n",
    "# Set the number of months to consider\n",
    "N = 6\n",
    "\n",
    "# Merge the df_users and df_answers dataframes on OwnerUserId\n",
    "merged_df = pd.merge(df_users, df_answers, how='left', left_on='Id', right_on='OwnerUserId')\n",
    "\n",
    "# Filter the merged dataframe to only include answers posted within the first N months of user's activity\n",
    "merged_df = merged_df[(merged_df['CreationDate_x'] <= merged_df['CreationDate_y']) &\n",
    "                      (merged_df['CreationDate_y'] <= merged_df['CreationDate_x'] + pd.DateOffset(months=N))]\n",
    "\n",
    "# Group the merged dataframe by OwnerUserId and count the number of answers\n",
    "answers_by_user = merged_df.groupby('Id_x')['Id_x'].count()\n",
    "# Add the answers count as a new column in df_users\n",
    "\n",
    "df_users['Answers'] = pd.Series(dtype='float64')\n",
    "for i, value in answers_by_user.iteritems():\n",
    "#     print(i, value)\n",
    "    df_users.loc[df_users['Id'] == i, 'Answers'] = value\n",
    "df_users['Answers'].fillna(0, inplace=True)"
   ]
  },
  {
   "cell_type": "code",
   "execution_count": 974,
   "id": "dc957f7d",
   "metadata": {},
   "outputs": [
    {
     "data": {
      "text/plain": [
       "0.0      30194\n",
       "1.0       7351\n",
       "2.0       2204\n",
       "3.0       1097\n",
       "4.0        598\n",
       "         ...  \n",
       "84.0         1\n",
       "75.0         1\n",
       "73.0         1\n",
       "86.0         1\n",
       "191.0        1\n",
       "Name: Answers, Length: 141, dtype: int64"
      ]
     },
     "execution_count": 974,
     "metadata": {},
     "output_type": "execute_result"
    }
   ],
   "source": [
    "df_users['Answers'].value_counts()"
   ]
  },
  {
   "cell_type": "code",
   "execution_count": 975,
   "id": "872fcc85",
   "metadata": {},
   "outputs": [
    {
     "data": {
      "text/html": [
       "<div>\n",
       "<style scoped>\n",
       "    .dataframe tbody tr th:only-of-type {\n",
       "        vertical-align: middle;\n",
       "    }\n",
       "\n",
       "    .dataframe tbody tr th {\n",
       "        vertical-align: top;\n",
       "    }\n",
       "\n",
       "    .dataframe thead th {\n",
       "        text-align: right;\n",
       "    }\n",
       "</style>\n",
       "<table border=\"1\" class=\"dataframe\">\n",
       "  <thead>\n",
       "    <tr style=\"text-align: right;\">\n",
       "      <th></th>\n",
       "      <th>Id</th>\n",
       "      <th>Reputation</th>\n",
       "      <th>CreationDate</th>\n",
       "      <th>DisplayName</th>\n",
       "      <th>LastAccessDate</th>\n",
       "      <th>WebsiteUrl</th>\n",
       "      <th>Location</th>\n",
       "      <th>AboutMe</th>\n",
       "      <th>Views</th>\n",
       "      <th>UpVotes</th>\n",
       "      <th>DownVotes</th>\n",
       "      <th>AccountId</th>\n",
       "      <th>ProfileImageUrl</th>\n",
       "      <th>years_on_so</th>\n",
       "      <th>Answers</th>\n",
       "    </tr>\n",
       "  </thead>\n",
       "  <tbody>\n",
       "    <tr>\n",
       "      <th>1948</th>\n",
       "      <td>2600</td>\n",
       "      <td>34867</td>\n",
       "      <td>2016-01-07 02:45:33.523</td>\n",
       "      <td>Leandro Tuttini</td>\n",
       "      <td>2021-02-10T23:14:25.750</td>\n",
       "      <td>http://ltuttini.blogspot.com.ar/</td>\n",
       "      <td>Argentina</td>\n",
       "      <td>&lt;p&gt;Microsoft MVP C#&lt;/p&gt;\\n</td>\n",
       "      <td>4719</td>\n",
       "      <td>86</td>\n",
       "      <td>18</td>\n",
       "      <td>5219979.0</td>\n",
       "      <td>None</td>\n",
       "      <td>7.24</td>\n",
       "      <td>389.0</td>\n",
       "    </tr>\n",
       "  </tbody>\n",
       "</table>\n",
       "</div>"
      ],
      "text/plain": [
       "        Id  Reputation            CreationDate      DisplayName  \\\n",
       "1948  2600       34867 2016-01-07 02:45:33.523  Leandro Tuttini   \n",
       "\n",
       "               LastAccessDate                        WebsiteUrl   Location  \\\n",
       "1948  2021-02-10T23:14:25.750  http://ltuttini.blogspot.com.ar/  Argentina   \n",
       "\n",
       "                        AboutMe  Views  UpVotes  DownVotes  AccountId  \\\n",
       "1948  <p>Microsoft MVP C#</p>\\n   4719       86         18  5219979.0   \n",
       "\n",
       "     ProfileImageUrl  years_on_so  Answers  \n",
       "1948            None         7.24    389.0  "
      ]
     },
     "execution_count": 975,
     "metadata": {},
     "output_type": "execute_result"
    }
   ],
   "source": [
    "df_users[df_users['DisplayName']=='Leandro Tuttini']"
   ]
  },
  {
   "cell_type": "markdown",
   "id": "b02564d8",
   "metadata": {},
   "source": [
    "# Total Questions"
   ]
  },
  {
   "cell_type": "code",
   "execution_count": 976,
   "id": "5c89ae90",
   "metadata": {},
   "outputs": [],
   "source": [
    "df_question = df_posts[df_posts['PostTypeId'] == 1]"
   ]
  },
  {
   "cell_type": "code",
   "execution_count": 977,
   "id": "f3cc2ac6",
   "metadata": {},
   "outputs": [],
   "source": [
    "# Set the number of months to consider\n",
    "N = 6\n",
    "\n",
    "# Merge the df_users and df_questios dataframes on OwnerUserId\n",
    "merged_df = pd.merge(df_users, df_question, how='left', left_on='Id', right_on='OwnerUserId')\n",
    "\n",
    "# Filter the merged dataframe to only include questions posted within the first N months of user's activity\n",
    "merged_df = merged_df[(merged_df['CreationDate_x'] <= merged_df['CreationDate_y']) &\n",
    "                      (merged_df['CreationDate_y'] <= merged_df['CreationDate_x'] + pd.DateOffset(months=N))]\n",
    "\n",
    "# Group the merged dataframe by OwnerUserId and count the number of answers\n",
    "question_by_user = merged_df.groupby('OwnerUserId')['OwnerUserId'].count()\n",
    "\n",
    "df_users['Questions'] = pd.Series(dtype='float64')\n",
    "for i, value in question_by_user.iteritems():\n",
    "#     print(i, value)\n",
    "    df_users.loc[df_users['Id'] == i, 'Questions'] = value\n",
    "df_users['Questions'].fillna(0, inplace=True)\n"
   ]
  },
  {
   "cell_type": "markdown",
   "id": "7d31dc9e",
   "metadata": {},
   "source": [
    "# Total comments"
   ]
  },
  {
   "cell_type": "code",
   "execution_count": 1006,
   "id": "67c79dd8",
   "metadata": {},
   "outputs": [],
   "source": [
    "df_comments = pd.read_xml(\"../updated_database/comments.xml\")"
   ]
  },
  {
   "cell_type": "code",
   "execution_count": 1007,
   "id": "7160ab4e",
   "metadata": {},
   "outputs": [],
   "source": [
    "# Merge the df_users and df_comments dataframes on UserId\n",
    "merged_df = pd.merge(df_users, df_comments, how='left', left_on='Id', right_on='UserId')\n",
    "\n",
    "# Group the merged dataframe by UserId and count the number of comments\n",
    "comments_by_user = merged_df.groupby('UserId')['UserId'].count()\n",
    "\n",
    "# Add the 'Comments' column to the df_users dataframe\n",
    "df_users['Comments'] = pd.Series(dtype='float64')\n",
    "for i, value in comments_by_user.iteritems():\n",
    "    df_users.loc[df_users['Id'] == i, 'Comments'] = value\n",
    "\n",
    "# Fill in any missing values with 0\n",
    "df_users['Comments'].fillna(0, inplace=True)"
   ]
  },
  {
   "cell_type": "code",
   "execution_count": 1013,
   "id": "cbb59e42",
   "metadata": {},
   "outputs": [
    {
     "data": {
      "text/plain": [
       "0.0      17431\n",
       "1.0       6788\n",
       "2.0       4174\n",
       "3.0       2775\n",
       "4.0       1994\n",
       "         ...  \n",
       "509.0        1\n",
       "482.0        1\n",
       "273.0        1\n",
       "261.0        1\n",
       "148.0        1\n",
       "Name: Comments, Length: 438, dtype: int64"
      ]
     },
     "execution_count": 1013,
     "metadata": {},
     "output_type": "execute_result"
    }
   ],
   "source": [
    "df_users['Comments'].value_counts()"
   ]
  },
  {
   "cell_type": "code",
   "execution_count": 1014,
   "id": "9698a34b",
   "metadata": {},
   "outputs": [
    {
     "data": {
      "text/html": [
       "<div>\n",
       "<style scoped>\n",
       "    .dataframe tbody tr th:only-of-type {\n",
       "        vertical-align: middle;\n",
       "    }\n",
       "\n",
       "    .dataframe tbody tr th {\n",
       "        vertical-align: top;\n",
       "    }\n",
       "\n",
       "    .dataframe thead th {\n",
       "        text-align: right;\n",
       "    }\n",
       "</style>\n",
       "<table border=\"1\" class=\"dataframe\">\n",
       "  <thead>\n",
       "    <tr style=\"text-align: right;\">\n",
       "      <th></th>\n",
       "      <th>Id</th>\n",
       "      <th>Reputation</th>\n",
       "      <th>CreationDate</th>\n",
       "      <th>DisplayName</th>\n",
       "      <th>LastAccessDate</th>\n",
       "      <th>WebsiteUrl</th>\n",
       "      <th>Location</th>\n",
       "      <th>AboutMe</th>\n",
       "      <th>Views</th>\n",
       "      <th>UpVotes</th>\n",
       "      <th>DownVotes</th>\n",
       "      <th>AccountId</th>\n",
       "      <th>ProfileImageUrl</th>\n",
       "      <th>years_on_so</th>\n",
       "      <th>Answers</th>\n",
       "      <th>Questions</th>\n",
       "      <th>category</th>\n",
       "      <th>Comments</th>\n",
       "    </tr>\n",
       "  </thead>\n",
       "  <tbody>\n",
       "    <tr>\n",
       "      <th>1948</th>\n",
       "      <td>2600</td>\n",
       "      <td>34867</td>\n",
       "      <td>2016-01-07 02:45:33.523</td>\n",
       "      <td>Leandro Tuttini</td>\n",
       "      <td>2021-02-10T23:14:25.750</td>\n",
       "      <td>http://ltuttini.blogspot.com.ar/</td>\n",
       "      <td>Argentina</td>\n",
       "      <td>&lt;p&gt;Microsoft MVP C#&lt;/p&gt;\\n</td>\n",
       "      <td>4719</td>\n",
       "      <td>86</td>\n",
       "      <td>18</td>\n",
       "      <td>5219979.0</td>\n",
       "      <td>None</td>\n",
       "      <td>7.24</td>\n",
       "      <td>389.0</td>\n",
       "      <td>1.0</td>\n",
       "      <td>expert</td>\n",
       "      <td>2711.0</td>\n",
       "    </tr>\n",
       "  </tbody>\n",
       "</table>\n",
       "</div>"
      ],
      "text/plain": [
       "        Id  Reputation            CreationDate      DisplayName  \\\n",
       "1948  2600       34867 2016-01-07 02:45:33.523  Leandro Tuttini   \n",
       "\n",
       "               LastAccessDate                        WebsiteUrl   Location  \\\n",
       "1948  2021-02-10T23:14:25.750  http://ltuttini.blogspot.com.ar/  Argentina   \n",
       "\n",
       "                        AboutMe  Views  UpVotes  DownVotes  AccountId  \\\n",
       "1948  <p>Microsoft MVP C#</p>\\n   4719       86         18  5219979.0   \n",
       "\n",
       "     ProfileImageUrl  years_on_so  Answers  Questions category  Comments  \n",
       "1948            None         7.24    389.0        1.0   expert    2711.0  "
      ]
     },
     "execution_count": 1014,
     "metadata": {},
     "output_type": "execute_result"
    }
   ],
   "source": [
    "df_users[df_users['DisplayName']=='Leandro Tuttini']"
   ]
  },
  {
   "cell_type": "markdown",
   "id": "8fc0b706",
   "metadata": {},
   "source": [
    "# Accepted Answers"
   ]
  },
  {
   "cell_type": "code",
   "execution_count": 978,
   "id": "fe488a8d",
   "metadata": {},
   "outputs": [],
   "source": [
    "# Merge the votes and posts data frames on post ID to get a data frame with\n",
    "# all the votes for each post, along with information about the post\n",
    "post_votes = pd.merge(df_votes, df_posts, left_on='PostId', right_on='Id')\n",
    "\n",
    "post_votes - post_votes.dropna()\n",
    "# Filter for rows where the vote is an upvote and the post is an accepted answer\n",
    "accepted_answers = post_votes[(post_votes['VoteTypeId'] == 2) & (post_votes['PostTypeId'] == 2)]\n",
    "\n",
    "\n",
    "# Group the accepted answers by user ID and count the number of answers for each user\n",
    "user_answers = accepted_answers.groupby('OwnerUserId').size().reset_index(name='NumAnswers')\n",
    "\n",
    "# Merge the user_answers and users data frames to get a data frame with user information\n",
    "user_answer_counts = pd.merge(user_answers, df_users, left_on='OwnerUserId', right_on='Id')\n"
   ]
  },
  {
   "cell_type": "code",
   "execution_count": 979,
   "id": "a999bad4",
   "metadata": {},
   "outputs": [],
   "source": [
    "# df_users = user_answer_counts"
   ]
  },
  {
   "cell_type": "code",
   "execution_count": 980,
   "id": "f05aaebc",
   "metadata": {},
   "outputs": [
    {
     "data": {
      "text/html": [
       "<div>\n",
       "<style scoped>\n",
       "    .dataframe tbody tr th:only-of-type {\n",
       "        vertical-align: middle;\n",
       "    }\n",
       "\n",
       "    .dataframe tbody tr th {\n",
       "        vertical-align: top;\n",
       "    }\n",
       "\n",
       "    .dataframe thead th {\n",
       "        text-align: right;\n",
       "    }\n",
       "</style>\n",
       "<table border=\"1\" class=\"dataframe\">\n",
       "  <thead>\n",
       "    <tr style=\"text-align: right;\">\n",
       "      <th></th>\n",
       "      <th>Id</th>\n",
       "      <th>Reputation</th>\n",
       "      <th>CreationDate</th>\n",
       "      <th>DisplayName</th>\n",
       "      <th>LastAccessDate</th>\n",
       "      <th>WebsiteUrl</th>\n",
       "      <th>Location</th>\n",
       "      <th>AboutMe</th>\n",
       "      <th>Views</th>\n",
       "      <th>UpVotes</th>\n",
       "      <th>DownVotes</th>\n",
       "      <th>AccountId</th>\n",
       "      <th>ProfileImageUrl</th>\n",
       "      <th>years_on_so</th>\n",
       "      <th>Answers</th>\n",
       "      <th>Questions</th>\n",
       "    </tr>\n",
       "  </thead>\n",
       "  <tbody>\n",
       "    <tr>\n",
       "      <th>1948</th>\n",
       "      <td>2600</td>\n",
       "      <td>34867</td>\n",
       "      <td>2016-01-07 02:45:33.523</td>\n",
       "      <td>Leandro Tuttini</td>\n",
       "      <td>2021-02-10T23:14:25.750</td>\n",
       "      <td>http://ltuttini.blogspot.com.ar/</td>\n",
       "      <td>Argentina</td>\n",
       "      <td>&lt;p&gt;Microsoft MVP C#&lt;/p&gt;\\n</td>\n",
       "      <td>4719</td>\n",
       "      <td>86</td>\n",
       "      <td>18</td>\n",
       "      <td>5219979.0</td>\n",
       "      <td>None</td>\n",
       "      <td>7.24</td>\n",
       "      <td>389.0</td>\n",
       "      <td>1.0</td>\n",
       "    </tr>\n",
       "  </tbody>\n",
       "</table>\n",
       "</div>"
      ],
      "text/plain": [
       "        Id  Reputation            CreationDate      DisplayName  \\\n",
       "1948  2600       34867 2016-01-07 02:45:33.523  Leandro Tuttini   \n",
       "\n",
       "               LastAccessDate                        WebsiteUrl   Location  \\\n",
       "1948  2021-02-10T23:14:25.750  http://ltuttini.blogspot.com.ar/  Argentina   \n",
       "\n",
       "                        AboutMe  Views  UpVotes  DownVotes  AccountId  \\\n",
       "1948  <p>Microsoft MVP C#</p>\\n   4719       86         18  5219979.0   \n",
       "\n",
       "     ProfileImageUrl  years_on_so  Answers  Questions  \n",
       "1948            None         7.24    389.0        1.0  "
      ]
     },
     "execution_count": 980,
     "metadata": {},
     "output_type": "execute_result"
    }
   ],
   "source": [
    "df_users[df_users['DisplayName']=='Leandro Tuttini']"
   ]
  },
  {
   "cell_type": "code",
   "execution_count": 1023,
   "id": "b54df412",
   "metadata": {},
   "outputs": [],
   "source": [
    "\n",
    "# Define expert and non-expert categories based on reputation threshold\n",
    "df_users['category'] = ['expert' if r >= 2400 else 'non-expert' for r in df_users['Reputation']]\n",
    "\n",
    "# Sample users into training and testing sets\n",
    "low_reputation_users = df_users[(df_users['Reputation'] > 1) & (df_users['Reputation'] < 400)].sample(frac=1/3)\n",
    "mid_reputation_users = df_users[(df_users['Reputation'] >= 400) & (df_users['Reputation'] < 2400)].sample(frac=1/3)\n",
    "high_reputation_users = df_users[df_users['Reputation'] >= 2400].sample(frac=1/3)"
   ]
  },
  {
   "cell_type": "code",
   "execution_count": 1024,
   "id": "4b114380",
   "metadata": {},
   "outputs": [
    {
     "data": {
      "text/plain": [
       "non-expert    43748\n",
       "expert          201\n",
       "Name: category, dtype: int64"
      ]
     },
     "execution_count": 1024,
     "metadata": {},
     "output_type": "execute_result"
    }
   ],
   "source": [
    "df_users['category'].value_counts()"
   ]
  },
  {
   "cell_type": "code",
   "execution_count": null,
   "id": "a03eef6f",
   "metadata": {},
   "outputs": [],
   "source": []
  },
  {
   "cell_type": "markdown",
   "id": "a2e80430",
   "metadata": {},
   "source": [
    "# Training Model"
   ]
  },
  {
   "cell_type": "code",
   "execution_count": 1040,
   "id": "4a82ceba",
   "metadata": {},
   "outputs": [],
   "source": [
    "train_df = pd.concat([low_reputation_users, mid_reputation_users, high_reputation_users])\n",
    "test_df = df_users.drop(train_df.index)"
   ]
  },
  {
   "cell_type": "code",
   "execution_count": 1041,
   "id": "8a8a529b",
   "metadata": {},
   "outputs": [
    {
     "data": {
      "text/html": [
       "<div>\n",
       "<style scoped>\n",
       "    .dataframe tbody tr th:only-of-type {\n",
       "        vertical-align: middle;\n",
       "    }\n",
       "\n",
       "    .dataframe tbody tr th {\n",
       "        vertical-align: top;\n",
       "    }\n",
       "\n",
       "    .dataframe thead th {\n",
       "        text-align: right;\n",
       "    }\n",
       "</style>\n",
       "<table border=\"1\" class=\"dataframe\">\n",
       "  <thead>\n",
       "    <tr style=\"text-align: right;\">\n",
       "      <th></th>\n",
       "      <th>Id</th>\n",
       "      <th>Reputation</th>\n",
       "      <th>CreationDate</th>\n",
       "      <th>DisplayName</th>\n",
       "      <th>LastAccessDate</th>\n",
       "      <th>WebsiteUrl</th>\n",
       "      <th>Location</th>\n",
       "      <th>AboutMe</th>\n",
       "      <th>Views</th>\n",
       "      <th>UpVotes</th>\n",
       "      <th>DownVotes</th>\n",
       "      <th>AccountId</th>\n",
       "      <th>ProfileImageUrl</th>\n",
       "      <th>years_on_so</th>\n",
       "      <th>Answers</th>\n",
       "      <th>Questions</th>\n",
       "      <th>category</th>\n",
       "      <th>Comments</th>\n",
       "    </tr>\n",
       "  </thead>\n",
       "  <tbody>\n",
       "    <tr>\n",
       "      <th>116474</th>\n",
       "      <td>129231</td>\n",
       "      <td>279</td>\n",
       "      <td>2019-05-18 16:37:17.487</td>\n",
       "      <td>Alex Valenzuela</td>\n",
       "      <td>2021-02-23T21:36:06.683</td>\n",
       "      <td>None</td>\n",
       "      <td>None</td>\n",
       "      <td>None</td>\n",
       "      <td>37</td>\n",
       "      <td>14</td>\n",
       "      <td>0</td>\n",
       "      <td>15965214.0</td>\n",
       "      <td>https://graph.facebook.com/3150294315010832/pi...</td>\n",
       "      <td>3.88</td>\n",
       "      <td>1.0</td>\n",
       "      <td>4.0</td>\n",
       "      <td>non-expert</td>\n",
       "      <td>42.0</td>\n",
       "    </tr>\n",
       "    <tr>\n",
       "      <th>165554</th>\n",
       "      <td>180830</td>\n",
       "      <td>13</td>\n",
       "      <td>2020-06-29 00:19:05.200</td>\n",
       "      <td>Camara Peña</td>\n",
       "      <td>2020-06-30T16:23:43.967</td>\n",
       "      <td>None</td>\n",
       "      <td>None</td>\n",
       "      <td>None</td>\n",
       "      <td>0</td>\n",
       "      <td>0</td>\n",
       "      <td>0</td>\n",
       "      <td>18954461.0</td>\n",
       "      <td>https://graph.facebook.com/1019216031869478/pi...</td>\n",
       "      <td>2.77</td>\n",
       "      <td>0.0</td>\n",
       "      <td>2.0</td>\n",
       "      <td>non-expert</td>\n",
       "      <td>2.0</td>\n",
       "    </tr>\n",
       "  </tbody>\n",
       "</table>\n",
       "</div>"
      ],
      "text/plain": [
       "            Id  Reputation            CreationDate      DisplayName  \\\n",
       "116474  129231         279 2019-05-18 16:37:17.487  Alex Valenzuela   \n",
       "165554  180830          13 2020-06-29 00:19:05.200      Camara Peña   \n",
       "\n",
       "                 LastAccessDate WebsiteUrl Location AboutMe  Views  UpVotes  \\\n",
       "116474  2021-02-23T21:36:06.683       None     None    None     37       14   \n",
       "165554  2020-06-30T16:23:43.967       None     None    None      0        0   \n",
       "\n",
       "        DownVotes   AccountId  \\\n",
       "116474          0  15965214.0   \n",
       "165554          0  18954461.0   \n",
       "\n",
       "                                          ProfileImageUrl  years_on_so  \\\n",
       "116474  https://graph.facebook.com/3150294315010832/pi...         3.88   \n",
       "165554  https://graph.facebook.com/1019216031869478/pi...         2.77   \n",
       "\n",
       "        Answers  Questions    category  Comments  \n",
       "116474      1.0        4.0  non-expert      42.0  \n",
       "165554      0.0        2.0  non-expert       2.0  "
      ]
     },
     "execution_count": 1041,
     "metadata": {},
     "output_type": "execute_result"
    }
   ],
   "source": [
    "train_df.head(2)"
   ]
  },
  {
   "cell_type": "code",
   "execution_count": 1042,
   "id": "a850565f",
   "metadata": {},
   "outputs": [
    {
     "data": {
      "text/html": [
       "<div>\n",
       "<style scoped>\n",
       "    .dataframe tbody tr th:only-of-type {\n",
       "        vertical-align: middle;\n",
       "    }\n",
       "\n",
       "    .dataframe tbody tr th {\n",
       "        vertical-align: top;\n",
       "    }\n",
       "\n",
       "    .dataframe thead th {\n",
       "        text-align: right;\n",
       "    }\n",
       "</style>\n",
       "<table border=\"1\" class=\"dataframe\">\n",
       "  <thead>\n",
       "    <tr style=\"text-align: right;\">\n",
       "      <th></th>\n",
       "      <th>Id</th>\n",
       "      <th>Reputation</th>\n",
       "      <th>CreationDate</th>\n",
       "      <th>DisplayName</th>\n",
       "      <th>LastAccessDate</th>\n",
       "      <th>WebsiteUrl</th>\n",
       "      <th>Location</th>\n",
       "      <th>AboutMe</th>\n",
       "      <th>Views</th>\n",
       "      <th>UpVotes</th>\n",
       "      <th>DownVotes</th>\n",
       "      <th>AccountId</th>\n",
       "      <th>ProfileImageUrl</th>\n",
       "      <th>years_on_so</th>\n",
       "      <th>Answers</th>\n",
       "      <th>Questions</th>\n",
       "      <th>category</th>\n",
       "      <th>Comments</th>\n",
       "    </tr>\n",
       "  </thead>\n",
       "  <tbody>\n",
       "    <tr>\n",
       "      <th>469</th>\n",
       "      <td>517</td>\n",
       "      <td>6977</td>\n",
       "      <td>2015-12-02 12:07:58.183</td>\n",
       "      <td>Jordi Castilla</td>\n",
       "      <td>2021-01-25T15:31:35.393</td>\n",
       "      <td>http://www.ibeernalia.com</td>\n",
       "      <td>Barcelona</td>\n",
       "      <td>&lt;p&gt;Beer and programming freak.&lt;/p&gt;\\n\\n&lt;p&gt;&lt;a hr...</td>\n",
       "      <td>459</td>\n",
       "      <td>412</td>\n",
       "      <td>168</td>\n",
       "      <td>4763924.0</td>\n",
       "      <td>https://graph.facebook.com/100007829376909/pic...</td>\n",
       "      <td>7.34</td>\n",
       "      <td>25.0</td>\n",
       "      <td>23.0</td>\n",
       "      <td>expert</td>\n",
       "      <td>169.0</td>\n",
       "    </tr>\n",
       "    <tr>\n",
       "      <th>2186</th>\n",
       "      <td>2896</td>\n",
       "      <td>4387</td>\n",
       "      <td>2016-01-22 01:27:16.493</td>\n",
       "      <td>Pedro Miguel Pimienta Morales</td>\n",
       "      <td>2021-02-21T06:21:08.463</td>\n",
       "      <td>NaN</td>\n",
       "      <td>Colombia</td>\n",
       "      <td>&lt;p&gt;Ingeniero de sistema egresado de la univers...</td>\n",
       "      <td>679</td>\n",
       "      <td>468</td>\n",
       "      <td>8</td>\n",
       "      <td>6096203.0</td>\n",
       "      <td>https://lh5.googleusercontent.com/-pfnyEtqrofQ...</td>\n",
       "      <td>7.20</td>\n",
       "      <td>7.0</td>\n",
       "      <td>32.0</td>\n",
       "      <td>expert</td>\n",
       "      <td>582.0</td>\n",
       "    </tr>\n",
       "    <tr>\n",
       "      <th>98253</th>\n",
       "      <td>108737</td>\n",
       "      <td>5824</td>\n",
       "      <td>2018-11-28 12:22:37.040</td>\n",
       "      <td>Rubiales Alberto</td>\n",
       "      <td>2021-02-27T19:11:45.203</td>\n",
       "      <td>https://medium.com/@rubialesalberto</td>\n",
       "      <td>Madrid, Spain</td>\n",
       "      <td>&lt;p&gt;Si consideráis que genero buen contenido ta...</td>\n",
       "      <td>498</td>\n",
       "      <td>2035</td>\n",
       "      <td>30</td>\n",
       "      <td>14840040.0</td>\n",
       "      <td>https://graph.facebook.com/1441874862613464/pi...</td>\n",
       "      <td>4.35</td>\n",
       "      <td>0.0</td>\n",
       "      <td>1.0</td>\n",
       "      <td>expert</td>\n",
       "      <td>495.0</td>\n",
       "    </tr>\n",
       "    <tr>\n",
       "      <th>20</th>\n",
       "      <td>20</td>\n",
       "      <td>12332</td>\n",
       "      <td>2015-10-28 21:24:53.730</td>\n",
       "      <td>Carlos Muñoz</td>\n",
       "      <td>2021-02-27T02:14:33.617</td>\n",
       "      <td>http://stackoverflow.com/users/186133/carlos-muoz</td>\n",
       "      <td>Lima, Peru</td>\n",
       "      <td>&lt;p&gt;Ex IBMer.&lt;/p&gt;\\n\\n&lt;p&gt;Now in the web developm...</td>\n",
       "      <td>1818</td>\n",
       "      <td>469</td>\n",
       "      <td>496</td>\n",
       "      <td>62733.0</td>\n",
       "      <td>None</td>\n",
       "      <td>7.44</td>\n",
       "      <td>83.0</td>\n",
       "      <td>1.0</td>\n",
       "      <td>expert</td>\n",
       "      <td>655.0</td>\n",
       "    </tr>\n",
       "    <tr>\n",
       "      <th>29311</th>\n",
       "      <td>35772</td>\n",
       "      <td>2773</td>\n",
       "      <td>2017-04-05 21:35:34.650</td>\n",
       "      <td>Jorge Arturo Juarez</td>\n",
       "      <td>2018-10-16T10:04:45.237</td>\n",
       "      <td>NaN</td>\n",
       "      <td>Guanajuato, México</td>\n",
       "      <td>&lt;p&gt;Usuario promedio de internet&lt;/p&gt;\\n</td>\n",
       "      <td>245</td>\n",
       "      <td>70</td>\n",
       "      <td>27</td>\n",
       "      <td>6473935.0</td>\n",
       "      <td>https://graph.facebook.com/10205423757766434/p...</td>\n",
       "      <td>6.00</td>\n",
       "      <td>115.0</td>\n",
       "      <td>5.0</td>\n",
       "      <td>expert</td>\n",
       "      <td>170.0</td>\n",
       "    </tr>\n",
       "    <tr>\n",
       "      <th>...</th>\n",
       "      <td>...</td>\n",
       "      <td>...</td>\n",
       "      <td>...</td>\n",
       "      <td>...</td>\n",
       "      <td>...</td>\n",
       "      <td>...</td>\n",
       "      <td>...</td>\n",
       "      <td>...</td>\n",
       "      <td>...</td>\n",
       "      <td>...</td>\n",
       "      <td>...</td>\n",
       "      <td>...</td>\n",
       "      <td>...</td>\n",
       "      <td>...</td>\n",
       "      <td>...</td>\n",
       "      <td>...</td>\n",
       "      <td>...</td>\n",
       "      <td>...</td>\n",
       "    </tr>\n",
       "    <tr>\n",
       "      <th>45400</th>\n",
       "      <td>54039</td>\n",
       "      <td>11526</td>\n",
       "      <td>2017-07-27 02:20:51.963</td>\n",
       "      <td>Triby</td>\n",
       "      <td>2021-02-26T23:08:49.633</td>\n",
       "      <td>None</td>\n",
       "      <td>None</td>\n",
       "      <td>None</td>\n",
       "      <td>813</td>\n",
       "      <td>746</td>\n",
       "      <td>8</td>\n",
       "      <td>2805579.0</td>\n",
       "      <td>https://i.stack.imgur.com/ZfNwa.jpg</td>\n",
       "      <td>5.69</td>\n",
       "      <td>25.0</td>\n",
       "      <td>0.0</td>\n",
       "      <td>expert</td>\n",
       "      <td>2255.0</td>\n",
       "    </tr>\n",
       "    <tr>\n",
       "      <th>711</th>\n",
       "      <td>822</td>\n",
       "      <td>11507</td>\n",
       "      <td>2015-12-06 03:00:50.200</td>\n",
       "      <td>fredyfx</td>\n",
       "      <td>2021-02-27T20:59:52.797</td>\n",
       "      <td>http://www.fredyfx.com</td>\n",
       "      <td>Trujillo, La Libertad, Peru</td>\n",
       "      <td>&lt;p&gt;Hola buenas madrugadas, mi nombre es &lt;stron...</td>\n",
       "      <td>2426</td>\n",
       "      <td>1554</td>\n",
       "      <td>375</td>\n",
       "      <td>4438214.0</td>\n",
       "      <td>None</td>\n",
       "      <td>7.33</td>\n",
       "      <td>28.0</td>\n",
       "      <td>2.0</td>\n",
       "      <td>expert</td>\n",
       "      <td>3198.0</td>\n",
       "    </tr>\n",
       "    <tr>\n",
       "      <th>25</th>\n",
       "      <td>25</td>\n",
       "      <td>16407</td>\n",
       "      <td>2015-10-29 17:32:30.253</td>\n",
       "      <td>rnrneverdies</td>\n",
       "      <td>2021-02-27T21:27:46.870</td>\n",
       "      <td>None</td>\n",
       "      <td>Argentina</td>\n",
       "      <td>&lt;p&gt;Nothing in the world is a gift. Whatever th...</td>\n",
       "      <td>1386</td>\n",
       "      <td>689</td>\n",
       "      <td>110</td>\n",
       "      <td>3035018.0</td>\n",
       "      <td>None</td>\n",
       "      <td>7.43</td>\n",
       "      <td>136.0</td>\n",
       "      <td>12.0</td>\n",
       "      <td>expert</td>\n",
       "      <td>892.0</td>\n",
       "    </tr>\n",
       "    <tr>\n",
       "      <th>10519</th>\n",
       "      <td>16108</td>\n",
       "      <td>15890</td>\n",
       "      <td>2016-10-10 20:54:30.177</td>\n",
       "      <td>Francisco Romero</td>\n",
       "      <td>2021-02-26T23:19:09.103</td>\n",
       "      <td>NaN</td>\n",
       "      <td>Zaragoza, España</td>\n",
       "      <td>&lt;p&gt;Apasionado de la informática en general y d...</td>\n",
       "      <td>1786</td>\n",
       "      <td>500</td>\n",
       "      <td>238</td>\n",
       "      <td>5786247.0</td>\n",
       "      <td>https://i.stack.imgur.com/jTpxN.png?s=128&amp;g=1</td>\n",
       "      <td>6.48</td>\n",
       "      <td>211.0</td>\n",
       "      <td>7.0</td>\n",
       "      <td>expert</td>\n",
       "      <td>1314.0</td>\n",
       "    </tr>\n",
       "    <tr>\n",
       "      <th>52662</th>\n",
       "      <td>61388</td>\n",
       "      <td>7300</td>\n",
       "      <td>2017-09-28 19:40:33.020</td>\n",
       "      <td>Bryro</td>\n",
       "      <td>2021-02-26T15:24:33.090</td>\n",
       "      <td>None</td>\n",
       "      <td>None</td>\n",
       "      <td>None</td>\n",
       "      <td>441</td>\n",
       "      <td>38</td>\n",
       "      <td>32</td>\n",
       "      <td>10536195.0</td>\n",
       "      <td>https://i.stack.imgur.com/flBow.jpg</td>\n",
       "      <td>5.52</td>\n",
       "      <td>0.0</td>\n",
       "      <td>0.0</td>\n",
       "      <td>expert</td>\n",
       "      <td>959.0</td>\n",
       "    </tr>\n",
       "  </tbody>\n",
       "</table>\n",
       "<p>67 rows × 18 columns</p>\n",
       "</div>"
      ],
      "text/plain": [
       "           Id  Reputation            CreationDate  \\\n",
       "469       517        6977 2015-12-02 12:07:58.183   \n",
       "2186     2896        4387 2016-01-22 01:27:16.493   \n",
       "98253  108737        5824 2018-11-28 12:22:37.040   \n",
       "20         20       12332 2015-10-28 21:24:53.730   \n",
       "29311   35772        2773 2017-04-05 21:35:34.650   \n",
       "...       ...         ...                     ...   \n",
       "45400   54039       11526 2017-07-27 02:20:51.963   \n",
       "711       822       11507 2015-12-06 03:00:50.200   \n",
       "25         25       16407 2015-10-29 17:32:30.253   \n",
       "10519   16108       15890 2016-10-10 20:54:30.177   \n",
       "52662   61388        7300 2017-09-28 19:40:33.020   \n",
       "\n",
       "                         DisplayName           LastAccessDate  \\\n",
       "469                   Jordi Castilla  2021-01-25T15:31:35.393   \n",
       "2186   Pedro Miguel Pimienta Morales  2021-02-21T06:21:08.463   \n",
       "98253               Rubiales Alberto  2021-02-27T19:11:45.203   \n",
       "20                      Carlos Muñoz  2021-02-27T02:14:33.617   \n",
       "29311            Jorge Arturo Juarez  2018-10-16T10:04:45.237   \n",
       "...                              ...                      ...   \n",
       "45400                          Triby  2021-02-26T23:08:49.633   \n",
       "711                          fredyfx  2021-02-27T20:59:52.797   \n",
       "25                      rnrneverdies  2021-02-27T21:27:46.870   \n",
       "10519               Francisco Romero  2021-02-26T23:19:09.103   \n",
       "52662                          Bryro  2021-02-26T15:24:33.090   \n",
       "\n",
       "                                              WebsiteUrl  \\\n",
       "469                            http://www.ibeernalia.com   \n",
       "2186                                                 NaN   \n",
       "98253                https://medium.com/@rubialesalberto   \n",
       "20     http://stackoverflow.com/users/186133/carlos-muoz   \n",
       "29311                                                NaN   \n",
       "...                                                  ...   \n",
       "45400                                               None   \n",
       "711                               http://www.fredyfx.com   \n",
       "25                                                  None   \n",
       "10519                                                NaN   \n",
       "52662                                               None   \n",
       "\n",
       "                          Location  \\\n",
       "469                      Barcelona   \n",
       "2186                      Colombia   \n",
       "98253                Madrid, Spain   \n",
       "20                      Lima, Peru   \n",
       "29311           Guanajuato, México   \n",
       "...                            ...   \n",
       "45400                         None   \n",
       "711    Trujillo, La Libertad, Peru   \n",
       "25                       Argentina   \n",
       "10519             Zaragoza, España   \n",
       "52662                         None   \n",
       "\n",
       "                                                 AboutMe  Views  UpVotes  \\\n",
       "469    <p>Beer and programming freak.</p>\\n\\n<p><a hr...    459      412   \n",
       "2186   <p>Ingeniero de sistema egresado de la univers...    679      468   \n",
       "98253  <p>Si consideráis que genero buen contenido ta...    498     2035   \n",
       "20     <p>Ex IBMer.</p>\\n\\n<p>Now in the web developm...   1818      469   \n",
       "29311              <p>Usuario promedio de internet</p>\\n    245       70   \n",
       "...                                                  ...    ...      ...   \n",
       "45400                                               None    813      746   \n",
       "711    <p>Hola buenas madrugadas, mi nombre es <stron...   2426     1554   \n",
       "25     <p>Nothing in the world is a gift. Whatever th...   1386      689   \n",
       "10519  <p>Apasionado de la informática en general y d...   1786      500   \n",
       "52662                                               None    441       38   \n",
       "\n",
       "       DownVotes   AccountId  \\\n",
       "469          168   4763924.0   \n",
       "2186           8   6096203.0   \n",
       "98253         30  14840040.0   \n",
       "20           496     62733.0   \n",
       "29311         27   6473935.0   \n",
       "...          ...         ...   \n",
       "45400          8   2805579.0   \n",
       "711          375   4438214.0   \n",
       "25           110   3035018.0   \n",
       "10519        238   5786247.0   \n",
       "52662         32  10536195.0   \n",
       "\n",
       "                                         ProfileImageUrl  years_on_so  \\\n",
       "469    https://graph.facebook.com/100007829376909/pic...         7.34   \n",
       "2186   https://lh5.googleusercontent.com/-pfnyEtqrofQ...         7.20   \n",
       "98253  https://graph.facebook.com/1441874862613464/pi...         4.35   \n",
       "20                                                  None         7.44   \n",
       "29311  https://graph.facebook.com/10205423757766434/p...         6.00   \n",
       "...                                                  ...          ...   \n",
       "45400                https://i.stack.imgur.com/ZfNwa.jpg         5.69   \n",
       "711                                                 None         7.33   \n",
       "25                                                  None         7.43   \n",
       "10519      https://i.stack.imgur.com/jTpxN.png?s=128&g=1         6.48   \n",
       "52662                https://i.stack.imgur.com/flBow.jpg         5.52   \n",
       "\n",
       "       Answers  Questions category  Comments  \n",
       "469       25.0       23.0   expert     169.0  \n",
       "2186       7.0       32.0   expert     582.0  \n",
       "98253      0.0        1.0   expert     495.0  \n",
       "20        83.0        1.0   expert     655.0  \n",
       "29311    115.0        5.0   expert     170.0  \n",
       "...        ...        ...      ...       ...  \n",
       "45400     25.0        0.0   expert    2255.0  \n",
       "711       28.0        2.0   expert    3198.0  \n",
       "25       136.0       12.0   expert     892.0  \n",
       "10519    211.0        7.0   expert    1314.0  \n",
       "52662      0.0        0.0   expert     959.0  \n",
       "\n",
       "[67 rows x 18 columns]"
      ]
     },
     "execution_count": 1042,
     "metadata": {},
     "output_type": "execute_result"
    }
   ],
   "source": [
    "train_df[train_df['category']=='expert']"
   ]
  },
  {
   "cell_type": "code",
   "execution_count": 1043,
   "id": "6ad5faa9",
   "metadata": {},
   "outputs": [
    {
     "data": {
      "text/html": [
       "<style>#sk-container-id-22 {color: black;background-color: white;}#sk-container-id-22 pre{padding: 0;}#sk-container-id-22 div.sk-toggleable {background-color: white;}#sk-container-id-22 label.sk-toggleable__label {cursor: pointer;display: block;width: 100%;margin-bottom: 0;padding: 0.3em;box-sizing: border-box;text-align: center;}#sk-container-id-22 label.sk-toggleable__label-arrow:before {content: \"▸\";float: left;margin-right: 0.25em;color: #696969;}#sk-container-id-22 label.sk-toggleable__label-arrow:hover:before {color: black;}#sk-container-id-22 div.sk-estimator:hover label.sk-toggleable__label-arrow:before {color: black;}#sk-container-id-22 div.sk-toggleable__content {max-height: 0;max-width: 0;overflow: hidden;text-align: left;background-color: #f0f8ff;}#sk-container-id-22 div.sk-toggleable__content pre {margin: 0.2em;color: black;border-radius: 0.25em;background-color: #f0f8ff;}#sk-container-id-22 input.sk-toggleable__control:checked~div.sk-toggleable__content {max-height: 200px;max-width: 100%;overflow: auto;}#sk-container-id-22 input.sk-toggleable__control:checked~label.sk-toggleable__label-arrow:before {content: \"▾\";}#sk-container-id-22 div.sk-estimator input.sk-toggleable__control:checked~label.sk-toggleable__label {background-color: #d4ebff;}#sk-container-id-22 div.sk-label input.sk-toggleable__control:checked~label.sk-toggleable__label {background-color: #d4ebff;}#sk-container-id-22 input.sk-hidden--visually {border: 0;clip: rect(1px 1px 1px 1px);clip: rect(1px, 1px, 1px, 1px);height: 1px;margin: -1px;overflow: hidden;padding: 0;position: absolute;width: 1px;}#sk-container-id-22 div.sk-estimator {font-family: monospace;background-color: #f0f8ff;border: 1px dotted black;border-radius: 0.25em;box-sizing: border-box;margin-bottom: 0.5em;}#sk-container-id-22 div.sk-estimator:hover {background-color: #d4ebff;}#sk-container-id-22 div.sk-parallel-item::after {content: \"\";width: 100%;border-bottom: 1px solid gray;flex-grow: 1;}#sk-container-id-22 div.sk-label:hover label.sk-toggleable__label {background-color: #d4ebff;}#sk-container-id-22 div.sk-serial::before {content: \"\";position: absolute;border-left: 1px solid gray;box-sizing: border-box;top: 0;bottom: 0;left: 50%;z-index: 0;}#sk-container-id-22 div.sk-serial {display: flex;flex-direction: column;align-items: center;background-color: white;padding-right: 0.2em;padding-left: 0.2em;position: relative;}#sk-container-id-22 div.sk-item {position: relative;z-index: 1;}#sk-container-id-22 div.sk-parallel {display: flex;align-items: stretch;justify-content: center;background-color: white;position: relative;}#sk-container-id-22 div.sk-item::before, #sk-container-id-22 div.sk-parallel-item::before {content: \"\";position: absolute;border-left: 1px solid gray;box-sizing: border-box;top: 0;bottom: 0;left: 50%;z-index: -1;}#sk-container-id-22 div.sk-parallel-item {display: flex;flex-direction: column;z-index: 1;position: relative;background-color: white;}#sk-container-id-22 div.sk-parallel-item:first-child::after {align-self: flex-end;width: 50%;}#sk-container-id-22 div.sk-parallel-item:last-child::after {align-self: flex-start;width: 50%;}#sk-container-id-22 div.sk-parallel-item:only-child::after {width: 0;}#sk-container-id-22 div.sk-dashed-wrapped {border: 1px dashed gray;margin: 0 0.4em 0.5em 0.4em;box-sizing: border-box;padding-bottom: 0.4em;background-color: white;}#sk-container-id-22 div.sk-label label {font-family: monospace;font-weight: bold;display: inline-block;line-height: 1.2em;}#sk-container-id-22 div.sk-label-container {text-align: center;}#sk-container-id-22 div.sk-container {/* jupyter's `normalize.less` sets `[hidden] { display: none; }` but bootstrap.min.css set `[hidden] { display: none !important; }` so we also need the `!important` here to be able to override the default hidden behavior on the sphinx rendered scikit-learn.org. See: https://github.com/scikit-learn/scikit-learn/issues/21755 */display: inline-block !important;position: relative;}#sk-container-id-22 div.sk-text-repr-fallback {display: none;}</style><div id=\"sk-container-id-22\" class=\"sk-top-container\"><div class=\"sk-text-repr-fallback\"><pre>RandomForestClassifier()</pre><b>In a Jupyter environment, please rerun this cell to show the HTML representation or trust the notebook. <br />On GitHub, the HTML representation is unable to render, please try loading this page with nbviewer.org.</b></div><div class=\"sk-container\" hidden><div class=\"sk-item\"><div class=\"sk-estimator sk-toggleable\"><input class=\"sk-toggleable__control sk-hidden--visually\" id=\"sk-estimator-id-22\" type=\"checkbox\" checked><label for=\"sk-estimator-id-22\" class=\"sk-toggleable__label sk-toggleable__label-arrow\">RandomForestClassifier</label><div class=\"sk-toggleable__content\"><pre>RandomForestClassifier()</pre></div></div></div></div></div>"
      ],
      "text/plain": [
       "RandomForestClassifier()"
      ]
     },
     "execution_count": 1043,
     "metadata": {},
     "output_type": "execute_result"
    }
   ],
   "source": [
    "# Extract features from user activity\n",
    "# features = ['Answers', 'Questions', 'Accepted']\n",
    "features = ['Answers', 'Questions', 'Comments']\n",
    "X_train = train_df[features]\n",
    "y_train = train_df['category']\n",
    "X_test = test_df[features]\n",
    "y_test = test_df['category']\n",
    "\n",
    "# Train Random Forest model with 100 estimators\n",
    "model = RandomForestClassifier()\n",
    "model.fit(X_train, y_train)"
   ]
  },
  {
   "cell_type": "code",
   "execution_count": 1044,
   "id": "a980118b",
   "metadata": {},
   "outputs": [
    {
     "name": "stdout",
     "output_type": "stream",
     "text": [
      "Model accuracy: 0.9975085324232081\n"
     ]
    }
   ],
   "source": [
    "# Evaluate model on testing set\n",
    "y_pred = model.predict(X_test)\n",
    "\n",
    "# Get probability estimates for the test set\n",
    "y_prob = model.predict_proba(X_test)[:, 1]\n",
    "\n",
    "accuracy = accuracy_score(y_test, y_pred)\n",
    "print('Model accuracy:', accuracy)"
   ]
  },
  {
   "cell_type": "code",
   "execution_count": 1045,
   "id": "d2395d85",
   "metadata": {},
   "outputs": [
    {
     "name": "stdout",
     "output_type": "stream",
     "text": [
      "              precision    recall  f1-score   support\n",
      "\n",
      "      expert       0.77      0.65      0.70       134\n",
      "  non-expert       1.00      1.00      1.00     29166\n",
      "\n",
      "    accuracy                           1.00     29300\n",
      "   macro avg       0.88      0.82      0.85     29300\n",
      "weighted avg       1.00      1.00      1.00     29300\n",
      "\n"
     ]
    }
   ],
   "source": [
    "from sklearn.metrics import classification_report\n",
    "\n",
    "# Evaluate model on testing set\n",
    "y_pred = model.predict(X_test)\n",
    "report = classification_report(y_test, y_pred)\n",
    "print(report)"
   ]
  },
  {
   "cell_type": "markdown",
   "id": "ea84ead0",
   "metadata": {},
   "source": [
    "# Graph"
   ]
  },
  {
   "cell_type": "code",
   "execution_count": 1046,
   "id": "53d4240a",
   "metadata": {},
   "outputs": [],
   "source": [
    "from sklearn.preprocessing import LabelEncoder\n",
    "\n",
    "# encode labels to numerical values\n",
    "le = LabelEncoder()\n",
    "y_test_encoded = le.fit_transform(y_test)\n",
    "\n",
    "# Get probability estimates for the test set\n",
    "y_prob = model.predict_proba(X_test)[:, 1]\n",
    "\n",
    "# Compute ROC curve and ROC area for each class\n",
    "fpr, tpr, _ = roc_curve(y_test_encoded, y_prob)\n",
    "roc_auc = auc(fpr, tpr)\n"
   ]
  },
  {
   "cell_type": "code",
   "execution_count": 1047,
   "id": "25d61207",
   "metadata": {},
   "outputs": [],
   "source": [
    "# Get probability estimates for the test set\n",
    "y_prob = model.predict_proba(X_test)[:, 1]\n",
    "\n",
    "# Compute ROC curve and ROC area for each class\n",
    "fpr, tpr, _ = roc_curve(y_test, y_prob, pos_label='expert')\n",
    "roc_auc = auc(fpr, tpr)"
   ]
  },
  {
   "cell_type": "code",
   "execution_count": 1048,
   "id": "0a02417b",
   "metadata": {},
   "outputs": [
    {
     "data": {
      "image/png": "[encoded data removed]",
      "text/plain": [
       "<Figure size 432x288 with 1 Axes>"
      ]
     },
     "metadata": {
      "needs_background": "light"
     },
     "output_type": "display_data"
    }
   ],
   "source": [
    "# Plot ROC curve\n",
    "plt.figure()\n",
    "lw = 2\n",
    "plt.plot(fpr, tpr, color='darkorange', lw=lw, label='ROC curve (area = %0.2f)' % roc_auc)\n",
    "plt.plot([0, 1], [0, 1], color='navy', lw=lw, linestyle='--')\n",
    "plt.xlim([0.0, 1.0])\n",
    "plt.ylim([0.0, 1.05])\n",
    "plt.xlabel('False Positive Rate')\n",
    "plt.ylabel('True Positive Rate')\n",
    "plt.title('Receiver operating characteristic')\n",
    "plt.legend(loc=\"lower right\")\n",
    "plt.show()"
   ]
  },
  {
   "cell_type": "code",
   "execution_count": 1039,
   "id": "90b82135",
   "metadata": {},
   "outputs": [
    {
     "data": {
      "image/png": "[encoded data removed]",
      "text/plain": [
       "<Figure size 432x288 with 1 Axes>"
      ]
     },
     "metadata": {
      "needs_background": "light"
     },
     "output_type": "display_data"
    }
   ],
   "source": [
    "from sklearn.metrics import precision_recall_curve, auc\n",
    "\n",
    "# Get predicted probabilities and calculate precision-recall values\n",
    "y_prob = model.predict_proba(X_test)[:,1]\n",
    "precision, recall, thresholds = precision_recall_curve(y_test, y_prob, pos_label='expert')\n",
    "\n",
    "# Calculate area under the curve\n",
    "area = auc(recall, precision)\n",
    "\n",
    "# Plot the precision-recall curve and show the area\n",
    "plt.plot(recall, precision, marker='.', markersize=10)\n",
    "plt.fill_between(recall, precision, alpha=0.2)\n",
    "plt.xlim([0.0, 1.05])\n",
    "plt.ylim([0.0, 1.05])\n",
    "plt.xlabel('Recall')\n",
    "plt.ylabel('Precision')\n",
    "plt.title('Precision-Recall Curve\\nArea Under Curve: {:.2f}'.format(area))\n",
    "plt.show()\n"
   ]
  },
  {
   "cell_type": "code",
   "execution_count": null,
   "id": "91c92c9f",
   "metadata": {},
   "outputs": [],
   "source": []
  },
  {
   "cell_type": "code",
   "execution_count": null,
   "id": "a7c5c9bb",
   "metadata": {},
   "outputs": [],
   "source": []
  }
 ],
 "metadata": {
  "kernelspec": {
   "display_name": "Python 3 (ipykernel)",
   "language": "python",
   "name": "python3"
  },
  "language_info": {
   "codemirror_mode": {
    "name": "ipython",
    "version": 3
   },
   "file_extension": ".py",
   "mimetype": "text/x-python",
   "name": "python",
   "nbconvert_exporter": "python",
   "pygments_lexer": "ipython3",
   "version": "3.10.5"
  }
 },
 "nbformat": 4,
 "nbformat_minor": 5
}
