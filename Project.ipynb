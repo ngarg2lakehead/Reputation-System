{
 "cells": [
  {
   "cell_type": "code",
   "execution_count": 1,
   "id": "648ed4e3",
   "metadata": {},
   "outputs": [],
   "source": [
    "import pandas as pd"
   ]
  },
  {
   "cell_type": "code",
   "execution_count": 7,
   "id": "017e8cb5",
   "metadata": {},
   "outputs": [],
   "source": [
    "data = pd.read_xml(\"./database/posts.xml\")"
   ]
  },
  {
   "cell_type": "code",
   "execution_count": 8,
   "id": "58560418",
   "metadata": {},
   "outputs": [
    {
     "data": {
      "text/plain": [
       "(85123, 20)"
      ]
     },
     "execution_count": 8,
     "metadata": {},
     "output_type": "execute_result"
    }
   ],
   "source": [
    "data.shape"
   ]
  },
  {
   "cell_type": "code",
   "execution_count": 17,
   "id": "453d7756",
   "metadata": {},
   "outputs": [],
   "source": [
    "df_sorted = data.sort_values('CreationDate')"
   ]
  },
  {
   "cell_type": "code",
   "execution_count": 20,
   "id": "fdd7eec9",
   "metadata": {},
   "outputs": [
    {
     "data": {
      "text/html": [
       "<div>\n",
       "<style scoped>\n",
       "    .dataframe tbody tr th:only-of-type {\n",
       "        vertical-align: middle;\n",
       "    }\n",
       "\n",
       "    .dataframe tbody tr th {\n",
       "        vertical-align: top;\n",
       "    }\n",
       "\n",
       "    .dataframe thead th {\n",
       "        text-align: right;\n",
       "    }\n",
       "</style>\n",
       "<table border=\"1\" class=\"dataframe\">\n",
       "  <thead>\n",
       "    <tr style=\"text-align: right;\">\n",
       "      <th></th>\n",
       "      <th>Id</th>\n",
       "      <th>PostTypeId</th>\n",
       "      <th>AcceptedAnswerId</th>\n",
       "      <th>CreationDate</th>\n",
       "      <th>Score</th>\n",
       "      <th>ViewCount</th>\n",
       "      <th>Body</th>\n",
       "      <th>OwnerUserId</th>\n",
       "      <th>LastEditorUserId</th>\n",
       "      <th>LastEditorDisplayName</th>\n",
       "      <th>LastEditDate</th>\n",
       "      <th>LastActivityDate</th>\n",
       "      <th>Title</th>\n",
       "      <th>Tags</th>\n",
       "      <th>AnswerCount</th>\n",
       "      <th>CommentCount</th>\n",
       "      <th>FavoriteCount</th>\n",
       "      <th>ParentId</th>\n",
       "      <th>ClosedDate</th>\n",
       "      <th>CommunityOwnedDate</th>\n",
       "    </tr>\n",
       "  </thead>\n",
       "  <tbody>\n",
       "    <tr>\n",
       "      <th>12974</th>\n",
       "      <td>17463</td>\n",
       "      <td>1</td>\n",
       "      <td>17467.0</td>\n",
       "      <td>2008-08-05T16:54:00.433</td>\n",
       "      <td>64</td>\n",
       "      <td>3724.0</td>\n",
       "      <td>&lt;p&gt;I have a folder with lists of code snippets...</td>\n",
       "      <td>137775.0</td>\n",
       "      <td>131713.0</td>\n",
       "      <td>Gnome</td>\n",
       "      <td>2010-12-03T22:37:15.207</td>\n",
       "      <td>2011-06-14T12:30:45.370</td>\n",
       "      <td>Should I ask a question I know the answer to?</td>\n",
       "      <td>&lt;support&gt;&lt;faq&gt;&lt;etiquette&gt;&lt;asking-questions&gt;&lt;se...</td>\n",
       "      <td>19.0</td>\n",
       "      <td>1.0</td>\n",
       "      <td>9.0</td>\n",
       "      <td>NaN</td>\n",
       "      <td>None</td>\n",
       "      <td>2010-12-05T06:06:10.473</td>\n",
       "    </tr>\n",
       "    <tr>\n",
       "      <th>12975</th>\n",
       "      <td>17464</td>\n",
       "      <td>2</td>\n",
       "      <td>NaN</td>\n",
       "      <td>2008-08-05T16:55:30.790</td>\n",
       "      <td>18</td>\n",
       "      <td>NaN</td>\n",
       "      <td>&lt;p&gt;I think it's poor etiquette to not change t...</td>\n",
       "      <td>131695.0</td>\n",
       "      <td>143411.0</td>\n",
       "      <td>NaN</td>\n",
       "      <td>2011-06-14T12:30:45.370</td>\n",
       "      <td>2011-06-14T12:30:45.370</td>\n",
       "      <td>None</td>\n",
       "      <td>None</td>\n",
       "      <td>NaN</td>\n",
       "      <td>1.0</td>\n",
       "      <td>NaN</td>\n",
       "      <td>17463.0</td>\n",
       "      <td>None</td>\n",
       "      <td>2010-12-05T06:06:10.473</td>\n",
       "    </tr>\n",
       "  </tbody>\n",
       "</table>\n",
       "</div>"
      ],
      "text/plain": [
       "          Id  PostTypeId  AcceptedAnswerId             CreationDate  Score  \\\n",
       "12974  17463           1           17467.0  2008-08-05T16:54:00.433     64   \n",
       "12975  17464           2               NaN  2008-08-05T16:55:30.790     18   \n",
       "\n",
       "       ViewCount                                               Body  \\\n",
       "12974     3724.0  <p>I have a folder with lists of code snippets...   \n",
       "12975        NaN  <p>I think it's poor etiquette to not change t...   \n",
       "\n",
       "       OwnerUserId  LastEditorUserId LastEditorDisplayName  \\\n",
       "12974     137775.0          131713.0                 Gnome   \n",
       "12975     131695.0          143411.0                   NaN   \n",
       "\n",
       "                  LastEditDate         LastActivityDate  \\\n",
       "12974  2010-12-03T22:37:15.207  2011-06-14T12:30:45.370   \n",
       "12975  2011-06-14T12:30:45.370  2011-06-14T12:30:45.370   \n",
       "\n",
       "                                               Title  \\\n",
       "12974  Should I ask a question I know the answer to?   \n",
       "12975                                           None   \n",
       "\n",
       "                                                    Tags  AnswerCount  \\\n",
       "12974  <support><faq><etiquette><asking-questions><se...         19.0   \n",
       "12975                                               None          NaN   \n",
       "\n",
       "       CommentCount  FavoriteCount  ParentId ClosedDate  \\\n",
       "12974           1.0            9.0       NaN       None   \n",
       "12975           1.0            NaN   17463.0       None   \n",
       "\n",
       "            CommunityOwnedDate  \n",
       "12974  2010-12-05T06:06:10.473  \n",
       "12975  2010-12-05T06:06:10.473  "
      ]
     },
     "execution_count": 20,
     "metadata": {},
     "output_type": "execute_result"
    }
   ],
   "source": [
    "df_sorted.head(2)"
   ]
  },
  {
   "cell_type": "code",
   "execution_count": 21,
   "id": "677055b9",
   "metadata": {},
   "outputs": [
    {
     "data": {
      "text/html": [
       "<div>\n",
       "<style scoped>\n",
       "    .dataframe tbody tr th:only-of-type {\n",
       "        vertical-align: middle;\n",
       "    }\n",
       "\n",
       "    .dataframe tbody tr th {\n",
       "        vertical-align: top;\n",
       "    }\n",
       "\n",
       "    .dataframe thead th {\n",
       "        text-align: right;\n",
       "    }\n",
       "</style>\n",
       "<table border=\"1\" class=\"dataframe\">\n",
       "  <thead>\n",
       "    <tr style=\"text-align: right;\">\n",
       "      <th></th>\n",
       "      <th>Id</th>\n",
       "      <th>PostTypeId</th>\n",
       "      <th>AcceptedAnswerId</th>\n",
       "      <th>CreationDate</th>\n",
       "      <th>Score</th>\n",
       "      <th>ViewCount</th>\n",
       "      <th>Body</th>\n",
       "      <th>OwnerUserId</th>\n",
       "      <th>LastEditorUserId</th>\n",
       "      <th>LastEditorDisplayName</th>\n",
       "      <th>LastEditDate</th>\n",
       "      <th>LastActivityDate</th>\n",
       "      <th>Title</th>\n",
       "      <th>Tags</th>\n",
       "      <th>AnswerCount</th>\n",
       "      <th>CommentCount</th>\n",
       "      <th>FavoriteCount</th>\n",
       "      <th>ParentId</th>\n",
       "      <th>ClosedDate</th>\n",
       "      <th>CommunityOwnedDate</th>\n",
       "    </tr>\n",
       "  </thead>\n",
       "  <tbody>\n",
       "    <tr>\n",
       "      <th>85117</th>\n",
       "      <td>104648</td>\n",
       "      <td>2</td>\n",
       "      <td>NaN</td>\n",
       "      <td>2011-08-31T23:48:25.123</td>\n",
       "      <td>0</td>\n",
       "      <td>NaN</td>\n",
       "      <td>&lt;p&gt;Questions can be protected by 15k users too...</td>\n",
       "      <td>140449.0</td>\n",
       "      <td>156902.0</td>\n",
       "      <td>NaN</td>\n",
       "      <td>2011-09-01T02:14:57.517</td>\n",
       "      <td>2011-09-01T02:14:57.517</td>\n",
       "      <td>None</td>\n",
       "      <td>None</td>\n",
       "      <td>NaN</td>\n",
       "      <td>NaN</td>\n",
       "      <td>NaN</td>\n",
       "      <td>104489.0</td>\n",
       "      <td>None</td>\n",
       "      <td>None</td>\n",
       "    </tr>\n",
       "    <tr>\n",
       "      <th>85118</th>\n",
       "      <td>104649</td>\n",
       "      <td>2</td>\n",
       "      <td>NaN</td>\n",
       "      <td>2011-08-31T23:53:51.217</td>\n",
       "      <td>4</td>\n",
       "      <td>NaN</td>\n",
       "      <td>&lt;p&gt;It works also for who edits a question and ...</td>\n",
       "      <td>140449.0</td>\n",
       "      <td>140449.0</td>\n",
       "      <td>NaN</td>\n",
       "      <td>2011-09-01T05:29:43.097</td>\n",
       "      <td>2011-09-01T05:29:43.097</td>\n",
       "      <td>None</td>\n",
       "      <td>None</td>\n",
       "      <td>NaN</td>\n",
       "      <td>2.0</td>\n",
       "      <td>NaN</td>\n",
       "      <td>104645.0</td>\n",
       "      <td>None</td>\n",
       "      <td>None</td>\n",
       "    </tr>\n",
       "  </tbody>\n",
       "</table>\n",
       "</div>"
      ],
      "text/plain": [
       "           Id  PostTypeId  AcceptedAnswerId             CreationDate  Score  \\\n",
       "85117  104648           2               NaN  2011-08-31T23:48:25.123      0   \n",
       "85118  104649           2               NaN  2011-08-31T23:53:51.217      4   \n",
       "\n",
       "       ViewCount                                               Body  \\\n",
       "85117        NaN  <p>Questions can be protected by 15k users too...   \n",
       "85118        NaN  <p>It works also for who edits a question and ...   \n",
       "\n",
       "       OwnerUserId  LastEditorUserId LastEditorDisplayName  \\\n",
       "85117     140449.0          156902.0                   NaN   \n",
       "85118     140449.0          140449.0                   NaN   \n",
       "\n",
       "                  LastEditDate         LastActivityDate Title  Tags  \\\n",
       "85117  2011-09-01T02:14:57.517  2011-09-01T02:14:57.517  None  None   \n",
       "85118  2011-09-01T05:29:43.097  2011-09-01T05:29:43.097  None  None   \n",
       "\n",
       "       AnswerCount  CommentCount  FavoriteCount  ParentId ClosedDate  \\\n",
       "85117          NaN           NaN            NaN  104489.0       None   \n",
       "85118          NaN           2.0            NaN  104645.0       None   \n",
       "\n",
       "      CommunityOwnedDate  \n",
       "85117               None  \n",
       "85118               None  "
      ]
     },
     "execution_count": 21,
     "metadata": {},
     "output_type": "execute_result"
    }
   ],
   "source": [
    "df_sorted.tail(2)"
   ]
  },
  {
   "cell_type": "code",
   "execution_count": 9,
   "id": "37f7e64c",
   "metadata": {},
   "outputs": [],
   "source": [
    "questions = data[data['PostTypeId']==1]"
   ]
  },
  {
   "cell_type": "code",
   "execution_count": 10,
   "id": "8106f2dc",
   "metadata": {},
   "outputs": [
    {
     "data": {
      "text/plain": [
       "26865"
      ]
     },
     "execution_count": 10,
     "metadata": {},
     "output_type": "execute_result"
    }
   ],
   "source": [
    "len(questions)"
   ]
  },
  {
   "cell_type": "code",
   "execution_count": 11,
   "id": "8548ad29",
   "metadata": {},
   "outputs": [
    {
     "data": {
      "text/plain": [
       "2    57720\n",
       "1    26865\n",
       "5      251\n",
       "4      251\n",
       "8       25\n",
       "3       11\n",
       "Name: PostTypeId, dtype: int64"
      ]
     },
     "execution_count": 11,
     "metadata": {},
     "output_type": "execute_result"
    }
   ],
   "source": [
    "data['PostTypeId'].value_counts()"
   ]
  },
  {
   "cell_type": "code",
   "execution_count": 12,
   "id": "f277cd21",
   "metadata": {},
   "outputs": [],
   "source": [
    "users = pd.read_xml(\"./database/users.xml\")"
   ]
  },
  {
   "cell_type": "code",
   "execution_count": 13,
   "id": "33e51162",
   "metadata": {},
   "outputs": [
    {
     "data": {
      "text/plain": [
       "31535"
      ]
     },
     "execution_count": 13,
     "metadata": {},
     "output_type": "execute_result"
    }
   ],
   "source": [
    "len(users)"
   ]
  },
  {
   "cell_type": "code",
   "execution_count": 22,
   "id": "f2bef49b",
   "metadata": {},
   "outputs": [
    {
     "data": {
      "text/html": [
       "<div>\n",
       "<style scoped>\n",
       "    .dataframe tbody tr th:only-of-type {\n",
       "        vertical-align: middle;\n",
       "    }\n",
       "\n",
       "    .dataframe tbody tr th {\n",
       "        vertical-align: top;\n",
       "    }\n",
       "\n",
       "    .dataframe thead th {\n",
       "        text-align: right;\n",
       "    }\n",
       "</style>\n",
       "<table border=\"1\" class=\"dataframe\">\n",
       "  <thead>\n",
       "    <tr style=\"text-align: right;\">\n",
       "      <th></th>\n",
       "      <th>Id</th>\n",
       "      <th>Reputation</th>\n",
       "      <th>CreationDate</th>\n",
       "      <th>DisplayName</th>\n",
       "      <th>EmailHash</th>\n",
       "      <th>LastAccessDate</th>\n",
       "      <th>WebsiteUrl</th>\n",
       "      <th>Location</th>\n",
       "      <th>AboutMe</th>\n",
       "      <th>Views</th>\n",
       "      <th>UpVotes</th>\n",
       "      <th>DownVotes</th>\n",
       "      <th>Age</th>\n",
       "    </tr>\n",
       "  </thead>\n",
       "  <tbody>\n",
       "    <tr>\n",
       "      <th>0</th>\n",
       "      <td>-1</td>\n",
       "      <td>27</td>\n",
       "      <td>2009-06-27T00:00:00.000</td>\n",
       "      <td>Community</td>\n",
       "      <td>a007be5a61f6aa8f3e85ae2fc18dd66e</td>\n",
       "      <td>2008-07-31T00:00:00.000</td>\n",
       "      <td>http://meta.stackoverflow.com/</td>\n",
       "      <td>on the server farm</td>\n",
       "      <td>&lt;p&gt;Hi, I'm not really a person.&lt;/p&gt;\\n\\n&lt;p&gt;I'm ...</td>\n",
       "      <td>1</td>\n",
       "      <td>47342</td>\n",
       "      <td>1716</td>\n",
       "      <td>NaN</td>\n",
       "    </tr>\n",
       "  </tbody>\n",
       "</table>\n",
       "</div>"
      ],
      "text/plain": [
       "   Id  Reputation             CreationDate DisplayName  \\\n",
       "0  -1          27  2009-06-27T00:00:00.000   Community   \n",
       "\n",
       "                          EmailHash           LastAccessDate  \\\n",
       "0  a007be5a61f6aa8f3e85ae2fc18dd66e  2008-07-31T00:00:00.000   \n",
       "\n",
       "                       WebsiteUrl            Location  \\\n",
       "0  http://meta.stackoverflow.com/  on the server farm   \n",
       "\n",
       "                                             AboutMe  Views  UpVotes  \\\n",
       "0  <p>Hi, I'm not really a person.</p>\\n\\n<p>I'm ...      1    47342   \n",
       "\n",
       "   DownVotes  Age  \n",
       "0       1716  NaN  "
      ]
     },
     "execution_count": 22,
     "metadata": {},
     "output_type": "execute_result"
    }
   ],
   "source": [
    "users.head(1)"
   ]
  },
  {
   "cell_type": "code",
   "execution_count": 23,
   "id": "01810aa0",
   "metadata": {},
   "outputs": [
    {
     "data": {
      "text/plain": [
       "155059"
      ]
     },
     "execution_count": 23,
     "metadata": {},
     "output_type": "execute_result"
    }
   ],
   "source": [
    "users['Reputation'].max()"
   ]
  },
  {
   "cell_type": "code",
   "execution_count": 24,
   "id": "ab74dd72",
   "metadata": {},
   "outputs": [
    {
     "data": {
      "text/plain": [
       "1"
      ]
     },
     "execution_count": 24,
     "metadata": {},
     "output_type": "execute_result"
    }
   ],
   "source": [
    "users['Reputation'].min()"
   ]
  },
  {
   "cell_type": "code",
   "execution_count": 25,
   "id": "dc694600",
   "metadata": {},
   "outputs": [],
   "source": [
    "df_votes = pd.read_xml(\"./database/votes.xml\")"
   ]
  },
  {
   "cell_type": "code",
   "execution_count": 26,
   "id": "527ace88",
   "metadata": {},
   "outputs": [
    {
     "data": {
      "text/html": [
       "<div>\n",
       "<style scoped>\n",
       "    .dataframe tbody tr th:only-of-type {\n",
       "        vertical-align: middle;\n",
       "    }\n",
       "\n",
       "    .dataframe tbody tr th {\n",
       "        vertical-align: top;\n",
       "    }\n",
       "\n",
       "    .dataframe thead th {\n",
       "        text-align: right;\n",
       "    }\n",
       "</style>\n",
       "<table border=\"1\" class=\"dataframe\">\n",
       "  <thead>\n",
       "    <tr style=\"text-align: right;\">\n",
       "      <th></th>\n",
       "      <th>Id</th>\n",
       "      <th>PostId</th>\n",
       "      <th>VoteTypeId</th>\n",
       "      <th>CreationDate</th>\n",
       "      <th>UserId</th>\n",
       "      <th>BountyAmount</th>\n",
       "    </tr>\n",
       "  </thead>\n",
       "  <tbody>\n",
       "    <tr>\n",
       "      <th>0</th>\n",
       "      <td>1</td>\n",
       "      <td>2</td>\n",
       "      <td>2</td>\n",
       "      <td>2009-06-28</td>\n",
       "      <td>NaN</td>\n",
       "      <td>NaN</td>\n",
       "    </tr>\n",
       "  </tbody>\n",
       "</table>\n",
       "</div>"
      ],
      "text/plain": [
       "   Id  PostId  VoteTypeId CreationDate  UserId  BountyAmount\n",
       "0   1       2           2   2009-06-28     NaN           NaN"
      ]
     },
     "execution_count": 26,
     "metadata": {},
     "output_type": "execute_result"
    }
   ],
   "source": [
    "df_votes.head(1)"
   ]
  },
  {
   "cell_type": "code",
   "execution_count": 29,
   "id": "bd5ccb7e",
   "metadata": {},
   "outputs": [
    {
     "data": {
      "text/plain": [
       "(588761, 6)"
      ]
     },
     "execution_count": 29,
     "metadata": {},
     "output_type": "execute_result"
    }
   ],
   "source": [
    "df_votes.shape"
   ]
  },
  {
   "cell_type": "code",
   "execution_count": 28,
   "id": "decf4b4a",
   "metadata": {},
   "outputs": [
    {
     "data": {
      "text/plain": [
       "2     482957\n",
       "3      53293\n",
       "5      16758\n",
       "1      14323\n",
       "10     11358\n",
       "15      4417\n",
       "6       2293\n",
       "16      1253\n",
       "11       786\n",
       "8        625\n",
       "9        620\n",
       "7         34\n",
       "4         28\n",
       "12        16\n",
       "Name: VoteTypeId, dtype: int64"
      ]
     },
     "execution_count": 28,
     "metadata": {},
     "output_type": "execute_result"
    }
   ],
   "source": [
    "df_votes['VoteTypeId'].value_counts()"
   ]
  },
  {
   "cell_type": "code",
   "execution_count": 32,
   "id": "5c773baf",
   "metadata": {},
   "outputs": [],
   "source": [
    "accepted = df_votes[df_votes['VoteTypeId']==2]"
   ]
  },
  {
   "cell_type": "code",
   "execution_count": 33,
   "id": "7b77b949",
   "metadata": {},
   "outputs": [
    {
     "data": {
      "text/html": [
       "<div>\n",
       "<style scoped>\n",
       "    .dataframe tbody tr th:only-of-type {\n",
       "        vertical-align: middle;\n",
       "    }\n",
       "\n",
       "    .dataframe tbody tr th {\n",
       "        vertical-align: top;\n",
       "    }\n",
       "\n",
       "    .dataframe thead th {\n",
       "        text-align: right;\n",
       "    }\n",
       "</style>\n",
       "<table border=\"1\" class=\"dataframe\">\n",
       "  <thead>\n",
       "    <tr style=\"text-align: right;\">\n",
       "      <th></th>\n",
       "      <th>Id</th>\n",
       "      <th>PostId</th>\n",
       "      <th>VoteTypeId</th>\n",
       "      <th>CreationDate</th>\n",
       "      <th>UserId</th>\n",
       "      <th>BountyAmount</th>\n",
       "    </tr>\n",
       "  </thead>\n",
       "  <tbody>\n",
       "    <tr>\n",
       "      <th>0</th>\n",
       "      <td>1</td>\n",
       "      <td>2</td>\n",
       "      <td>2</td>\n",
       "      <td>2009-06-28</td>\n",
       "      <td>NaN</td>\n",
       "      <td>NaN</td>\n",
       "    </tr>\n",
       "    <tr>\n",
       "      <th>1</th>\n",
       "      <td>2</td>\n",
       "      <td>1</td>\n",
       "      <td>2</td>\n",
       "      <td>2009-06-28</td>\n",
       "      <td>NaN</td>\n",
       "      <td>NaN</td>\n",
       "    </tr>\n",
       "  </tbody>\n",
       "</table>\n",
       "</div>"
      ],
      "text/plain": [
       "   Id  PostId  VoteTypeId CreationDate  UserId  BountyAmount\n",
       "0   1       2           2   2009-06-28     NaN           NaN\n",
       "1   2       1           2   2009-06-28     NaN           NaN"
      ]
     },
     "execution_count": 33,
     "metadata": {},
     "output_type": "execute_result"
    }
   ],
   "source": [
    "accepted.head(2)"
   ]
  },
  {
   "cell_type": "code",
   "execution_count": null,
   "id": "2f0740ca",
   "metadata": {},
   "outputs": [],
   "source": []
  }
 ],
 "metadata": {
  "kernelspec": {
   "display_name": "Python 3 (ipykernel)",
   "language": "python",
   "name": "python3"
  },
  "language_info": {
   "codemirror_mode": {
    "name": "ipython",
    "version": 3
   },
   "file_extension": ".py",
   "mimetype": "text/x-python",
   "name": "python",
   "nbconvert_exporter": "python",
   "pygments_lexer": "ipython3",
   "version": "3.10.5"
  }
 },
 "nbformat": 4,
 "nbformat_minor": 5
}
