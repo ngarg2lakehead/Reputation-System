{
 "cells": [
  {
   "cell_type": "code",
   "execution_count": 1,
   "id": "648ed4e3",
   "metadata": {},
   "outputs": [],
   "source": [
    "import pandas as pd"
   ]
  },
  {
   "cell_type": "code",
   "execution_count": 2,
   "id": "017e8cb5",
   "metadata": {},
   "outputs": [],
   "source": [
    "data = pd.read_xml(\"./updated_database/posts.xml\")"
   ]
  },
  {
   "cell_type": "code",
   "execution_count": 3,
   "id": "58560418",
   "metadata": {},
   "outputs": [
    {
     "data": {
      "text/plain": [
       "(308300, 22)"
      ]
     },
     "execution_count": 3,
     "metadata": {},
     "output_type": "execute_result"
    }
   ],
   "source": [
    "data.shape"
   ]
  },
  {
   "cell_type": "code",
   "execution_count": 4,
   "id": "453d7756",
   "metadata": {},
   "outputs": [],
   "source": [
    "df_sorted = data.sort_values('CreationDate')"
   ]
  },
  {
   "cell_type": "code",
   "execution_count": 5,
   "id": "fdd7eec9",
   "metadata": {},
   "outputs": [
    {
     "data": {
      "text/html": [
       "<div>\n",
       "<style scoped>\n",
       "    .dataframe tbody tr th:only-of-type {\n",
       "        vertical-align: middle;\n",
       "    }\n",
       "\n",
       "    .dataframe tbody tr th {\n",
       "        vertical-align: top;\n",
       "    }\n",
       "\n",
       "    .dataframe thead th {\n",
       "        text-align: right;\n",
       "    }\n",
       "</style>\n",
       "<table border=\"1\" class=\"dataframe\">\n",
       "  <thead>\n",
       "    <tr style=\"text-align: right;\">\n",
       "      <th></th>\n",
       "      <th>Id</th>\n",
       "      <th>PostTypeId</th>\n",
       "      <th>AcceptedAnswerId</th>\n",
       "      <th>CreationDate</th>\n",
       "      <th>Score</th>\n",
       "      <th>ViewCount</th>\n",
       "      <th>Body</th>\n",
       "      <th>OwnerUserId</th>\n",
       "      <th>LastEditorUserId</th>\n",
       "      <th>LastEditDate</th>\n",
       "      <th>...</th>\n",
       "      <th>Tags</th>\n",
       "      <th>AnswerCount</th>\n",
       "      <th>CommentCount</th>\n",
       "      <th>FavoriteCount</th>\n",
       "      <th>ContentLicense</th>\n",
       "      <th>ParentId</th>\n",
       "      <th>LastEditorDisplayName</th>\n",
       "      <th>OwnerDisplayName</th>\n",
       "      <th>CommunityOwnedDate</th>\n",
       "      <th>ClosedDate</th>\n",
       "    </tr>\n",
       "  </thead>\n",
       "  <tbody>\n",
       "    <tr>\n",
       "      <th>0</th>\n",
       "      <td>1</td>\n",
       "      <td>1</td>\n",
       "      <td>2.0</td>\n",
       "      <td>2015-10-29T15:56:52.933</td>\n",
       "      <td>33</td>\n",
       "      <td>520.0</td>\n",
       "      <td>&lt;p&gt;Estoy creando un servicio usando &lt;em&gt;ASP.NE...</td>\n",
       "      <td>23.0</td>\n",
       "      <td>13558.0</td>\n",
       "      <td>2019-07-07T21:36:17.737</td>\n",
       "      <td>...</td>\n",
       "      <td>&lt;.net&gt;&lt;asp.net-web-api&gt;&lt;asp.net&gt;</td>\n",
       "      <td>1.0</td>\n",
       "      <td>2</td>\n",
       "      <td>4.0</td>\n",
       "      <td>CC BY-SA 4.0</td>\n",
       "      <td>NaN</td>\n",
       "      <td>None</td>\n",
       "      <td>None</td>\n",
       "      <td>None</td>\n",
       "      <td>None</td>\n",
       "    </tr>\n",
       "    <tr>\n",
       "      <th>1</th>\n",
       "      <td>2</td>\n",
       "      <td>2</td>\n",
       "      <td>NaN</td>\n",
       "      <td>2015-10-29T19:14:23.673</td>\n",
       "      <td>26</td>\n",
       "      <td>NaN</td>\n",
       "      <td>&lt;p&gt;He encontrado la solución.&lt;/p&gt;\\n\\n&lt;p&gt;Result...</td>\n",
       "      <td>23.0</td>\n",
       "      <td>NaN</td>\n",
       "      <td>None</td>\n",
       "      <td>...</td>\n",
       "      <td>None</td>\n",
       "      <td>NaN</td>\n",
       "      <td>2</td>\n",
       "      <td>NaN</td>\n",
       "      <td>CC BY-SA 3.0</td>\n",
       "      <td>1.0</td>\n",
       "      <td>None</td>\n",
       "      <td>None</td>\n",
       "      <td>None</td>\n",
       "      <td>None</td>\n",
       "    </tr>\n",
       "  </tbody>\n",
       "</table>\n",
       "<p>2 rows × 22 columns</p>\n",
       "</div>"
      ],
      "text/plain": [
       "   Id  PostTypeId  AcceptedAnswerId             CreationDate  Score  \\\n",
       "0   1           1               2.0  2015-10-29T15:56:52.933     33   \n",
       "1   2           2               NaN  2015-10-29T19:14:23.673     26   \n",
       "\n",
       "   ViewCount                                               Body  OwnerUserId  \\\n",
       "0      520.0  <p>Estoy creando un servicio usando <em>ASP.NE...         23.0   \n",
       "1        NaN  <p>He encontrado la solución.</p>\\n\\n<p>Result...         23.0   \n",
       "\n",
       "   LastEditorUserId             LastEditDate  ...  \\\n",
       "0           13558.0  2019-07-07T21:36:17.737  ...   \n",
       "1               NaN                     None  ...   \n",
       "\n",
       "                               Tags AnswerCount CommentCount  FavoriteCount  \\\n",
       "0  <.net><asp.net-web-api><asp.net>         1.0            2            4.0   \n",
       "1                              None         NaN            2            NaN   \n",
       "\n",
       "   ContentLicense  ParentId LastEditorDisplayName  OwnerDisplayName  \\\n",
       "0    CC BY-SA 4.0       NaN                  None              None   \n",
       "1    CC BY-SA 3.0       1.0                  None              None   \n",
       "\n",
       "  CommunityOwnedDate ClosedDate  \n",
       "0               None       None  \n",
       "1               None       None  \n",
       "\n",
       "[2 rows x 22 columns]"
      ]
     },
     "execution_count": 5,
     "metadata": {},
     "output_type": "execute_result"
    }
   ],
   "source": [
    "df_sorted.head(2)"
   ]
  },
  {
   "cell_type": "code",
   "execution_count": 6,
   "id": "677055b9",
   "metadata": {},
   "outputs": [
    {
     "data": {
      "text/html": [
       "<div>\n",
       "<style scoped>\n",
       "    .dataframe tbody tr th:only-of-type {\n",
       "        vertical-align: middle;\n",
       "    }\n",
       "\n",
       "    .dataframe tbody tr th {\n",
       "        vertical-align: top;\n",
       "    }\n",
       "\n",
       "    .dataframe thead th {\n",
       "        text-align: right;\n",
       "    }\n",
       "</style>\n",
       "<table border=\"1\" class=\"dataframe\">\n",
       "  <thead>\n",
       "    <tr style=\"text-align: right;\">\n",
       "      <th></th>\n",
       "      <th>Id</th>\n",
       "      <th>PostTypeId</th>\n",
       "      <th>AcceptedAnswerId</th>\n",
       "      <th>CreationDate</th>\n",
       "      <th>Score</th>\n",
       "      <th>ViewCount</th>\n",
       "      <th>Body</th>\n",
       "      <th>OwnerUserId</th>\n",
       "      <th>LastEditorUserId</th>\n",
       "      <th>LastEditDate</th>\n",
       "      <th>...</th>\n",
       "      <th>Tags</th>\n",
       "      <th>AnswerCount</th>\n",
       "      <th>CommentCount</th>\n",
       "      <th>FavoriteCount</th>\n",
       "      <th>ContentLicense</th>\n",
       "      <th>ParentId</th>\n",
       "      <th>LastEditorDisplayName</th>\n",
       "      <th>OwnerDisplayName</th>\n",
       "      <th>CommunityOwnedDate</th>\n",
       "      <th>ClosedDate</th>\n",
       "    </tr>\n",
       "  </thead>\n",
       "  <tbody>\n",
       "    <tr>\n",
       "      <th>308298</th>\n",
       "      <td>431641</td>\n",
       "      <td>1</td>\n",
       "      <td>NaN</td>\n",
       "      <td>2021-02-28T02:33:33.357</td>\n",
       "      <td>0</td>\n",
       "      <td>2.0</td>\n",
       "      <td>&lt;p&gt;Estoy tratando de crear un script en powers...</td>\n",
       "      <td>144334.0</td>\n",
       "      <td>NaN</td>\n",
       "      <td>None</td>\n",
       "      <td>...</td>\n",
       "      <td>&lt;script&gt;&lt;email&gt;&lt;powershell&gt;&lt;codificación&gt;&lt;outl...</td>\n",
       "      <td>0.0</td>\n",
       "      <td>0</td>\n",
       "      <td>NaN</td>\n",
       "      <td>CC BY-SA 4.0</td>\n",
       "      <td>NaN</td>\n",
       "      <td>None</td>\n",
       "      <td>None</td>\n",
       "      <td>None</td>\n",
       "      <td>None</td>\n",
       "    </tr>\n",
       "    <tr>\n",
       "      <th>308299</th>\n",
       "      <td>431642</td>\n",
       "      <td>1</td>\n",
       "      <td>NaN</td>\n",
       "      <td>2021-02-28T02:50:40.080</td>\n",
       "      <td>0</td>\n",
       "      <td>3.0</td>\n",
       "      <td>&lt;p&gt;Estoy  realizando un tabla maestro detalle ...</td>\n",
       "      <td>207109.0</td>\n",
       "      <td>NaN</td>\n",
       "      <td>None</td>\n",
       "      <td>...</td>\n",
       "      <td>&lt;sql-server&gt;&lt;stored-procedure&gt;</td>\n",
       "      <td>0.0</td>\n",
       "      <td>0</td>\n",
       "      <td>NaN</td>\n",
       "      <td>CC BY-SA 4.0</td>\n",
       "      <td>NaN</td>\n",
       "      <td>None</td>\n",
       "      <td>None</td>\n",
       "      <td>None</td>\n",
       "      <td>None</td>\n",
       "    </tr>\n",
       "  </tbody>\n",
       "</table>\n",
       "<p>2 rows × 22 columns</p>\n",
       "</div>"
      ],
      "text/plain": [
       "            Id  PostTypeId  AcceptedAnswerId             CreationDate  Score  \\\n",
       "308298  431641           1               NaN  2021-02-28T02:33:33.357      0   \n",
       "308299  431642           1               NaN  2021-02-28T02:50:40.080      0   \n",
       "\n",
       "        ViewCount                                               Body  \\\n",
       "308298        2.0  <p>Estoy tratando de crear un script en powers...   \n",
       "308299        3.0  <p>Estoy  realizando un tabla maestro detalle ...   \n",
       "\n",
       "        OwnerUserId  LastEditorUserId LastEditDate  ...  \\\n",
       "308298     144334.0               NaN         None  ...   \n",
       "308299     207109.0               NaN         None  ...   \n",
       "\n",
       "                                                     Tags AnswerCount  \\\n",
       "308298  <script><email><powershell><codificación><outl...         0.0   \n",
       "308299                     <sql-server><stored-procedure>         0.0   \n",
       "\n",
       "       CommentCount  FavoriteCount  ContentLicense  ParentId  \\\n",
       "308298            0            NaN    CC BY-SA 4.0       NaN   \n",
       "308299            0            NaN    CC BY-SA 4.0       NaN   \n",
       "\n",
       "       LastEditorDisplayName  OwnerDisplayName CommunityOwnedDate ClosedDate  \n",
       "308298                  None              None               None       None  \n",
       "308299                  None              None               None       None  \n",
       "\n",
       "[2 rows x 22 columns]"
      ]
     },
     "execution_count": 6,
     "metadata": {},
     "output_type": "execute_result"
    }
   ],
   "source": [
    "df_sorted.tail(2)"
   ]
  },
  {
   "cell_type": "code",
   "execution_count": 7,
   "id": "37f7e64c",
   "metadata": {},
   "outputs": [],
   "source": [
    "questions = data[data['PostTypeId']==1]"
   ]
  },
  {
   "cell_type": "code",
   "execution_count": 8,
   "id": "8106f2dc",
   "metadata": {},
   "outputs": [
    {
     "data": {
      "text/plain": [
       "145623"
      ]
     },
     "execution_count": 8,
     "metadata": {},
     "output_type": "execute_result"
    }
   ],
   "source": [
    "len(questions)"
   ]
  },
  {
   "cell_type": "code",
   "execution_count": 9,
   "id": "8548ad29",
   "metadata": {},
   "outputs": [
    {
     "data": {
      "text/plain": [
       "2    159308\n",
       "1    145623\n",
       "5      1672\n",
       "4      1672\n",
       "6        23\n",
       "7         2\n",
       "Name: PostTypeId, dtype: int64"
      ]
     },
     "execution_count": 9,
     "metadata": {},
     "output_type": "execute_result"
    }
   ],
   "source": [
    "data['PostTypeId'].value_counts()"
   ]
  },
  {
   "cell_type": "code",
   "execution_count": 10,
   "id": "f277cd21",
   "metadata": {},
   "outputs": [],
   "source": [
    "users = pd.read_xml(\"./updated_database/users.xml\")"
   ]
  },
  {
   "cell_type": "code",
   "execution_count": 11,
   "id": "33e51162",
   "metadata": {},
   "outputs": [
    {
     "data": {
      "text/plain": [
       "197836"
      ]
     },
     "execution_count": 11,
     "metadata": {},
     "output_type": "execute_result"
    }
   ],
   "source": [
    "len(users)"
   ]
  },
  {
   "cell_type": "code",
   "execution_count": 12,
   "id": "f2bef49b",
   "metadata": {},
   "outputs": [
    {
     "data": {
      "text/html": [
       "<div>\n",
       "<style scoped>\n",
       "    .dataframe tbody tr th:only-of-type {\n",
       "        vertical-align: middle;\n",
       "    }\n",
       "\n",
       "    .dataframe tbody tr th {\n",
       "        vertical-align: top;\n",
       "    }\n",
       "\n",
       "    .dataframe thead th {\n",
       "        text-align: right;\n",
       "    }\n",
       "</style>\n",
       "<table border=\"1\" class=\"dataframe\">\n",
       "  <thead>\n",
       "    <tr style=\"text-align: right;\">\n",
       "      <th></th>\n",
       "      <th>Id</th>\n",
       "      <th>Reputation</th>\n",
       "      <th>CreationDate</th>\n",
       "      <th>DisplayName</th>\n",
       "      <th>LastAccessDate</th>\n",
       "      <th>WebsiteUrl</th>\n",
       "      <th>Location</th>\n",
       "      <th>AboutMe</th>\n",
       "      <th>Views</th>\n",
       "      <th>UpVotes</th>\n",
       "      <th>DownVotes</th>\n",
       "      <th>AccountId</th>\n",
       "      <th>ProfileImageUrl</th>\n",
       "    </tr>\n",
       "  </thead>\n",
       "  <tbody>\n",
       "    <tr>\n",
       "      <th>0</th>\n",
       "      <td>-1</td>\n",
       "      <td>1</td>\n",
       "      <td>2015-10-26T21:36:24.767</td>\n",
       "      <td>Comunidad</td>\n",
       "      <td>2015-10-26T21:36:24.767</td>\n",
       "      <td>NaN</td>\n",
       "      <td>en la granja de servidores</td>\n",
       "      <td>&lt;p&gt;Hola, no soy una persona real.&lt;/p&gt;\\n\\n&lt;p&gt;¡S...</td>\n",
       "      <td>251</td>\n",
       "      <td>9652</td>\n",
       "      <td>17781</td>\n",
       "      <td>-1.0</td>\n",
       "      <td>None</td>\n",
       "    </tr>\n",
       "  </tbody>\n",
       "</table>\n",
       "</div>"
      ],
      "text/plain": [
       "   Id  Reputation             CreationDate DisplayName  \\\n",
       "0  -1           1  2015-10-26T21:36:24.767   Comunidad   \n",
       "\n",
       "            LastAccessDate WebsiteUrl                    Location  \\\n",
       "0  2015-10-26T21:36:24.767        NaN  en la granja de servidores   \n",
       "\n",
       "                                             AboutMe  Views  UpVotes  \\\n",
       "0  <p>Hola, no soy una persona real.</p>\\n\\n<p>¡S...    251     9652   \n",
       "\n",
       "   DownVotes  AccountId ProfileImageUrl  \n",
       "0      17781       -1.0            None  "
      ]
     },
     "execution_count": 12,
     "metadata": {},
     "output_type": "execute_result"
    }
   ],
   "source": [
    "users.head(1)"
   ]
  },
  {
   "cell_type": "code",
   "execution_count": 13,
   "id": "01810aa0",
   "metadata": {},
   "outputs": [
    {
     "data": {
      "text/plain": [
       "91715"
      ]
     },
     "execution_count": 13,
     "metadata": {},
     "output_type": "execute_result"
    }
   ],
   "source": [
    "users['Reputation'].max()"
   ]
  },
  {
   "cell_type": "code",
   "execution_count": 14,
   "id": "ab74dd72",
   "metadata": {},
   "outputs": [
    {
     "data": {
      "text/plain": [
       "1"
      ]
     },
     "execution_count": 14,
     "metadata": {},
     "output_type": "execute_result"
    }
   ],
   "source": [
    "users['Reputation'].min()"
   ]
  },
  {
   "cell_type": "code",
   "execution_count": 15,
   "id": "dc694600",
   "metadata": {},
   "outputs": [],
   "source": [
    "df_votes = pd.read_xml(\"./updated_database/votes.xml\")"
   ]
  },
  {
   "cell_type": "code",
   "execution_count": 16,
   "id": "527ace88",
   "metadata": {},
   "outputs": [
    {
     "data": {
      "text/html": [
       "<div>\n",
       "<style scoped>\n",
       "    .dataframe tbody tr th:only-of-type {\n",
       "        vertical-align: middle;\n",
       "    }\n",
       "\n",
       "    .dataframe tbody tr th {\n",
       "        vertical-align: top;\n",
       "    }\n",
       "\n",
       "    .dataframe thead th {\n",
       "        text-align: right;\n",
       "    }\n",
       "</style>\n",
       "<table border=\"1\" class=\"dataframe\">\n",
       "  <thead>\n",
       "    <tr style=\"text-align: right;\">\n",
       "      <th></th>\n",
       "      <th>Id</th>\n",
       "      <th>PostId</th>\n",
       "      <th>VoteTypeId</th>\n",
       "      <th>CreationDate</th>\n",
       "      <th>UserId</th>\n",
       "      <th>BountyAmount</th>\n",
       "    </tr>\n",
       "  </thead>\n",
       "  <tbody>\n",
       "    <tr>\n",
       "      <th>0</th>\n",
       "      <td>1</td>\n",
       "      <td>1</td>\n",
       "      <td>2</td>\n",
       "      <td>2015-10-29T00:00:00.000</td>\n",
       "      <td>NaN</td>\n",
       "      <td>NaN</td>\n",
       "    </tr>\n",
       "  </tbody>\n",
       "</table>\n",
       "</div>"
      ],
      "text/plain": [
       "   Id  PostId  VoteTypeId             CreationDate  UserId  BountyAmount\n",
       "0   1       1           2  2015-10-29T00:00:00.000     NaN           NaN"
      ]
     },
     "execution_count": 16,
     "metadata": {},
     "output_type": "execute_result"
    }
   ],
   "source": [
    "df_votes.head(1)"
   ]
  },
  {
   "cell_type": "code",
   "execution_count": 17,
   "id": "bd5ccb7e",
   "metadata": {},
   "outputs": [
    {
     "data": {
      "text/plain": [
       "(628897, 6)"
      ]
     },
     "execution_count": 17,
     "metadata": {},
     "output_type": "execute_result"
    }
   ],
   "source": [
    "df_votes.shape"
   ]
  },
  {
   "cell_type": "code",
   "execution_count": 18,
   "id": "decf4b4a",
   "metadata": {},
   "outputs": [
    {
     "data": {
      "text/plain": [
       "2     329266\n",
       "3      95881\n",
       "1      62007\n",
       "10     47813\n",
       "16     40618\n",
       "15     24294\n",
       "5      22758\n",
       "11      3832\n",
       "8       1169\n",
       "9       1163\n",
       "4         52\n",
       "12        44\n",
       "Name: VoteTypeId, dtype: int64"
      ]
     },
     "execution_count": 18,
     "metadata": {},
     "output_type": "execute_result"
    }
   ],
   "source": [
    "df_votes['VoteTypeId'].value_counts()"
   ]
  },
  {
   "cell_type": "code",
   "execution_count": 19,
   "id": "5c773baf",
   "metadata": {},
   "outputs": [],
   "source": [
    "accepted = df_votes[df_votes['VoteTypeId']==2]"
   ]
  },
  {
   "cell_type": "code",
   "execution_count": 20,
   "id": "7b77b949",
   "metadata": {},
   "outputs": [
    {
     "data": {
      "text/html": [
       "<div>\n",
       "<style scoped>\n",
       "    .dataframe tbody tr th:only-of-type {\n",
       "        vertical-align: middle;\n",
       "    }\n",
       "\n",
       "    .dataframe tbody tr th {\n",
       "        vertical-align: top;\n",
       "    }\n",
       "\n",
       "    .dataframe thead th {\n",
       "        text-align: right;\n",
       "    }\n",
       "</style>\n",
       "<table border=\"1\" class=\"dataframe\">\n",
       "  <thead>\n",
       "    <tr style=\"text-align: right;\">\n",
       "      <th></th>\n",
       "      <th>Id</th>\n",
       "      <th>PostId</th>\n",
       "      <th>VoteTypeId</th>\n",
       "      <th>CreationDate</th>\n",
       "      <th>UserId</th>\n",
       "      <th>BountyAmount</th>\n",
       "    </tr>\n",
       "  </thead>\n",
       "  <tbody>\n",
       "    <tr>\n",
       "      <th>0</th>\n",
       "      <td>1</td>\n",
       "      <td>1</td>\n",
       "      <td>2</td>\n",
       "      <td>2015-10-29T00:00:00.000</td>\n",
       "      <td>NaN</td>\n",
       "      <td>NaN</td>\n",
       "    </tr>\n",
       "    <tr>\n",
       "      <th>1</th>\n",
       "      <td>2</td>\n",
       "      <td>2</td>\n",
       "      <td>2</td>\n",
       "      <td>2015-10-29T00:00:00.000</td>\n",
       "      <td>NaN</td>\n",
       "      <td>NaN</td>\n",
       "    </tr>\n",
       "  </tbody>\n",
       "</table>\n",
       "</div>"
      ],
      "text/plain": [
       "   Id  PostId  VoteTypeId             CreationDate  UserId  BountyAmount\n",
       "0   1       1           2  2015-10-29T00:00:00.000     NaN           NaN\n",
       "1   2       2           2  2015-10-29T00:00:00.000     NaN           NaN"
      ]
     },
     "execution_count": 20,
     "metadata": {},
     "output_type": "execute_result"
    }
   ],
   "source": [
    "accepted.head(2)"
   ]
  },
  {
   "cell_type": "code",
   "execution_count": null,
   "id": "2f0740ca",
   "metadata": {},
   "outputs": [],
   "source": []
  }
 ],
 "metadata": {
  "kernelspec": {
   "display_name": "Python 3 (ipykernel)",
   "language": "python",
   "name": "python3"
  },
  "language_info": {
   "codemirror_mode": {
    "name": "ipython",
    "version": 3
   },
   "file_extension": ".py",
   "mimetype": "text/x-python",
   "name": "python",
   "nbconvert_exporter": "python",
   "pygments_lexer": "ipython3",
   "version": "3.10.5"
  }
 },
 "nbformat": 4,
 "nbformat_minor": 5
}
