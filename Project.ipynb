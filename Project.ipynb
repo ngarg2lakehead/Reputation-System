{
 "cells": [
  {
   "cell_type": "code",
   "execution_count": 1,
   "id": "648ed4e3",
   "metadata": {},
   "outputs": [],
   "source": [
    "import pandas as pd\n",
    "import numpy as np\n",
    "import matplotlib.pyplot as plt\n",
    "from scipy.optimize import curve_fit"
   ]
  },
  {
   "cell_type": "markdown",
   "id": "daeae44e",
   "metadata": {},
   "source": [
    "# Exploratory analysis of data"
   ]
  },
  {
   "cell_type": "code",
   "execution_count": 2,
   "id": "017e8cb5",
   "metadata": {},
   "outputs": [],
   "source": [
    "data = pd.read_xml(\"./updated_database/posts.xml\")"
   ]
  },
  {
   "cell_type": "code",
   "execution_count": 3,
   "id": "58560418",
   "metadata": {},
   "outputs": [
    {
     "data": {
      "text/plain": [
       "(308300, 22)"
      ]
     },
     "execution_count": 3,
     "metadata": {},
     "output_type": "execute_result"
    }
   ],
   "source": [
    "data.shape"
   ]
  },
  {
   "cell_type": "code",
   "execution_count": 4,
   "id": "453d7756",
   "metadata": {},
   "outputs": [],
   "source": [
    "df_sorted = data.sort_values('CreationDate')"
   ]
  },
  {
   "cell_type": "code",
   "execution_count": 5,
   "id": "fdd7eec9",
   "metadata": {},
   "outputs": [
    {
     "data": {
      "text/html": [
       "<div>\n",
       "<style scoped>\n",
       "    .dataframe tbody tr th:only-of-type {\n",
       "        vertical-align: middle;\n",
       "    }\n",
       "\n",
       "    .dataframe tbody tr th {\n",
       "        vertical-align: top;\n",
       "    }\n",
       "\n",
       "    .dataframe thead th {\n",
       "        text-align: right;\n",
       "    }\n",
       "</style>\n",
       "<table border=\"1\" class=\"dataframe\">\n",
       "  <thead>\n",
       "    <tr style=\"text-align: right;\">\n",
       "      <th></th>\n",
       "      <th>Id</th>\n",
       "      <th>PostTypeId</th>\n",
       "      <th>AcceptedAnswerId</th>\n",
       "      <th>CreationDate</th>\n",
       "      <th>Score</th>\n",
       "      <th>ViewCount</th>\n",
       "      <th>Body</th>\n",
       "      <th>OwnerUserId</th>\n",
       "      <th>LastEditorUserId</th>\n",
       "      <th>LastEditDate</th>\n",
       "      <th>...</th>\n",
       "      <th>Tags</th>\n",
       "      <th>AnswerCount</th>\n",
       "      <th>CommentCount</th>\n",
       "      <th>FavoriteCount</th>\n",
       "      <th>ContentLicense</th>\n",
       "      <th>ParentId</th>\n",
       "      <th>LastEditorDisplayName</th>\n",
       "      <th>OwnerDisplayName</th>\n",
       "      <th>CommunityOwnedDate</th>\n",
       "      <th>ClosedDate</th>\n",
       "    </tr>\n",
       "  </thead>\n",
       "  <tbody>\n",
       "    <tr>\n",
       "      <th>0</th>\n",
       "      <td>1</td>\n",
       "      <td>1</td>\n",
       "      <td>2.0</td>\n",
       "      <td>2015-10-29T15:56:52.933</td>\n",
       "      <td>33</td>\n",
       "      <td>520.0</td>\n",
       "      <td>&lt;p&gt;Estoy creando un servicio usando &lt;em&gt;ASP.NE...</td>\n",
       "      <td>23.0</td>\n",
       "      <td>13558.0</td>\n",
       "      <td>2019-07-07T21:36:17.737</td>\n",
       "      <td>...</td>\n",
       "      <td>&lt;.net&gt;&lt;asp.net-web-api&gt;&lt;asp.net&gt;</td>\n",
       "      <td>1.0</td>\n",
       "      <td>2</td>\n",
       "      <td>4.0</td>\n",
       "      <td>CC BY-SA 4.0</td>\n",
       "      <td>NaN</td>\n",
       "      <td>None</td>\n",
       "      <td>None</td>\n",
       "      <td>None</td>\n",
       "      <td>None</td>\n",
       "    </tr>\n",
       "    <tr>\n",
       "      <th>1</th>\n",
       "      <td>2</td>\n",
       "      <td>2</td>\n",
       "      <td>NaN</td>\n",
       "      <td>2015-10-29T19:14:23.673</td>\n",
       "      <td>26</td>\n",
       "      <td>NaN</td>\n",
       "      <td>&lt;p&gt;He encontrado la solución.&lt;/p&gt;\\n\\n&lt;p&gt;Result...</td>\n",
       "      <td>23.0</td>\n",
       "      <td>NaN</td>\n",
       "      <td>None</td>\n",
       "      <td>...</td>\n",
       "      <td>None</td>\n",
       "      <td>NaN</td>\n",
       "      <td>2</td>\n",
       "      <td>NaN</td>\n",
       "      <td>CC BY-SA 3.0</td>\n",
       "      <td>1.0</td>\n",
       "      <td>None</td>\n",
       "      <td>None</td>\n",
       "      <td>None</td>\n",
       "      <td>None</td>\n",
       "    </tr>\n",
       "  </tbody>\n",
       "</table>\n",
       "<p>2 rows × 22 columns</p>\n",
       "</div>"
      ],
      "text/plain": [
       "   Id  PostTypeId  AcceptedAnswerId             CreationDate  Score  \\\n",
       "0   1           1               2.0  2015-10-29T15:56:52.933     33   \n",
       "1   2           2               NaN  2015-10-29T19:14:23.673     26   \n",
       "\n",
       "   ViewCount                                               Body  OwnerUserId  \\\n",
       "0      520.0  <p>Estoy creando un servicio usando <em>ASP.NE...         23.0   \n",
       "1        NaN  <p>He encontrado la solución.</p>\\n\\n<p>Result...         23.0   \n",
       "\n",
       "   LastEditorUserId             LastEditDate  ...  \\\n",
       "0           13558.0  2019-07-07T21:36:17.737  ...   \n",
       "1               NaN                     None  ...   \n",
       "\n",
       "                               Tags AnswerCount CommentCount  FavoriteCount  \\\n",
       "0  <.net><asp.net-web-api><asp.net>         1.0            2            4.0   \n",
       "1                              None         NaN            2            NaN   \n",
       "\n",
       "   ContentLicense  ParentId LastEditorDisplayName  OwnerDisplayName  \\\n",
       "0    CC BY-SA 4.0       NaN                  None              None   \n",
       "1    CC BY-SA 3.0       1.0                  None              None   \n",
       "\n",
       "  CommunityOwnedDate ClosedDate  \n",
       "0               None       None  \n",
       "1               None       None  \n",
       "\n",
       "[2 rows x 22 columns]"
      ]
     },
     "execution_count": 5,
     "metadata": {},
     "output_type": "execute_result"
    }
   ],
   "source": [
    "df_sorted.head(2)"
   ]
  },
  {
   "cell_type": "code",
   "execution_count": 6,
   "id": "677055b9",
   "metadata": {},
   "outputs": [
    {
     "data": {
      "text/html": [
       "<div>\n",
       "<style scoped>\n",
       "    .dataframe tbody tr th:only-of-type {\n",
       "        vertical-align: middle;\n",
       "    }\n",
       "\n",
       "    .dataframe tbody tr th {\n",
       "        vertical-align: top;\n",
       "    }\n",
       "\n",
       "    .dataframe thead th {\n",
       "        text-align: right;\n",
       "    }\n",
       "</style>\n",
       "<table border=\"1\" class=\"dataframe\">\n",
       "  <thead>\n",
       "    <tr style=\"text-align: right;\">\n",
       "      <th></th>\n",
       "      <th>Id</th>\n",
       "      <th>PostTypeId</th>\n",
       "      <th>AcceptedAnswerId</th>\n",
       "      <th>CreationDate</th>\n",
       "      <th>Score</th>\n",
       "      <th>ViewCount</th>\n",
       "      <th>Body</th>\n",
       "      <th>OwnerUserId</th>\n",
       "      <th>LastEditorUserId</th>\n",
       "      <th>LastEditDate</th>\n",
       "      <th>...</th>\n",
       "      <th>Tags</th>\n",
       "      <th>AnswerCount</th>\n",
       "      <th>CommentCount</th>\n",
       "      <th>FavoriteCount</th>\n",
       "      <th>ContentLicense</th>\n",
       "      <th>ParentId</th>\n",
       "      <th>LastEditorDisplayName</th>\n",
       "      <th>OwnerDisplayName</th>\n",
       "      <th>CommunityOwnedDate</th>\n",
       "      <th>ClosedDate</th>\n",
       "    </tr>\n",
       "  </thead>\n",
       "  <tbody>\n",
       "    <tr>\n",
       "      <th>308298</th>\n",
       "      <td>431641</td>\n",
       "      <td>1</td>\n",
       "      <td>NaN</td>\n",
       "      <td>2021-02-28T02:33:33.357</td>\n",
       "      <td>0</td>\n",
       "      <td>2.0</td>\n",
       "      <td>&lt;p&gt;Estoy tratando de crear un script en powers...</td>\n",
       "      <td>144334.0</td>\n",
       "      <td>NaN</td>\n",
       "      <td>None</td>\n",
       "      <td>...</td>\n",
       "      <td>&lt;script&gt;&lt;email&gt;&lt;powershell&gt;&lt;codificación&gt;&lt;outl...</td>\n",
       "      <td>0.0</td>\n",
       "      <td>0</td>\n",
       "      <td>NaN</td>\n",
       "      <td>CC BY-SA 4.0</td>\n",
       "      <td>NaN</td>\n",
       "      <td>None</td>\n",
       "      <td>None</td>\n",
       "      <td>None</td>\n",
       "      <td>None</td>\n",
       "    </tr>\n",
       "    <tr>\n",
       "      <th>308299</th>\n",
       "      <td>431642</td>\n",
       "      <td>1</td>\n",
       "      <td>NaN</td>\n",
       "      <td>2021-02-28T02:50:40.080</td>\n",
       "      <td>0</td>\n",
       "      <td>3.0</td>\n",
       "      <td>&lt;p&gt;Estoy  realizando un tabla maestro detalle ...</td>\n",
       "      <td>207109.0</td>\n",
       "      <td>NaN</td>\n",
       "      <td>None</td>\n",
       "      <td>...</td>\n",
       "      <td>&lt;sql-server&gt;&lt;stored-procedure&gt;</td>\n",
       "      <td>0.0</td>\n",
       "      <td>0</td>\n",
       "      <td>NaN</td>\n",
       "      <td>CC BY-SA 4.0</td>\n",
       "      <td>NaN</td>\n",
       "      <td>None</td>\n",
       "      <td>None</td>\n",
       "      <td>None</td>\n",
       "      <td>None</td>\n",
       "    </tr>\n",
       "  </tbody>\n",
       "</table>\n",
       "<p>2 rows × 22 columns</p>\n",
       "</div>"
      ],
      "text/plain": [
       "            Id  PostTypeId  AcceptedAnswerId             CreationDate  Score  \\\n",
       "308298  431641           1               NaN  2021-02-28T02:33:33.357      0   \n",
       "308299  431642           1               NaN  2021-02-28T02:50:40.080      0   \n",
       "\n",
       "        ViewCount                                               Body  \\\n",
       "308298        2.0  <p>Estoy tratando de crear un script en powers...   \n",
       "308299        3.0  <p>Estoy  realizando un tabla maestro detalle ...   \n",
       "\n",
       "        OwnerUserId  LastEditorUserId LastEditDate  ...  \\\n",
       "308298     144334.0               NaN         None  ...   \n",
       "308299     207109.0               NaN         None  ...   \n",
       "\n",
       "                                                     Tags AnswerCount  \\\n",
       "308298  <script><email><powershell><codificación><outl...         0.0   \n",
       "308299                     <sql-server><stored-procedure>         0.0   \n",
       "\n",
       "       CommentCount  FavoriteCount  ContentLicense  ParentId  \\\n",
       "308298            0            NaN    CC BY-SA 4.0       NaN   \n",
       "308299            0            NaN    CC BY-SA 4.0       NaN   \n",
       "\n",
       "       LastEditorDisplayName  OwnerDisplayName CommunityOwnedDate ClosedDate  \n",
       "308298                  None              None               None       None  \n",
       "308299                  None              None               None       None  \n",
       "\n",
       "[2 rows x 22 columns]"
      ]
     },
     "execution_count": 6,
     "metadata": {},
     "output_type": "execute_result"
    }
   ],
   "source": [
    "df_sorted.tail(2)"
   ]
  },
  {
   "cell_type": "code",
   "execution_count": 7,
   "id": "37f7e64c",
   "metadata": {},
   "outputs": [],
   "source": [
    "questions = data[data['PostTypeId']==1]"
   ]
  },
  {
   "cell_type": "code",
   "execution_count": 8,
   "id": "8106f2dc",
   "metadata": {},
   "outputs": [
    {
     "data": {
      "text/plain": [
       "145623"
      ]
     },
     "execution_count": 8,
     "metadata": {},
     "output_type": "execute_result"
    }
   ],
   "source": [
    "len(questions)"
   ]
  },
  {
   "cell_type": "code",
   "execution_count": 9,
   "id": "8548ad29",
   "metadata": {},
   "outputs": [
    {
     "data": {
      "text/plain": [
       "2    159308\n",
       "1    145623\n",
       "5      1672\n",
       "4      1672\n",
       "6        23\n",
       "7         2\n",
       "Name: PostTypeId, dtype: int64"
      ]
     },
     "execution_count": 9,
     "metadata": {},
     "output_type": "execute_result"
    }
   ],
   "source": [
    "data['PostTypeId'].value_counts()"
   ]
  },
  {
   "cell_type": "code",
   "execution_count": null,
   "id": "cacbcb50",
   "metadata": {},
   "outputs": [],
   "source": [
    "df_votes = pd.read_xml(\"./updated_database/votes.xml\")"
   ]
  },
  {
   "cell_type": "code",
   "execution_count": null,
   "id": "e9b0572c",
   "metadata": {},
   "outputs": [],
   "source": [
    "df_votes.head(1)"
   ]
  },
  {
   "cell_type": "code",
   "execution_count": null,
   "id": "fc6432eb",
   "metadata": {},
   "outputs": [],
   "source": [
    "df_votes.shape"
   ]
  },
  {
   "cell_type": "code",
   "execution_count": null,
   "id": "adc14dd3",
   "metadata": {},
   "outputs": [],
   "source": [
    "df_votes['VoteTypeId'].value_counts()"
   ]
  },
  {
   "cell_type": "code",
   "execution_count": null,
   "id": "0a24ee80",
   "metadata": {},
   "outputs": [],
   "source": [
    "accepted = df_votes[df_votes['VoteTypeId']==2]"
   ]
  },
  {
   "cell_type": "code",
   "execution_count": null,
   "id": "e32526dc",
   "metadata": {},
   "outputs": [],
   "source": [
    "accepted.head(2)"
   ]
  },
  {
   "cell_type": "markdown",
   "id": "3dbbf7a6",
   "metadata": {},
   "source": [
    "# Analysis of user's reputation over the years"
   ]
  },
  {
   "cell_type": "code",
   "execution_count": 9,
   "id": "f277cd21",
   "metadata": {},
   "outputs": [],
   "source": [
    "df_users = pd.read_xml(\"./updated_database/users.xml\")"
   ]
  },
  {
   "cell_type": "code",
   "execution_count": 10,
   "id": "33e51162",
   "metadata": {},
   "outputs": [
    {
     "data": {
      "text/plain": [
       "197836"
      ]
     },
     "execution_count": 10,
     "metadata": {},
     "output_type": "execute_result"
    }
   ],
   "source": [
    "len(df_users)"
   ]
  },
  {
   "cell_type": "code",
   "execution_count": 11,
   "id": "f2bef49b",
   "metadata": {},
   "outputs": [
    {
     "data": {
      "text/html": [
       "<div>\n",
       "<style scoped>\n",
       "    .dataframe tbody tr th:only-of-type {\n",
       "        vertical-align: middle;\n",
       "    }\n",
       "\n",
       "    .dataframe tbody tr th {\n",
       "        vertical-align: top;\n",
       "    }\n",
       "\n",
       "    .dataframe thead th {\n",
       "        text-align: right;\n",
       "    }\n",
       "</style>\n",
       "<table border=\"1\" class=\"dataframe\">\n",
       "  <thead>\n",
       "    <tr style=\"text-align: right;\">\n",
       "      <th></th>\n",
       "      <th>Id</th>\n",
       "      <th>Reputation</th>\n",
       "      <th>CreationDate</th>\n",
       "      <th>DisplayName</th>\n",
       "      <th>LastAccessDate</th>\n",
       "      <th>WebsiteUrl</th>\n",
       "      <th>Location</th>\n",
       "      <th>AboutMe</th>\n",
       "      <th>Views</th>\n",
       "      <th>UpVotes</th>\n",
       "      <th>DownVotes</th>\n",
       "      <th>AccountId</th>\n",
       "      <th>ProfileImageUrl</th>\n",
       "    </tr>\n",
       "  </thead>\n",
       "  <tbody>\n",
       "    <tr>\n",
       "      <th>0</th>\n",
       "      <td>-1</td>\n",
       "      <td>1</td>\n",
       "      <td>2015-10-26T21:36:24.767</td>\n",
       "      <td>Comunidad</td>\n",
       "      <td>2015-10-26T21:36:24.767</td>\n",
       "      <td>NaN</td>\n",
       "      <td>en la granja de servidores</td>\n",
       "      <td>&lt;p&gt;Hola, no soy una persona real.&lt;/p&gt;\\n\\n&lt;p&gt;¡S...</td>\n",
       "      <td>251</td>\n",
       "      <td>9652</td>\n",
       "      <td>17781</td>\n",
       "      <td>-1.0</td>\n",
       "      <td>None</td>\n",
       "    </tr>\n",
       "  </tbody>\n",
       "</table>\n",
       "</div>"
      ],
      "text/plain": [
       "   Id  Reputation             CreationDate DisplayName  \\\n",
       "0  -1           1  2015-10-26T21:36:24.767   Comunidad   \n",
       "\n",
       "            LastAccessDate WebsiteUrl                    Location  \\\n",
       "0  2015-10-26T21:36:24.767        NaN  en la granja de servidores   \n",
       "\n",
       "                                             AboutMe  Views  UpVotes  \\\n",
       "0  <p>Hola, no soy una persona real.</p>\\n\\n<p>¡S...    251     9652   \n",
       "\n",
       "   DownVotes  AccountId ProfileImageUrl  \n",
       "0      17781       -1.0            None  "
      ]
     },
     "execution_count": 11,
     "metadata": {},
     "output_type": "execute_result"
    }
   ],
   "source": [
    "df_users.head(1)"
   ]
  },
  {
   "cell_type": "code",
   "execution_count": 12,
   "id": "01810aa0",
   "metadata": {},
   "outputs": [
    {
     "data": {
      "text/plain": [
       "91715"
      ]
     },
     "execution_count": 12,
     "metadata": {},
     "output_type": "execute_result"
    }
   ],
   "source": [
    "df_users['Reputation'].max()"
   ]
  },
  {
   "cell_type": "code",
   "execution_count": 45,
   "id": "26462880",
   "metadata": {},
   "outputs": [
    {
     "name": "stdout",
     "output_type": "stream",
     "text": [
      "Id                                                                95\n",
      "Reputation                                                     91715\n",
      "CreationDate                                 2015-12-01T16:53:09.890\n",
      "DisplayName                                                 Jorgesys\n",
      "LastAccessDate                               2021-02-27T23:14:52.843\n",
      "WebsiteUrl                                 http://www.cplusplus.com/\n",
      "Location                   Mexico City, CDMX, Mexico / Iași, Romania\n",
      "AboutMe            <p><a href=\"/questions/tagged/java\" class=\"pos...\n",
      "Views                                                          13489\n",
      "UpVotes                                                         8162\n",
      "DownVotes                                                       2276\n",
      "AccountId                                                    91056.0\n",
      "ProfileImageUrl                                                 None\n",
      "Year                                                            2015\n",
      "Name: 86, dtype: object\n"
     ]
    }
   ],
   "source": [
    "highest_reputation_index = df_users['Reputation'].idxmax()\n",
    "highest_reputation_person = df_users.loc[highest_reputation_index]\n",
    "print(highest_reputation_person)"
   ]
  },
  {
   "cell_type": "code",
   "execution_count": 13,
   "id": "ab74dd72",
   "metadata": {},
   "outputs": [
    {
     "data": {
      "text/plain": [
       "1"
      ]
     },
     "execution_count": 13,
     "metadata": {},
     "output_type": "execute_result"
    }
   ],
   "source": [
    "df_users['Reputation'].min()"
   ]
  },
  {
   "cell_type": "code",
   "execution_count": 8,
   "id": "548bb691",
   "metadata": {},
   "outputs": [
    {
     "data": {
      "image/png": "[encoded data removed]",
      "text/plain": [
       "<Figure size 432x288 with 1 Axes>"
      ]
     },
     "metadata": {
      "needs_background": "light"
     },
     "output_type": "display_data"
    }
   ],
   "source": [
    "x = np.array([1, 2, 3, 4, 5, 6, 7, 8, 9, 10])\n",
    "y = np.array([2, 4, 6, 8, 10, 12, 14, 16, 18, 20])\n",
    "\n",
    "# Define the log-logistic function\n",
    "def log_logistic(x, a, b):\n",
    "    return (a * x ** b) / (1 + x ** b)\n",
    "\n",
    "# Fit the curve to the data using the curve_fit function\n",
    "params, cov = curve_fit(log_logistic, x, y)\n",
    "\n",
    "# Generate a new set of x-values to plot the curve\n",
    "x_fit = np.linspace(1, 10, 10)\n",
    "\n",
    "# Calculate the y-values for the curve using the fitted parameters\n",
    "y_fit = log_logistic(x_fit, params[0], params[1])\n",
    "\n",
    "# print(\"x length is\",len(x))\n",
    "# print(\"x length is\",len(y))\n",
    "# print(\"x length is\",len(y_fit))\n",
    "# Create a Pandas DataFrame with the original data and the fitted curve\n",
    "df = pd.DataFrame({'x': x, 'y': y, 'y_fit': y_fit})\n",
    "\n",
    "# Plot the data and the fitted curve using Matplotlib\n",
    "plt.plot(df['x'], df['y'], 'o', label='Data')\n",
    "plt.plot(df['x'], df['y_fit'], '-', label='Log-logistic fit')\n",
    "plt.legend()\n",
    "plt.show()"
   ]
  },
  {
   "cell_type": "code",
   "execution_count": 76,
   "id": "51d6c8f1",
   "metadata": {},
   "outputs": [],
   "source": [
    "df_users['Year'] = pd.to_datetime(df_users['CreationDate']).dt.year\n",
    "df_users['Month'] = pd.to_datetime(df_users['CreationDate']).dt.month"
   ]
  },
  {
   "cell_type": "code",
   "execution_count": 77,
   "id": "1107963d",
   "metadata": {},
   "outputs": [
    {
     "data": {
      "text/html": [
       "<div>\n",
       "<style scoped>\n",
       "    .dataframe tbody tr th:only-of-type {\n",
       "        vertical-align: middle;\n",
       "    }\n",
       "\n",
       "    .dataframe tbody tr th {\n",
       "        vertical-align: top;\n",
       "    }\n",
       "\n",
       "    .dataframe thead th {\n",
       "        text-align: right;\n",
       "    }\n",
       "</style>\n",
       "<table border=\"1\" class=\"dataframe\">\n",
       "  <thead>\n",
       "    <tr style=\"text-align: right;\">\n",
       "      <th></th>\n",
       "      <th>Id</th>\n",
       "      <th>Reputation</th>\n",
       "      <th>CreationDate</th>\n",
       "      <th>DisplayName</th>\n",
       "      <th>LastAccessDate</th>\n",
       "      <th>WebsiteUrl</th>\n",
       "      <th>Location</th>\n",
       "      <th>AboutMe</th>\n",
       "      <th>Views</th>\n",
       "      <th>UpVotes</th>\n",
       "      <th>DownVotes</th>\n",
       "      <th>AccountId</th>\n",
       "      <th>ProfileImageUrl</th>\n",
       "      <th>Year</th>\n",
       "      <th>Month</th>\n",
       "    </tr>\n",
       "  </thead>\n",
       "  <tbody>\n",
       "    <tr>\n",
       "      <th>0</th>\n",
       "      <td>-1</td>\n",
       "      <td>1</td>\n",
       "      <td>2015-10-26T21:36:24.767</td>\n",
       "      <td>Comunidad</td>\n",
       "      <td>2015-10-26T21:36:24.767</td>\n",
       "      <td>NaN</td>\n",
       "      <td>en la granja de servidores</td>\n",
       "      <td>&lt;p&gt;Hola, no soy una persona real.&lt;/p&gt;\\n\\n&lt;p&gt;¡S...</td>\n",
       "      <td>251</td>\n",
       "      <td>9652</td>\n",
       "      <td>17781</td>\n",
       "      <td>-1.0</td>\n",
       "      <td>None</td>\n",
       "      <td>2015</td>\n",
       "      <td>10</td>\n",
       "    </tr>\n",
       "    <tr>\n",
       "      <th>1</th>\n",
       "      <td>1</td>\n",
       "      <td>101</td>\n",
       "      <td>2015-10-26T22:50:12.710</td>\n",
       "      <td>Geoff Dalgas</td>\n",
       "      <td>2021-01-05T19:45:26.807</td>\n",
       "      <td>http://stackoverflow.com</td>\n",
       "      <td>Corvallis, OR</td>\n",
       "      <td>&lt;p&gt;Dev #2 who helped create Stack Overflow cur...</td>\n",
       "      <td>2883</td>\n",
       "      <td>0</td>\n",
       "      <td>0</td>\n",
       "      <td>2.0</td>\n",
       "      <td>https://i.stack.imgur.com/nDllk.png?s=128&amp;g=1</td>\n",
       "      <td>2015</td>\n",
       "      <td>10</td>\n",
       "    </tr>\n",
       "  </tbody>\n",
       "</table>\n",
       "</div>"
      ],
      "text/plain": [
       "   Id  Reputation             CreationDate   DisplayName  \\\n",
       "0  -1           1  2015-10-26T21:36:24.767     Comunidad   \n",
       "1   1         101  2015-10-26T22:50:12.710  Geoff Dalgas   \n",
       "\n",
       "            LastAccessDate                WebsiteUrl  \\\n",
       "0  2015-10-26T21:36:24.767                       NaN   \n",
       "1  2021-01-05T19:45:26.807  http://stackoverflow.com   \n",
       "\n",
       "                     Location  \\\n",
       "0  en la granja de servidores   \n",
       "1               Corvallis, OR   \n",
       "\n",
       "                                             AboutMe  Views  UpVotes  \\\n",
       "0  <p>Hola, no soy una persona real.</p>\\n\\n<p>¡S...    251     9652   \n",
       "1  <p>Dev #2 who helped create Stack Overflow cur...   2883        0   \n",
       "\n",
       "   DownVotes  AccountId                                ProfileImageUrl  Year  \\\n",
       "0      17781       -1.0                                           None  2015   \n",
       "1          0        2.0  https://i.stack.imgur.com/nDllk.png?s=128&g=1  2015   \n",
       "\n",
       "   Month  \n",
       "0     10  \n",
       "1     10  "
      ]
     },
     "execution_count": 77,
     "metadata": {},
     "output_type": "execute_result"
    }
   ],
   "source": [
    "df_users.head(2)"
   ]
  },
  {
   "cell_type": "code",
   "execution_count": 21,
   "id": "f96cf5c0",
   "metadata": {},
   "outputs": [],
   "source": [
    "yearly_reputation = df_users.groupby('Year')['Reputation'].sum()"
   ]
  },
  {
   "cell_type": "code",
   "execution_count": 22,
   "id": "05e2a478",
   "metadata": {},
   "outputs": [
    {
     "data": {
      "text/plain": [
       "Year\n",
       "2015     709408\n",
       "2016    1659920\n",
       "2017    1197281\n",
       "2018     804617\n",
       "2019     542802\n",
       "2020     378907\n",
       "2021      29855\n",
       "Name: Reputation, dtype: int64"
      ]
     },
     "execution_count": 22,
     "metadata": {},
     "output_type": "execute_result"
    }
   ],
   "source": [
    "yearly_reputation"
   ]
  },
  {
   "cell_type": "code",
   "execution_count": 80,
   "id": "4f6b38e5",
   "metadata": {},
   "outputs": [],
   "source": [
    "df_users_2015 = df_users[df_users['Year']==2015]\n",
    "df_users_2016 = df_users[df_users['Year']==2016]\n",
    "df_users_2017 = df_users[df_users['Year']==2017]\n",
    "df_users_2018 = df_users[df_users['Year']==2018]\n",
    "df_users_2019 = df_users[df_users['Year']==2019]\n",
    "df_users_2020 = df_users[df_users['Year']==2020]\n",
    "df_users_2021 = df_users[df_users['Year']==2021]"
   ]
  },
  {
   "cell_type": "code",
   "execution_count": 87,
   "id": "3a3a4f6f",
   "metadata": {},
   "outputs": [
    {
     "data": {
      "image/png": "[encoded data removed]",
      "text/plain": [
       "<Figure size 432x288 with 1 Axes>"
      ]
     },
     "metadata": {
      "needs_background": "light"
     },
     "output_type": "display_data"
    }
   ],
   "source": [
    "x = np.array(df_users_2015['Reputation'])\n",
    "y = np.array(len(df_users_2015))\n",
    "\n",
    "\n",
    "# Create a Pandas DataFrame with the original data and the fitted curve\n",
    "df = pd.DataFrame({'x': x, 'y': y})\n",
    "\n",
    "# Plot the data and the fitted curve using Matplotlib\n",
    "plt.plot(df['x'], df['y'], 'o', label='Data(2015)')\n",
    "\n",
    "# set x and y labels\n",
    "plt.xlabel('log(Reputation)')\n",
    "plt.ylabel('log(No of users)')\n",
    "\n",
    "plt.yscale('log')\n",
    "plt.xscale('log')\n",
    "\n",
    "plt.legend()\n",
    "plt.show()"
   ]
  },
  {
   "cell_type": "code",
   "execution_count": 86,
   "id": "2636b1da",
   "metadata": {},
   "outputs": [
    {
     "data": {
      "image/png": "[encoded data removed]",
      "text/plain": [
       "<Figure size 432x288 with 1 Axes>"
      ]
     },
     "metadata": {
      "needs_background": "light"
     },
     "output_type": "display_data"
    }
   ],
   "source": [
    "df_users_2015_10 = df_users_2015[df_users_2015['Month']==10]\n",
    "x = np.array(df_users_2015_10['Reputation'])\n",
    "y = np.array(len(df_users_2015_10))\n",
    "\n",
    "\n",
    "# Create a Pandas DataFrame with the original data and the fitted curve\n",
    "df = pd.DataFrame({'x': x, 'y': y})\n",
    "\n",
    "# Plot the data and the fitted curve using Matplotlib\n",
    "plt.plot(df['x'], df['y'], 'o', label='Data(Aug 2015)')\n",
    "\n",
    "# set x and y labels\n",
    "plt.xlabel('log(Reputation)')\n",
    "plt.ylabel('log(No of users)')\n",
    "\n",
    "plt.yscale('log')\n",
    "plt.xscale('log')\n",
    "\n",
    "plt.legend()\n",
    "plt.show()"
   ]
  },
  {
   "cell_type": "code",
   "execution_count": 88,
   "id": "33f453a2",
   "metadata": {},
   "outputs": [
    {
     "data": {
      "image/png": "[encoded data removed]",
      "text/plain": [
       "<Figure size 432x288 with 1 Axes>"
      ]
     },
     "metadata": {
      "needs_background": "light"
     },
     "output_type": "display_data"
    }
   ],
   "source": [
    "x = np.array(df_users_2016['Reputation'])\n",
    "y = np.array(len(df_users_2016))\n",
    "\n",
    "\n",
    "# Create a Pandas DataFrame with the original data and the fitted curve\n",
    "df = pd.DataFrame({'x': x, 'y': y})\n",
    "\n",
    "# Plot the data and the fitted curve using Matplotlib\n",
    "plt.plot(df['x'], df['y'], 'o', label='Data(2016)')\n",
    "# set x and y labels\n",
    "plt.xlabel('log(Reputation)')\n",
    "plt.ylabel('log(No of users)')\n",
    "\n",
    "plt.yscale('log')\n",
    "plt.xscale('log')\n",
    "plt.legend()\n",
    "plt.show()"
   ]
  },
  {
   "cell_type": "code",
   "execution_count": 89,
   "id": "22a8235b",
   "metadata": {},
   "outputs": [
    {
     "data": {
      "image/png": "[encoded data removed]",
      "text/plain": [
       "<Figure size 432x288 with 1 Axes>"
      ]
     },
     "metadata": {
      "needs_background": "light"
     },
     "output_type": "display_data"
    }
   ],
   "source": [
    "df_users_2016_10 = df_users_2016[df_users_2016['Month']==10]\n",
    "x = np.array(df_users_2016_10['Reputation'])\n",
    "y = np.array(len(df_users_2016_10))\n",
    "\n",
    "\n",
    "# Create a Pandas DataFrame with the original data and the fitted curve\n",
    "df = pd.DataFrame({'x': x, 'y': y})\n",
    "\n",
    "# Plot the data and the fitted curve using Matplotlib\n",
    "plt.plot(df['x'], df['y'], 'o', label='Data(Aug 2016)')\n",
    "\n",
    "# set x and y labels\n",
    "plt.xlabel('log(Reputation)')\n",
    "plt.ylabel('log(No of users)')\n",
    "\n",
    "plt.yscale('log')\n",
    "plt.xscale('log')\n",
    "\n",
    "plt.legend()\n",
    "plt.show()"
   ]
  },
  {
   "cell_type": "code",
   "execution_count": 90,
   "id": "768ae1b4",
   "metadata": {},
   "outputs": [
    {
     "data": {
      "image/png": "[encoded data removed]",
      "text/plain": [
       "<Figure size 432x288 with 1 Axes>"
      ]
     },
     "metadata": {
      "needs_background": "light"
     },
     "output_type": "display_data"
    }
   ],
   "source": [
    "x = np.array(df_users_2017['Reputation'])\n",
    "y = np.array(len(df_users_2017))\n",
    "\n",
    "\n",
    "# Create a Pandas DataFrame with the original data and the fitted curve\n",
    "df = pd.DataFrame({'x': x, 'y': y})\n",
    "\n",
    "# Plot the data and the fitted curve using Matplotlib\n",
    "plt.plot(df['x'], df['y'], 'o', label='Data(2017)')\n",
    "# set x and y labels\n",
    "plt.xlabel('log(Reputation)')\n",
    "plt.ylabel('log(No of users)')\n",
    "\n",
    "plt.yscale('log')\n",
    "plt.xscale('log')\n",
    "plt.legend()\n",
    "plt.show()"
   ]
  },
  {
   "cell_type": "code",
   "execution_count": 92,
   "id": "478f25c6",
   "metadata": {},
   "outputs": [
    {
     "data": {
      "image/png": "[encoded data removed]",
      "text/plain": [
       "<Figure size 432x288 with 1 Axes>"
      ]
     },
     "metadata": {
      "needs_background": "light"
     },
     "output_type": "display_data"
    }
   ],
   "source": [
    "df_users_2017_10 = df_users_2017[df_users_2017['Month']==10]\n",
    "x = np.array(df_users_2017_10['Reputation'])\n",
    "y = np.array(len(df_users_2017_10))\n",
    "\n",
    "\n",
    "# Create a Pandas DataFrame with the original data and the fitted curve\n",
    "df = pd.DataFrame({'x': x, 'y': y})\n",
    "\n",
    "# Plot the data and the fitted curve using Matplotlib\n",
    "plt.plot(df['x'], df['y'], 'o', label='Data(Aug 2017)')\n",
    "\n",
    "# set x and y labels\n",
    "plt.xlabel('log(Reputation)')\n",
    "plt.ylabel('log(No of users)')\n",
    "\n",
    "plt.yscale('log')\n",
    "plt.xscale('log')\n",
    "\n",
    "plt.legend()\n",
    "plt.show()"
   ]
  },
  {
   "cell_type": "code",
   "execution_count": 93,
   "id": "e595b287",
   "metadata": {},
   "outputs": [
    {
     "data": {
      "image/png": "[encoded data removed]",
      "text/plain": [
       "<Figure size 432x288 with 1 Axes>"
      ]
     },
     "metadata": {
      "needs_background": "light"
     },
     "output_type": "display_data"
    }
   ],
   "source": [
    "x = np.array(df_users_2018['Reputation'])\n",
    "y = np.array(len(df_users_2018))\n",
    "\n",
    "\n",
    "# Create a Pandas DataFrame with the original data and the fitted curve\n",
    "df = pd.DataFrame({'x': x, 'y': y})\n",
    "\n",
    "# Plot the data and the fitted curve using Matplotlib\n",
    "plt.plot(df['x'], df['y'], 'o', label='Data(2018)')\n",
    "# set x and y labels\n",
    "plt.xlabel('log(Reputation)')\n",
    "plt.ylabel('log(No of users)')\n",
    "\n",
    "plt.yscale('log')\n",
    "plt.xscale('log')\n",
    "plt.legend()\n",
    "plt.show()"
   ]
  },
  {
   "cell_type": "code",
   "execution_count": 95,
   "id": "45369737",
   "metadata": {},
   "outputs": [
    {
     "data": {
      "image/png": "[encoded data removed]",
      "text/plain": [
       "<Figure size 432x288 with 1 Axes>"
      ]
     },
     "metadata": {
      "needs_background": "light"
     },
     "output_type": "display_data"
    }
   ],
   "source": [
    "df_users_2018_10 = df_users_2018[df_users_2018['Month']==10]\n",
    "x = np.array(df_users_2018_10['Reputation'])\n",
    "y = np.array(len(df_users_2018_10))\n",
    "\n",
    "\n",
    "# Create a Pandas DataFrame with the original data and the fitted curve\n",
    "df = pd.DataFrame({'x': x, 'y': y})\n",
    "\n",
    "# Plot the data and the fitted curve using Matplotlib\n",
    "plt.plot(df['x'], df['y'], 'o', label='Data(Aug 2018)')\n",
    "# set x and y labels\n",
    "plt.xlabel('log(Reputation)')\n",
    "plt.ylabel('log(No of users)')\n",
    "\n",
    "plt.yscale('log')\n",
    "plt.xscale('log')\n",
    "plt.legend()\n",
    "plt.show()"
   ]
  },
  {
   "cell_type": "code",
   "execution_count": 73,
   "id": "e692a88d",
   "metadata": {},
   "outputs": [
    {
     "data": {
      "image/png": "[encoded data removed]",
      "text/plain": [
       "<Figure size 432x288 with 1 Axes>"
      ]
     },
     "metadata": {
      "needs_background": "light"
     },
     "output_type": "display_data"
    }
   ],
   "source": [
    "x = np.array(df_users_2019['Reputation'])\n",
    "y = np.array(len(df_users_2019))\n",
    "\n",
    "\n",
    "# Create a Pandas DataFrame with the original data and the fitted curve\n",
    "df = pd.DataFrame({'x': x, 'y': y})\n",
    "\n",
    "# Plot the data and the fitted curve using Matplotlib\n",
    "plt.plot(df['x'], df['y'], 'o', label='Data(2019)')\n",
    "# set x and y labels\n",
    "plt.xlabel('log(Reputation)')\n",
    "plt.ylabel('log(No of users)')\n",
    "\n",
    "plt.yscale('log')\n",
    "plt.xscale('log')\n",
    "plt.legend()\n",
    "plt.show()"
   ]
  },
  {
   "cell_type": "code",
   "execution_count": 96,
   "id": "413148df",
   "metadata": {},
   "outputs": [
    {
     "data": {
      "image/png": "[encoded data removed]",
      "text/plain": [
       "<Figure size 432x288 with 1 Axes>"
      ]
     },
     "metadata": {
      "needs_background": "light"
     },
     "output_type": "display_data"
    }
   ],
   "source": [
    "df_users_2019_10 = df_users_2019[df_users_2019['Month']==10]\n",
    "x = np.array(df_users_2019_10['Reputation'])\n",
    "y = np.array(len(df_users_2019_10))\n",
    "\n",
    "\n",
    "# Create a Pandas DataFrame with the original data and the fitted curve\n",
    "df = pd.DataFrame({'x': x, 'y': y})\n",
    "\n",
    "# Plot the data and the fitted curve using Matplotlib\n",
    "plt.plot(df['x'], df['y'], 'o', label='Data(Aug 2019)')\n",
    "# set x and y labels\n",
    "plt.xlabel('log(Reputation)')\n",
    "plt.ylabel('log(No of users)')\n",
    "\n",
    "plt.yscale('log')\n",
    "plt.xscale('log')\n",
    "plt.legend()\n",
    "plt.show()"
   ]
  },
  {
   "cell_type": "code",
   "execution_count": 74,
   "id": "11d1ee1c",
   "metadata": {},
   "outputs": [
    {
     "data": {
      "image/png": "[encoded data removed]",
      "text/plain": [
       "<Figure size 432x288 with 1 Axes>"
      ]
     },
     "metadata": {
      "needs_background": "light"
     },
     "output_type": "display_data"
    }
   ],
   "source": [
    "x = np.array(df_users_2020['Reputation'])\n",
    "y = np.array(len(df_users_2020))\n",
    "\n",
    "\n",
    "# Create a Pandas DataFrame with the original data and the fitted curve\n",
    "df = pd.DataFrame({'x': x, 'y': y})\n",
    "\n",
    "# Plot the data and the fitted curve using Matplotlib\n",
    "plt.plot(df['x'], df['y'], 'o', label='Data')\n",
    "# set x and y labels\n",
    "plt.xlabel('log(Reputation)')\n",
    "plt.ylabel('log(No of users)')\n",
    "\n",
    "plt.yscale('log')\n",
    "plt.xscale('log')\n",
    "plt.legend()\n",
    "plt.show()"
   ]
  },
  {
   "cell_type": "code",
   "execution_count": 97,
   "id": "6ab45c09",
   "metadata": {},
   "outputs": [
    {
     "data": {
      "image/png": "[encoded data removed]",
      "text/plain": [
       "<Figure size 432x288 with 1 Axes>"
      ]
     },
     "metadata": {
      "needs_background": "light"
     },
     "output_type": "display_data"
    }
   ],
   "source": [
    "df_users_2020_10 = df_users_2020[df_users_2020['Month']==10]\n",
    "x = np.array(df_users_2020_10['Reputation'])\n",
    "y = np.array(len(df_users_2020_10))\n",
    "\n",
    "\n",
    "# Create a Pandas DataFrame with the original data and the fitted curve\n",
    "df = pd.DataFrame({'x': x, 'y': y})\n",
    "\n",
    "# Plot the data and the fitted curve using Matplotlib\n",
    "plt.plot(df['x'], df['y'], 'o', label='Data(Aug 2020)')\n",
    "# set x and y labels\n",
    "plt.xlabel('log(Reputation)')\n",
    "plt.ylabel('log(No of users)')\n",
    "\n",
    "plt.yscale('log')\n",
    "plt.xscale('log')\n",
    "plt.legend()\n",
    "plt.show()"
   ]
  },
  {
   "cell_type": "code",
   "execution_count": 98,
   "id": "19094c96",
   "metadata": {},
   "outputs": [
    {
     "data": {
      "image/png": "[encoded data removed]",
      "text/plain": [
       "<Figure size 432x288 with 1 Axes>"
      ]
     },
     "metadata": {
      "needs_background": "light"
     },
     "output_type": "display_data"
    }
   ],
   "source": [
    "x = np.array(df_users_2021['Reputation'])\n",
    "y = np.array(len(df_users_2021))\n",
    "\n",
    "\n",
    "# Create a Pandas DataFrame with the original data and the fitted curve\n",
    "df = pd.DataFrame({'x': x, 'y': y})\n",
    "\n",
    "# Plot the data and the fitted curve using Matplotlib\n",
    "plt.plot(df['x'], df['y'], 'o', label='Data(2021)')\n",
    "# set x and y labels\n",
    "plt.xlabel('log(Reputation)')\n",
    "plt.ylabel('log(No of users)')\n",
    "\n",
    "plt.yscale('log')\n",
    "plt.xscale('log')\n",
    "plt.legend()\n",
    "plt.show()"
   ]
  },
  {
   "cell_type": "code",
   "execution_count": null,
   "id": "2f0740ca",
   "metadata": {},
   "outputs": [],
   "source": []
  }
 ],
 "metadata": {
  "kernelspec": {
   "display_name": "Python 3 (ipykernel)",
   "language": "python",
   "name": "python3"
  },
  "language_info": {
   "codemirror_mode": {
    "name": "ipython",
    "version": 3
   },
   "file_extension": ".py",
   "mimetype": "text/x-python",
   "name": "python",
   "nbconvert_exporter": "python",
   "pygments_lexer": "ipython3",
   "version": "3.10.5"
  }
 },
 "nbformat": 4,
 "nbformat_minor": 5
}
